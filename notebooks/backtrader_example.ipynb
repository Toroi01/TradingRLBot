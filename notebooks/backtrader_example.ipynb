{
 "cells": [
  {
   "cell_type": "code",
   "execution_count": 17,
   "metadata": {},
   "outputs": [],
   "source": [
    "from lib.backtest import BackTest\n",
    "from lib.action import Action\n",
    "from config import config\n",
    "from dataset.download_dataset.cryptodownloader import CryptoDownloader\n",
    "import os\n",
    "download_data = False\n",
    "output_path = \"../\" + config.DATA_SAVE_DIR\n",
    "if not os.path.exists(output_path):\n",
    "    os.makedirs(output_path)\n",
    "    download_data = True\n",
    "\n"
   ]
  },
  {
   "cell_type": "code",
   "execution_count": 18,
   "metadata": {
    "pycharm": {
     "name": "#%%\n"
    }
   },
   "outputs": [
    {
     "name": "stdout",
     "output_type": "stream",
     "text": [
      "Warning: Your Kaggle API key is readable by other users on this system! To fix this, you can run 'chmod 600 /Users/davidpedros/.kaggle/kaggle.json'\n",
      "Index(['open', 'close', 'high', 'low', 'volume', 'ticker', 'datetime'], dtype='object')\n"
     ]
    }
   ],
   "source": [
    "data_downloader = CryptoDownloader(config.START_DATE, config.END_DATE, [\"btc\"], output_path=output_path)\n",
    "if download_data:\n",
    "    data_downloader.download_data()\n",
    "df = data_downloader.load()"
   ]
  },
  {
   "cell_type": "code",
   "execution_count": 19,
   "metadata": {
    "pycharm": {
     "name": "#%%\n"
    }
   },
   "outputs": [
    {
     "data": {
      "text/plain": "                 open         close          high           low     volume  \\\n3319486  57477.380115  57469.000000  57489.000000  57350.000000  11.248819   \n3319487  57471.852000  57629.922062  57629.922062  57471.852000   6.466445   \n3319488  57629.922062  57653.000000  57668.000000  57629.000000   3.098331   \n3319489  57650.130000  57692.000000  57697.118000  57650.130000   6.221445   \n3319490  57691.000000  57737.796088  57765.000000  57691.000000   3.184753   \n...               ...           ...           ...           ...        ...   \n3320919  57772.000000  57761.884622  57772.337352  57761.000000   0.107872   \n3320920  57761.000000  57763.000000  57763.000000  57761.000000   0.397764   \n3320921  57763.086617  57774.000000  57774.000000  57763.086617   2.149833   \n3320922  57774.000000  57773.000000  57774.000000  57773.000000   0.025000   \n3320923  57773.000000  57774.000000  57774.000000  57767.000000   0.126541   \n\n        ticker            datetime  \n3319486    btc 2021-05-01 00:01:00  \n3319487    btc 2021-05-01 00:02:00  \n3319488    btc 2021-05-01 00:03:00  \n3319489    btc 2021-05-01 00:04:00  \n3319490    btc 2021-05-01 00:05:00  \n...        ...                 ...  \n3320919    btc 2021-05-01 23:55:00  \n3320920    btc 2021-05-01 23:56:00  \n3320921    btc 2021-05-01 23:57:00  \n3320922    btc 2021-05-01 23:58:00  \n3320923    btc 2021-05-01 23:59:00  \n\n[1438 rows x 7 columns]",
      "text/html": "<div>\n<style scoped>\n    .dataframe tbody tr th:only-of-type {\n        vertical-align: middle;\n    }\n\n    .dataframe tbody tr th {\n        vertical-align: top;\n    }\n\n    .dataframe thead th {\n        text-align: right;\n    }\n</style>\n<table border=\"1\" class=\"dataframe\">\n  <thead>\n    <tr style=\"text-align: right;\">\n      <th></th>\n      <th>open</th>\n      <th>close</th>\n      <th>high</th>\n      <th>low</th>\n      <th>volume</th>\n      <th>ticker</th>\n      <th>datetime</th>\n    </tr>\n  </thead>\n  <tbody>\n    <tr>\n      <th>3319486</th>\n      <td>57477.380115</td>\n      <td>57469.000000</td>\n      <td>57489.000000</td>\n      <td>57350.000000</td>\n      <td>11.248819</td>\n      <td>btc</td>\n      <td>2021-05-01 00:01:00</td>\n    </tr>\n    <tr>\n      <th>3319487</th>\n      <td>57471.852000</td>\n      <td>57629.922062</td>\n      <td>57629.922062</td>\n      <td>57471.852000</td>\n      <td>6.466445</td>\n      <td>btc</td>\n      <td>2021-05-01 00:02:00</td>\n    </tr>\n    <tr>\n      <th>3319488</th>\n      <td>57629.922062</td>\n      <td>57653.000000</td>\n      <td>57668.000000</td>\n      <td>57629.000000</td>\n      <td>3.098331</td>\n      <td>btc</td>\n      <td>2021-05-01 00:03:00</td>\n    </tr>\n    <tr>\n      <th>3319489</th>\n      <td>57650.130000</td>\n      <td>57692.000000</td>\n      <td>57697.118000</td>\n      <td>57650.130000</td>\n      <td>6.221445</td>\n      <td>btc</td>\n      <td>2021-05-01 00:04:00</td>\n    </tr>\n    <tr>\n      <th>3319490</th>\n      <td>57691.000000</td>\n      <td>57737.796088</td>\n      <td>57765.000000</td>\n      <td>57691.000000</td>\n      <td>3.184753</td>\n      <td>btc</td>\n      <td>2021-05-01 00:05:00</td>\n    </tr>\n    <tr>\n      <th>...</th>\n      <td>...</td>\n      <td>...</td>\n      <td>...</td>\n      <td>...</td>\n      <td>...</td>\n      <td>...</td>\n      <td>...</td>\n    </tr>\n    <tr>\n      <th>3320919</th>\n      <td>57772.000000</td>\n      <td>57761.884622</td>\n      <td>57772.337352</td>\n      <td>57761.000000</td>\n      <td>0.107872</td>\n      <td>btc</td>\n      <td>2021-05-01 23:55:00</td>\n    </tr>\n    <tr>\n      <th>3320920</th>\n      <td>57761.000000</td>\n      <td>57763.000000</td>\n      <td>57763.000000</td>\n      <td>57761.000000</td>\n      <td>0.397764</td>\n      <td>btc</td>\n      <td>2021-05-01 23:56:00</td>\n    </tr>\n    <tr>\n      <th>3320921</th>\n      <td>57763.086617</td>\n      <td>57774.000000</td>\n      <td>57774.000000</td>\n      <td>57763.086617</td>\n      <td>2.149833</td>\n      <td>btc</td>\n      <td>2021-05-01 23:57:00</td>\n    </tr>\n    <tr>\n      <th>3320922</th>\n      <td>57774.000000</td>\n      <td>57773.000000</td>\n      <td>57774.000000</td>\n      <td>57773.000000</td>\n      <td>0.025000</td>\n      <td>btc</td>\n      <td>2021-05-01 23:58:00</td>\n    </tr>\n    <tr>\n      <th>3320923</th>\n      <td>57773.000000</td>\n      <td>57774.000000</td>\n      <td>57774.000000</td>\n      <td>57767.000000</td>\n      <td>0.126541</td>\n      <td>btc</td>\n      <td>2021-05-01 23:59:00</td>\n    </tr>\n  </tbody>\n</table>\n<p>1438 rows × 7 columns</p>\n</div>"
     },
     "execution_count": 19,
     "metadata": {},
     "output_type": "execute_result"
    }
   ],
   "source": [
    "df"
   ]
  },
  {
   "cell_type": "code",
   "execution_count": 24,
   "metadata": {
    "pycharm": {
     "name": "#%%\n"
    }
   },
   "outputs": [],
   "source": [
    "# Creating a simple model that does not perform any action\n",
    "class StupidModel:\n",
    "\n",
    "    def decide_action(self, data_row, portfolio):\n",
    "        return []\n"
   ]
  },
  {
   "cell_type": "code",
   "execution_count": 26,
   "metadata": {
    "pycharm": {
     "name": "#%%\n"
    }
   },
   "outputs": [
    {
     "name": "stdout",
     "output_type": "stream",
     "text": [
      "                  datetime         close          high           low  \\\n",
      "ticker                               btc           btc           btc   \n",
      "0      2021-05-01 00:01:00  57469.000000  57489.000000  57350.000000   \n",
      "1      2021-05-01 00:02:00  57629.922062  57629.922062  57471.852000   \n",
      "2      2021-05-01 00:03:00  57653.000000  57668.000000  57629.000000   \n",
      "3      2021-05-01 00:04:00  57692.000000  57697.118000  57650.130000   \n",
      "4      2021-05-01 00:05:00  57737.796088  57765.000000  57691.000000   \n",
      "...                    ...           ...           ...           ...   \n",
      "1433   2021-05-01 23:55:00  57761.884622  57772.337352  57761.000000   \n",
      "1434   2021-05-01 23:56:00  57763.000000  57763.000000  57761.000000   \n",
      "1435   2021-05-01 23:57:00  57774.000000  57774.000000  57763.086617   \n",
      "1436   2021-05-01 23:58:00  57773.000000  57774.000000  57773.000000   \n",
      "1437   2021-05-01 23:59:00  57774.000000  57774.000000  57767.000000   \n",
      "\n",
      "                open     volume  \n",
      "ticker           btc        btc  \n",
      "0       57477.380115  11.248819  \n",
      "1       57471.852000   6.466445  \n",
      "2       57629.922062   3.098331  \n",
      "3       57650.130000   6.221445  \n",
      "4       57691.000000   3.184753  \n",
      "...              ...        ...  \n",
      "1433    57772.000000   0.107872  \n",
      "1434    57761.000000   0.397764  \n",
      "1435    57763.086617   2.149833  \n",
      "1436    57774.000000   0.025000  \n",
      "1437    57773.000000   0.126541  \n",
      "\n",
      "[1438 rows x 6 columns]\n"
     ]
    }
   ],
   "source": [
    "# Starting backtesting\n",
    "bt = BackTest()\n",
    "bt.run(StupidModel(), df)"
   ]
  },
  {
   "cell_type": "code",
   "execution_count": 27,
   "metadata": {
    "pycharm": {
     "name": "#%%\n"
    }
   },
   "outputs": [
    {
     "data": {
      "text/plain": "    total_capital            datetime\n0            1000 2021-05-01 00:01:00\n0            1000 2021-05-01 00:02:00\n0            1000 2021-05-01 00:03:00\n0            1000 2021-05-01 00:04:00\n0            1000 2021-05-01 00:05:00\n..            ...                 ...\n0            1000 2021-05-01 23:55:00\n0            1000 2021-05-01 23:56:00\n0            1000 2021-05-01 23:57:00\n0            1000 2021-05-01 23:58:00\n0            1000 2021-05-01 23:59:00\n\n[1438 rows x 2 columns]",
      "text/html": "<div>\n<style scoped>\n    .dataframe tbody tr th:only-of-type {\n        vertical-align: middle;\n    }\n\n    .dataframe tbody tr th {\n        vertical-align: top;\n    }\n\n    .dataframe thead th {\n        text-align: right;\n    }\n</style>\n<table border=\"1\" class=\"dataframe\">\n  <thead>\n    <tr style=\"text-align: right;\">\n      <th></th>\n      <th>total_capital</th>\n      <th>datetime</th>\n    </tr>\n  </thead>\n  <tbody>\n    <tr>\n      <th>0</th>\n      <td>1000</td>\n      <td>2021-05-01 00:01:00</td>\n    </tr>\n    <tr>\n      <th>0</th>\n      <td>1000</td>\n      <td>2021-05-01 00:02:00</td>\n    </tr>\n    <tr>\n      <th>0</th>\n      <td>1000</td>\n      <td>2021-05-01 00:03:00</td>\n    </tr>\n    <tr>\n      <th>0</th>\n      <td>1000</td>\n      <td>2021-05-01 00:04:00</td>\n    </tr>\n    <tr>\n      <th>0</th>\n      <td>1000</td>\n      <td>2021-05-01 00:05:00</td>\n    </tr>\n    <tr>\n      <th>...</th>\n      <td>...</td>\n      <td>...</td>\n    </tr>\n    <tr>\n      <th>0</th>\n      <td>1000</td>\n      <td>2021-05-01 23:55:00</td>\n    </tr>\n    <tr>\n      <th>0</th>\n      <td>1000</td>\n      <td>2021-05-01 23:56:00</td>\n    </tr>\n    <tr>\n      <th>0</th>\n      <td>1000</td>\n      <td>2021-05-01 23:57:00</td>\n    </tr>\n    <tr>\n      <th>0</th>\n      <td>1000</td>\n      <td>2021-05-01 23:58:00</td>\n    </tr>\n    <tr>\n      <th>0</th>\n      <td>1000</td>\n      <td>2021-05-01 23:59:00</td>\n    </tr>\n  </tbody>\n</table>\n<p>1438 rows × 2 columns</p>\n</div>"
     },
     "execution_count": 27,
     "metadata": {},
     "output_type": "execute_result"
    }
   ],
   "source": [
    "bt.historic_capital"
   ]
  },
  {
   "cell_type": "code",
   "execution_count": 23,
   "metadata": {
    "pycharm": {
     "name": "#%%\n"
    }
   },
   "outputs": [
    {
     "data": {
      "text/plain": "Empty DataFrame\nColumns: [datetime]\nIndex: []",
      "text/html": "<div>\n<style scoped>\n    .dataframe tbody tr th:only-of-type {\n        vertical-align: middle;\n    }\n\n    .dataframe tbody tr th {\n        vertical-align: top;\n    }\n\n    .dataframe thead th {\n        text-align: right;\n    }\n</style>\n<table border=\"1\" class=\"dataframe\">\n  <thead>\n    <tr style=\"text-align: right;\">\n      <th></th>\n      <th>datetime</th>\n    </tr>\n  </thead>\n  <tbody>\n  </tbody>\n</table>\n</div>"
     },
     "execution_count": 23,
     "metadata": {},
     "output_type": "execute_result"
    }
   ],
   "source": [
    "bt.historic_portfolio\n",
    "\n"
   ]
  },
  {
   "cell_type": "code",
   "execution_count": null,
   "outputs": [],
   "source": [],
   "metadata": {
    "collapsed": false,
    "pycharm": {
     "name": "#%%\n"
    }
   }
  }
 ],
 "metadata": {
  "kernelspec": {
   "display_name": "Python 3",
   "language": "python",
   "name": "python3"
  },
  "language_info": {
   "codemirror_mode": {
    "name": "ipython",
    "version": 3
   },
   "file_extension": ".py",
   "mimetype": "text/x-python",
   "name": "python",
   "nbconvert_exporter": "python",
   "pygments_lexer": "ipython3",
   "version": "3.9.4"
  },
  "toc": {
   "base_numbering": 1,
   "nav_menu": {},
   "number_sections": true,
   "sideBar": true,
   "skip_h1_title": false,
   "title_cell": "Table of Contents",
   "title_sidebar": "Contents",
   "toc_cell": false,
   "toc_position": {},
   "toc_section_display": true,
   "toc_window_display": false
  }
 },
 "nbformat": 4,
 "nbformat_minor": 1
}