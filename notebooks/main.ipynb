{
 "cells": [
  {
   "cell_type": "markdown",
   "metadata": {},
   "source": [
    "<a id='0'></a>\n",
    "# Part 1. Problem Definition"
   ]
  },
  {
   "cell_type": "markdown",
   "metadata": {},
   "source": [
    "This problem is to design an automated trading solution for single stock trading. We model the stock trading process as a Markov Decision Process (MDP). We then formulate our trading goal as a maximization problem.\n",
    "\n",
    "The algorithm is trained using Deep Reinforcement Learning (DRL) algorithms and the components of the reinforcement learning environment are:\n",
    "\n",
    "\n",
    "* Action: \n",
    "* Reward function: \n",
    "* State: \n",
    "* Environment: "
   ]
  },
  {
   "cell_type": "markdown",
   "metadata": {},
   "source": [
    "<a id='1'></a>\n",
    "# Part 2. Getting Started- Load Python Packages"
   ]
  },
  {
   "cell_type": "markdown",
   "metadata": {},
   "source": [
    "<a id='1.1'></a>\n",
    "## 2.1. Install all the packages"
   ]
  },
  {
   "cell_type": "code",
   "execution_count": 3,
   "metadata": {
    "ExecuteTime": {
     "end_time": "2021-07-07T16:58:46.178407Z",
     "start_time": "2021-07-07T16:58:34.361178Z"
    }
   },
   "outputs": [
    {
     "name": "stdout",
     "output_type": "stream",
     "text": [
      "Collecting git+git://github.com/dvdpedros/pyfolio@fix-extreme-drawdown (from -r ../requirements.txt (line 23))\n",
      "  Cloning git://github.com/dvdpedros/pyfolio (to revision fix-extreme-drawdown) to /private/var/folders/_4/4l2h0xdn6n1d86jjq29rfqdm0000gp/T/pip-req-build-hbfoek49\n",
      "  Running command git clone -q git://github.com/dvdpedros/pyfolio /private/var/folders/_4/4l2h0xdn6n1d86jjq29rfqdm0000gp/T/pip-req-build-hbfoek49\n",
      "  Running command git checkout -b fix-extreme-drawdown --track origin/fix-extreme-drawdown\n",
      "  Switched to a new branch 'fix-extreme-drawdown'\n",
      "  Branch 'fix-extreme-drawdown' set up to track remote branch 'fix-extreme-drawdown' from 'origin'.\n",
      "Requirement already satisfied: certifi==2020.12.5 in /Users/davidpedros/Library/Python/3.8/lib/python/site-packages (from -r ../requirements.txt (line 1)) (2020.12.5)\n",
      "Requirement already satisfied: chardet==4.0.0 in /Users/davidpedros/Library/Python/3.8/lib/python/site-packages (from -r ../requirements.txt (line 2)) (4.0.0)\n",
      "Requirement already satisfied: idna==2.10 in /Users/davidpedros/Library/Python/3.8/lib/python/site-packages (from -r ../requirements.txt (line 3)) (2.10)\n",
      "Requirement already satisfied: kaggle==1.5.12 in /Users/davidpedros/Library/Python/3.8/lib/python/site-packages (from -r ../requirements.txt (line 4)) (1.5.12)\n",
      "Requirement already satisfied: lxml==4.6.3 in /Users/davidpedros/Library/Python/3.8/lib/python/site-packages (from -r ../requirements.txt (line 5)) (4.6.3)\n",
      "Requirement already satisfied: multitasking==0.0.9 in /Users/davidpedros/Library/Python/3.8/lib/python/site-packages (from -r ../requirements.txt (line 6)) (0.0.9)\n",
      "Requirement already satisfied: numpy==1.20.2 in /Users/davidpedros/Library/Python/3.8/lib/python/site-packages (from -r ../requirements.txt (line 7)) (1.20.2)\n",
      "Requirement already satisfied: pandas==1.2.4 in /Users/davidpedros/Library/Python/3.8/lib/python/site-packages (from -r ../requirements.txt (line 8)) (1.2.4)\n",
      "Requirement already satisfied: python-dateutil==2.8.1 in /Users/davidpedros/Library/Python/3.8/lib/python/site-packages (from -r ../requirements.txt (line 9)) (2.8.1)\n",
      "Requirement already satisfied: python-slugify==5.0.2 in /Users/davidpedros/Library/Python/3.8/lib/python/site-packages (from -r ../requirements.txt (line 10)) (5.0.2)\n",
      "Requirement already satisfied: pytz==2021.1 in /Users/davidpedros/Library/Python/3.8/lib/python/site-packages (from -r ../requirements.txt (line 11)) (2021.1)\n",
      "Requirement already satisfied: requests==2.25.1 in /Users/davidpedros/Library/Python/3.8/lib/python/site-packages (from -r ../requirements.txt (line 12)) (2.25.1)\n",
      "Requirement already satisfied: six==1.16.0 in /Users/davidpedros/Library/Python/3.8/lib/python/site-packages (from -r ../requirements.txt (line 13)) (1.16.0)\n",
      "Requirement already satisfied: text-unidecode==1.3 in /Users/davidpedros/Library/Python/3.8/lib/python/site-packages (from -r ../requirements.txt (line 14)) (1.3)\n",
      "Requirement already satisfied: tqdm==4.60.0 in /Users/davidpedros/Library/Python/3.8/lib/python/site-packages (from -r ../requirements.txt (line 15)) (4.60.0)\n",
      "Requirement already satisfied: urllib3==1.26.4 in /Users/davidpedros/Library/Python/3.8/lib/python/site-packages (from -r ../requirements.txt (line 16)) (1.26.4)\n",
      "Requirement already satisfied: wget==3.2 in /Users/davidpedros/Library/Python/3.8/lib/python/site-packages (from -r ../requirements.txt (line 17)) (3.2)\n",
      "Requirement already satisfied: yfinance==0.1.59 in /Users/davidpedros/Library/Python/3.8/lib/python/site-packages (from -r ../requirements.txt (line 18)) (0.1.59)\n",
      "Requirement already satisfied: gym==0.18.3 in /Users/davidpedros/Library/Python/3.8/lib/python/site-packages (from -r ../requirements.txt (line 19)) (0.18.3)\n",
      "Requirement already satisfied: matplotlib==3.4.2 in /Users/davidpedros/Library/Python/3.8/lib/python/site-packages (from -r ../requirements.txt (line 20)) (3.4.2)\n",
      "Requirement already satisfied: stable-baselines3[extra] in /Users/davidpedros/Library/Python/3.8/lib/python/site-packages (from -r ../requirements.txt (line 21)) (1.0)\n",
      "Requirement already satisfied: stockstats==0.3.2 in /Users/davidpedros/Library/Python/3.8/lib/python/site-packages (from -r ../requirements.txt (line 22)) (0.3.2)\n",
      "Requirement already satisfied: ta==0.7.0 in /Users/davidpedros/Library/Python/3.8/lib/python/site-packages (from -r ../requirements.txt (line 25)) (0.7.0)\n",
      "Requirement already satisfied: empirical==0.2 in /Users/davidpedros/Library/Python/3.8/lib/python/site-packages (from -r ../requirements.txt (line 26)) (0.2)\n",
      "Requirement already satisfied: plotly==4.14.3 in /Users/davidpedros/Library/Python/3.8/lib/python/site-packages (from -r ../requirements.txt (line 27)) (4.14.3)\n",
      "Requirement already satisfied: optuna==2.8.0 in /Users/davidpedros/Library/Python/3.8/lib/python/site-packages (from -r ../requirements.txt (line 29)) (2.8.0)\n",
      "Requirement already satisfied: ipython>=3.2.3 in /Users/davidpedros/Library/Python/3.8/lib/python/site-packages (from pyfolio==0.9.2+76.g37d9c58->-r ../requirements.txt (line 23)) (7.24.0)\n",
      "Requirement already satisfied: scipy>=0.14.0 in /Users/davidpedros/Library/Python/3.8/lib/python/site-packages (from pyfolio==0.9.2+76.g37d9c58->-r ../requirements.txt (line 23)) (1.6.3)\n",
      "Requirement already satisfied: scikit-learn>=0.16.1 in /Library/Python/3.8/site-packages (from pyfolio==0.9.2+76.g37d9c58->-r ../requirements.txt (line 23)) (0.24.2)\n",
      "Requirement already satisfied: seaborn>=0.7.1 in /Users/davidpedros/Library/Python/3.8/lib/python/site-packages (from pyfolio==0.9.2+76.g37d9c58->-r ../requirements.txt (line 23)) (0.11.1)\n",
      "Requirement already satisfied: empyrical>=0.5.0 in /Users/davidpedros/Library/Python/3.8/lib/python/site-packages (from pyfolio==0.9.2+76.g37d9c58->-r ../requirements.txt (line 23)) (0.5.5)\n",
      "Requirement already satisfied: cloudpickle<1.7.0,>=1.2.0 in /Users/davidpedros/Library/Python/3.8/lib/python/site-packages (from gym==0.18.3->-r ../requirements.txt (line 19)) (1.6.0)\n",
      "Requirement already satisfied: Pillow<=8.2.0 in /Users/davidpedros/Library/Python/3.8/lib/python/site-packages (from gym==0.18.3->-r ../requirements.txt (line 19)) (8.2.0)\n",
      "Requirement already satisfied: pyglet<=1.5.15,>=1.4.0 in /Users/davidpedros/Library/Python/3.8/lib/python/site-packages (from gym==0.18.3->-r ../requirements.txt (line 19)) (1.5.15)\n",
      "Requirement already satisfied: kiwisolver>=1.0.1 in /Users/davidpedros/Library/Python/3.8/lib/python/site-packages (from matplotlib==3.4.2->-r ../requirements.txt (line 20)) (1.3.1)\n",
      "Requirement already satisfied: cycler>=0.10 in /Users/davidpedros/Library/Python/3.8/lib/python/site-packages (from matplotlib==3.4.2->-r ../requirements.txt (line 20)) (0.10.0)\n",
      "Requirement already satisfied: pyparsing>=2.2.1 in /Users/davidpedros/Library/Python/3.8/lib/python/site-packages (from matplotlib==3.4.2->-r ../requirements.txt (line 20)) (2.4.7)\n",
      "Requirement already satisfied: int-date>=0.1.7 in /Users/davidpedros/Library/Python/3.8/lib/python/site-packages (from stockstats==0.3.2->-r ../requirements.txt (line 22)) (0.1.8)\n",
      "Requirement already satisfied: sympy>=0.7.2 in /Users/davidpedros/Library/Python/3.8/lib/python/site-packages (from empirical==0.2->-r ../requirements.txt (line 26)) (1.8)\n",
      "Requirement already satisfied: retrying>=1.3.3 in /Users/davidpedros/Library/Python/3.8/lib/python/site-packages (from plotly==4.14.3->-r ../requirements.txt (line 27)) (1.3.3)\n",
      "Requirement already satisfied: cmaes>=0.8.2 in /Users/davidpedros/Library/Python/3.8/lib/python/site-packages (from optuna==2.8.0->-r ../requirements.txt (line 29)) (0.8.2)\n",
      "Requirement already satisfied: colorlog in /Users/davidpedros/Library/Python/3.8/lib/python/site-packages (from optuna==2.8.0->-r ../requirements.txt (line 29)) (5.0.1)\n",
      "Requirement already satisfied: cliff in /Users/davidpedros/Library/Python/3.8/lib/python/site-packages (from optuna==2.8.0->-r ../requirements.txt (line 29)) (3.8.0)\n",
      "Requirement already satisfied: sqlalchemy>=1.1.0 in /Users/davidpedros/Library/Python/3.8/lib/python/site-packages (from optuna==2.8.0->-r ../requirements.txt (line 29)) (1.4.14)\n",
      "Requirement already satisfied: packaging>=20.0 in /Users/davidpedros/Library/Python/3.8/lib/python/site-packages (from optuna==2.8.0->-r ../requirements.txt (line 29)) (20.9)\n",
      "Requirement already satisfied: alembic in /Users/davidpedros/Library/Python/3.8/lib/python/site-packages (from optuna==2.8.0->-r ../requirements.txt (line 29)) (1.4.1)\n"
     ]
    },
    {
     "name": "stdout",
     "output_type": "stream",
     "text": [
      "Requirement already satisfied: pandas-datareader>=0.2 in /Users/davidpedros/Library/Python/3.8/lib/python/site-packages (from empyrical>=0.5.0->pyfolio==0.9.2+76.g37d9c58->-r ../requirements.txt (line 23)) (0.9.0)\n",
      "Requirement already satisfied: decorator in /Users/davidpedros/Library/Python/3.8/lib/python/site-packages (from ipython>=3.2.3->pyfolio==0.9.2+76.g37d9c58->-r ../requirements.txt (line 23)) (5.0.9)\n",
      "Requirement already satisfied: pygments in /Users/davidpedros/Library/Python/3.8/lib/python/site-packages (from ipython>=3.2.3->pyfolio==0.9.2+76.g37d9c58->-r ../requirements.txt (line 23)) (2.9.0)\n",
      "Requirement already satisfied: appnope in /Users/davidpedros/Library/Python/3.8/lib/python/site-packages (from ipython>=3.2.3->pyfolio==0.9.2+76.g37d9c58->-r ../requirements.txt (line 23)) (0.1.2)\n",
      "Requirement already satisfied: setuptools>=18.5 in /Library/Developer/CommandLineTools/Library/Frameworks/Python3.framework/Versions/3.8/lib/python3.8/site-packages (from ipython>=3.2.3->pyfolio==0.9.2+76.g37d9c58->-r ../requirements.txt (line 23)) (41.2.0)\n",
      "Requirement already satisfied: prompt-toolkit!=3.0.0,!=3.0.1,<3.1.0,>=2.0.0 in /Users/davidpedros/Library/Python/3.8/lib/python/site-packages (from ipython>=3.2.3->pyfolio==0.9.2+76.g37d9c58->-r ../requirements.txt (line 23)) (3.0.18)\n",
      "Requirement already satisfied: backcall in /Users/davidpedros/Library/Python/3.8/lib/python/site-packages (from ipython>=3.2.3->pyfolio==0.9.2+76.g37d9c58->-r ../requirements.txt (line 23)) (0.2.0)\n",
      "Requirement already satisfied: pexpect>4.3 in /Users/davidpedros/Library/Python/3.8/lib/python/site-packages (from ipython>=3.2.3->pyfolio==0.9.2+76.g37d9c58->-r ../requirements.txt (line 23)) (4.8.0)\n",
      "Requirement already satisfied: pickleshare in /Users/davidpedros/Library/Python/3.8/lib/python/site-packages (from ipython>=3.2.3->pyfolio==0.9.2+76.g37d9c58->-r ../requirements.txt (line 23)) (0.7.5)\n",
      "Requirement already satisfied: traitlets>=4.2 in /Users/davidpedros/Library/Python/3.8/lib/python/site-packages (from ipython>=3.2.3->pyfolio==0.9.2+76.g37d9c58->-r ../requirements.txt (line 23)) (5.0.5)\n",
      "Requirement already satisfied: jedi>=0.16 in /Users/davidpedros/Library/Python/3.8/lib/python/site-packages (from ipython>=3.2.3->pyfolio==0.9.2+76.g37d9c58->-r ../requirements.txt (line 23)) (0.18.0)\n",
      "Requirement already satisfied: matplotlib-inline in /Users/davidpedros/Library/Python/3.8/lib/python/site-packages (from ipython>=3.2.3->pyfolio==0.9.2+76.g37d9c58->-r ../requirements.txt (line 23)) (0.1.2)\n",
      "Requirement already satisfied: parso<0.9.0,>=0.8.0 in /Users/davidpedros/Library/Python/3.8/lib/python/site-packages (from jedi>=0.16->ipython>=3.2.3->pyfolio==0.9.2+76.g37d9c58->-r ../requirements.txt (line 23)) (0.8.2)\n",
      "Requirement already satisfied: ptyprocess>=0.5 in /Users/davidpedros/Library/Python/3.8/lib/python/site-packages (from pexpect>4.3->ipython>=3.2.3->pyfolio==0.9.2+76.g37d9c58->-r ../requirements.txt (line 23)) (0.7.0)\n",
      "Requirement already satisfied: wcwidth in /Users/davidpedros/Library/Python/3.8/lib/python/site-packages (from prompt-toolkit!=3.0.0,!=3.0.1,<3.1.0,>=2.0.0->ipython>=3.2.3->pyfolio==0.9.2+76.g37d9c58->-r ../requirements.txt (line 23)) (0.2.5)\n",
      "Requirement already satisfied: threadpoolctl>=2.0.0 in /Library/Python/3.8/site-packages (from scikit-learn>=0.16.1->pyfolio==0.9.2+76.g37d9c58->-r ../requirements.txt (line 23)) (2.1.0)\n",
      "Requirement already satisfied: joblib>=0.11 in /Library/Python/3.8/site-packages (from scikit-learn>=0.16.1->pyfolio==0.9.2+76.g37d9c58->-r ../requirements.txt (line 23)) (1.0.1)\n",
      "Requirement already satisfied: greenlet!=0.4.17 in /Users/davidpedros/Library/Python/3.8/lib/python/site-packages (from sqlalchemy>=1.1.0->optuna==2.8.0->-r ../requirements.txt (line 29)) (1.1.0)\n",
      "Requirement already satisfied: mpmath>=0.19 in /Users/davidpedros/Library/Python/3.8/lib/python/site-packages (from sympy>=0.7.2->empirical==0.2->-r ../requirements.txt (line 26)) (1.2.1)\n",
      "Requirement already satisfied: ipython-genutils in /Users/davidpedros/Library/Python/3.8/lib/python/site-packages (from traitlets>=4.2->ipython>=3.2.3->pyfolio==0.9.2+76.g37d9c58->-r ../requirements.txt (line 23)) (0.2.0)\n",
      "Requirement already satisfied: Mako in /Users/davidpedros/Library/Python/3.8/lib/python/site-packages (from alembic->optuna==2.8.0->-r ../requirements.txt (line 29)) (1.1.4)\n",
      "Requirement already satisfied: python-editor>=0.3 in /Users/davidpedros/Library/Python/3.8/lib/python/site-packages (from alembic->optuna==2.8.0->-r ../requirements.txt (line 29)) (1.0.4)\n",
      "Requirement already satisfied: cmd2>=1.0.0 in /Users/davidpedros/Library/Python/3.8/lib/python/site-packages (from cliff->optuna==2.8.0->-r ../requirements.txt (line 29)) (2.1.2)\n",
      "Requirement already satisfied: PrettyTable>=0.7.2 in /Users/davidpedros/Library/Python/3.8/lib/python/site-packages (from cliff->optuna==2.8.0->-r ../requirements.txt (line 29)) (2.1.0)\n",
      "Requirement already satisfied: pbr!=2.1.0,>=2.0.0 in /Users/davidpedros/Library/Python/3.8/lib/python/site-packages (from cliff->optuna==2.8.0->-r ../requirements.txt (line 29)) (5.6.0)\n",
      "Requirement already satisfied: PyYAML>=3.12 in /Users/davidpedros/Library/Python/3.8/lib/python/site-packages (from cliff->optuna==2.8.0->-r ../requirements.txt (line 29)) (5.4.1)\n",
      "Requirement already satisfied: stevedore>=2.0.1 in /Users/davidpedros/Library/Python/3.8/lib/python/site-packages (from cliff->optuna==2.8.0->-r ../requirements.txt (line 29)) (3.3.0)\n",
      "Requirement already satisfied: pyperclip>=1.6 in /Users/davidpedros/Library/Python/3.8/lib/python/site-packages (from cmd2>=1.0.0->cliff->optuna==2.8.0->-r ../requirements.txt (line 29)) (1.8.2)\n",
      "Requirement already satisfied: colorama>=0.3.7 in /Users/davidpedros/Library/Python/3.8/lib/python/site-packages (from cmd2>=1.0.0->cliff->optuna==2.8.0->-r ../requirements.txt (line 29)) (0.4.4)\n",
      "Requirement already satisfied: attrs>=16.3.0 in /Users/davidpedros/Library/Python/3.8/lib/python/site-packages (from cmd2>=1.0.0->cliff->optuna==2.8.0->-r ../requirements.txt (line 29)) (21.2.0)\n",
      "Requirement already satisfied: MarkupSafe>=0.9.2 in /Users/davidpedros/Library/Python/3.8/lib/python/site-packages (from Mako->alembic->optuna==2.8.0->-r ../requirements.txt (line 29)) (1.1.1)\n",
      "Requirement already satisfied: torch>=1.4.0 in /Users/davidpedros/Library/Python/3.8/lib/python/site-packages (from stable-baselines3[extra]->-r ../requirements.txt (line 21)) (1.8.1)\n",
      "Requirement already satisfied: atari-py~=0.2.0 in /Users/davidpedros/Library/Python/3.8/lib/python/site-packages (from stable-baselines3[extra]->-r ../requirements.txt (line 21)) (0.2.9)\n",
      "Requirement already satisfied: psutil in /Users/davidpedros/Library/Python/3.8/lib/python/site-packages (from stable-baselines3[extra]->-r ../requirements.txt (line 21)) (5.8.0)\n",
      "Requirement already satisfied: tensorboard>=2.2.0 in /Users/davidpedros/Library/Python/3.8/lib/python/site-packages (from stable-baselines3[extra]->-r ../requirements.txt (line 21)) (2.5.0)\n",
      "Requirement already satisfied: opencv-python in /Users/davidpedros/Library/Python/3.8/lib/python/site-packages (from stable-baselines3[extra]->-r ../requirements.txt (line 21)) (4.5.2.52)\n",
      "Requirement already satisfied: tensorboard-plugin-wit>=1.6.0 in /Users/davidpedros/Library/Python/3.8/lib/python/site-packages (from tensorboard>=2.2.0->stable-baselines3[extra]->-r ../requirements.txt (line 21)) (1.8.0)\n",
      "Requirement already satisfied: wheel>=0.26 in /Library/Developer/CommandLineTools/Library/Frameworks/Python3.framework/Versions/3.8/lib/python3.8/site-packages (from tensorboard>=2.2.0->stable-baselines3[extra]->-r ../requirements.txt (line 21)) (0.33.1)\n",
      "Requirement already satisfied: werkzeug>=0.11.15 in /Users/davidpedros/Library/Python/3.8/lib/python/site-packages (from tensorboard>=2.2.0->stable-baselines3[extra]->-r ../requirements.txt (line 21)) (1.0.1)\n",
      "Requirement already satisfied: markdown>=2.6.8 in /Users/davidpedros/Library/Python/3.8/lib/python/site-packages (from tensorboard>=2.2.0->stable-baselines3[extra]->-r ../requirements.txt (line 21)) (3.3.4)\n",
      "Requirement already satisfied: tensorboard-data-server<0.7.0,>=0.6.0 in /Users/davidpedros/Library/Python/3.8/lib/python/site-packages (from tensorboard>=2.2.0->stable-baselines3[extra]->-r ../requirements.txt (line 21)) (0.6.1)\n",
      "Requirement already satisfied: protobuf>=3.6.0 in /Users/davidpedros/Library/Python/3.8/lib/python/site-packages (from tensorboard>=2.2.0->stable-baselines3[extra]->-r ../requirements.txt (line 21)) (3.16.0)\n",
      "Requirement already satisfied: grpcio>=1.24.3 in /Users/davidpedros/Library/Python/3.8/lib/python/site-packages (from tensorboard>=2.2.0->stable-baselines3[extra]->-r ../requirements.txt (line 21)) (1.38.0)\n",
      "Requirement already satisfied: google-auth-oauthlib<0.5,>=0.4.1 in /Users/davidpedros/Library/Python/3.8/lib/python/site-packages (from tensorboard>=2.2.0->stable-baselines3[extra]->-r ../requirements.txt (line 21)) (0.4.4)\n",
      "Requirement already satisfied: google-auth<2,>=1.6.3 in /Users/davidpedros/Library/Python/3.8/lib/python/site-packages (from tensorboard>=2.2.0->stable-baselines3[extra]->-r ../requirements.txt (line 21)) (1.30.1)\n",
      "Requirement already satisfied: absl-py>=0.4 in /Users/davidpedros/Library/Python/3.8/lib/python/site-packages (from tensorboard>=2.2.0->stable-baselines3[extra]->-r ../requirements.txt (line 21)) (0.12.0)\n"
     ]
    },
    {
     "name": "stdout",
     "output_type": "stream",
     "text": [
      "Requirement already satisfied: cachetools<5.0,>=2.0.0 in /Users/davidpedros/Library/Python/3.8/lib/python/site-packages (from google-auth<2,>=1.6.3->tensorboard>=2.2.0->stable-baselines3[extra]->-r ../requirements.txt (line 21)) (4.2.2)\n",
      "Requirement already satisfied: pyasn1-modules>=0.2.1 in /Users/davidpedros/Library/Python/3.8/lib/python/site-packages (from google-auth<2,>=1.6.3->tensorboard>=2.2.0->stable-baselines3[extra]->-r ../requirements.txt (line 21)) (0.2.8)\n",
      "Requirement already satisfied: rsa<5,>=3.1.4 in /Users/davidpedros/Library/Python/3.8/lib/python/site-packages (from google-auth<2,>=1.6.3->tensorboard>=2.2.0->stable-baselines3[extra]->-r ../requirements.txt (line 21)) (4.7.2)\n",
      "Requirement already satisfied: requests-oauthlib>=0.7.0 in /Users/davidpedros/Library/Python/3.8/lib/python/site-packages (from google-auth-oauthlib<0.5,>=0.4.1->tensorboard>=2.2.0->stable-baselines3[extra]->-r ../requirements.txt (line 21)) (1.3.0)\n",
      "Requirement already satisfied: pyasn1<0.5.0,>=0.4.6 in /Users/davidpedros/Library/Python/3.8/lib/python/site-packages (from pyasn1-modules>=0.2.1->google-auth<2,>=1.6.3->tensorboard>=2.2.0->stable-baselines3[extra]->-r ../requirements.txt (line 21)) (0.4.8)\n",
      "Requirement already satisfied: oauthlib>=3.0.0 in /Users/davidpedros/Library/Python/3.8/lib/python/site-packages (from requests-oauthlib>=0.7.0->google-auth-oauthlib<0.5,>=0.4.1->tensorboard>=2.2.0->stable-baselines3[extra]->-r ../requirements.txt (line 21)) (3.1.0)\n",
      "Requirement already satisfied: typing-extensions in /Users/davidpedros/Library/Python/3.8/lib/python/site-packages (from torch>=1.4.0->stable-baselines3[extra]->-r ../requirements.txt (line 21)) (3.10.0.0)\n",
      "\u001b[33mWARNING: Value for scheme.platlib does not match. Please report this to <https://github.com/pypa/pip/issues/9617>\n",
      "distutils: /Users/davidpedros/Library/Python/3.8/lib/python/site-packages\n",
      "sysconfig: /Users/davidpedros/Library/Python/3.8/lib/python3.8/site-packages\u001b[0m\n",
      "\u001b[33mWARNING: Value for scheme.purelib does not match. Please report this to <https://github.com/pypa/pip/issues/9617>\n",
      "distutils: /Users/davidpedros/Library/Python/3.8/lib/python/site-packages\n",
      "sysconfig: /Users/davidpedros/Library/Python/3.8/lib/python3.8/site-packages\u001b[0m\n",
      "\u001b[33mWARNING: Value for scheme.headers does not match. Please report this to <https://github.com/pypa/pip/issues/9617>\n",
      "distutils: /Users/davidpedros/Library/Python/3.8/include/python3.8/UNKNOWN\n",
      "sysconfig: /Users/davidpedros/Library/Python/3.8/include/python3.8\u001b[0m\n",
      "\u001b[33mWARNING: Additional context:\n",
      "user = True\n",
      "home = None\n",
      "root = None\n",
      "prefix = None\u001b[0m\n",
      "\u001b[33mWARNING: You are using pip version 21.1; however, version 21.1.3 is available.\n",
      "You should consider upgrading via the '/Library/Developer/CommandLineTools/usr/bin/python3 -m pip install --upgrade pip' command.\u001b[0m\n"
     ]
    }
   ],
   "source": [
    "!pip install -r ../requirements.txt --user"
   ]
  },
  {
   "cell_type": "markdown",
   "metadata": {},
   "source": [
    "<a id='1.2'></a>\n",
    "## 2.2. Import Packages"
   ]
  },
  {
   "cell_type": "code",
   "execution_count": 1,
   "metadata": {
    "ExecuteTime": {
     "end_time": "2021-07-07T17:00:56.233485Z",
     "start_time": "2021-07-07T17:00:54.657807Z"
    }
   },
   "outputs": [
    {
     "name": "stderr",
     "output_type": "stream",
     "text": [
      "/usr/local/lib/python3.9/site-packages/pyfolio/pos.py:26: UserWarning: Module \"zipline.assets\" not found; multipliers will not be applied to position notionals.\n",
      "  warnings.warn(\n"
     ]
    }
   ],
   "source": [
    "%load_ext autoreload\n",
    "%autoreload \n",
    "import os\n",
    "import sys\n",
    "sys.path.append(os.path.abspath(os.path.join('..')))\n",
    "from src.config import config\n",
    "from src.dataset.cryptodownloader import CryptoDownloader\n",
    "from src.preprocessing.preprocessors import FeatureEngineer\n",
    "from src.preprocessing.data import data_split\n",
    "from src.environment.env_custom import CustomTradingEnv\n",
    "from src.model.models import DRLAgent\n",
    "from src.evaluate.backtest import BackTest\n",
    "import warnings\n",
    "warnings.filterwarnings(\"ignore\")\n",
    "\n"
   ]
  },
  {
   "cell_type": "markdown",
   "metadata": {},
   "source": [
    "<a id='1.3'></a>\n",
    "## 2.3 Create Folders"
   ]
  },
  {
   "cell_type": "code",
   "execution_count": 2,
   "metadata": {
    "ExecuteTime": {
     "end_time": "2021-07-07T17:00:59.362852Z",
     "start_time": "2021-07-07T17:00:59.358159Z"
    }
   },
   "outputs": [],
   "source": [
    "import os\n",
    "download_data = False\n",
    "if not os.path.exists(config.DATA_SAVE_DIR):\n",
    "    os.makedirs(config.DATA_SAVE_DIR)\n",
    "    download_data = True\n",
    "if not os.path.exists(config.TRAINED_MODEL_DIR):\n",
    "    os.makedirs(config.TRAINED_MODEL_DIR)\n",
    "if not os.path.exists(config.TENSORBOARD_LOG_DIR):\n",
    "    os.makedirs(config.TENSORBOARD_LOG_DIR)\n",
    "if not os.path.exists(config.RESULTS_DIR):\n",
    "    os.makedirs(config.RESULTS_DIR)"
   ]
  },
  {
   "cell_type": "markdown",
   "metadata": {},
   "source": [
    "<a id='2'></a>\n",
    "# Part 3. Download Data"
   ]
  },
  {
   "cell_type": "code",
   "execution_count": 3,
   "metadata": {
    "ExecuteTime": {
     "end_time": "2021-07-07T17:01:01.530962Z",
     "start_time": "2021-07-07T17:01:01.431819Z"
    },
    "scrolled": true
   },
   "outputs": [],
   "source": [
    "data_downloader = CryptoDownloader(config.START_DATE, config.END_DATE, config.MULTIPLE_TICKER_8, config.DATA_SAVE_DIR, config.DATA_GRANULARITY)\n",
    "if download_data:    \n",
    "    data_downloader.download_data()\n",
    "df = data_downloader.load()"
   ]
  },
  {
   "cell_type": "code",
   "execution_count": 4,
   "metadata": {
    "ExecuteTime": {
     "end_time": "2021-07-07T17:01:02.172843Z",
     "start_time": "2021-07-07T17:01:02.152116Z"
    }
   },
   "outputs": [
    {
     "data": {
      "text/html": [
       "<div>\n",
       "<style scoped>\n",
       "    .dataframe tbody tr th:only-of-type {\n",
       "        vertical-align: middle;\n",
       "    }\n",
       "\n",
       "    .dataframe tbody tr th {\n",
       "        vertical-align: top;\n",
       "    }\n",
       "\n",
       "    .dataframe thead th {\n",
       "        text-align: right;\n",
       "    }\n",
       "</style>\n",
       "<table border=\"1\" class=\"dataframe\">\n",
       "  <thead>\n",
       "    <tr style=\"text-align: right;\">\n",
       "      <th></th>\n",
       "      <th>date</th>\n",
       "      <th>open</th>\n",
       "      <th>high</th>\n",
       "      <th>low</th>\n",
       "      <th>close</th>\n",
       "      <th>volume</th>\n",
       "      <th>tic</th>\n",
       "    </tr>\n",
       "  </thead>\n",
       "  <tbody>\n",
       "    <tr>\n",
       "      <th>0</th>\n",
       "      <td>2020-01-01 00:00:00</td>\n",
       "      <td>7195.24</td>\n",
       "      <td>7196.25</td>\n",
       "      <td>7175.46</td>\n",
       "      <td>7177.02</td>\n",
       "      <td>511.814901</td>\n",
       "      <td>btc</td>\n",
       "    </tr>\n",
       "    <tr>\n",
       "      <th>1</th>\n",
       "      <td>2020-01-01 01:00:00</td>\n",
       "      <td>7176.47</td>\n",
       "      <td>7230.00</td>\n",
       "      <td>7175.71</td>\n",
       "      <td>7216.27</td>\n",
       "      <td>883.052603</td>\n",
       "      <td>btc</td>\n",
       "    </tr>\n",
       "    <tr>\n",
       "      <th>2</th>\n",
       "      <td>2020-01-01 02:00:00</td>\n",
       "      <td>7215.52</td>\n",
       "      <td>7244.87</td>\n",
       "      <td>7211.41</td>\n",
       "      <td>7242.85</td>\n",
       "      <td>655.156809</td>\n",
       "      <td>btc</td>\n",
       "    </tr>\n",
       "    <tr>\n",
       "      <th>3</th>\n",
       "      <td>2020-01-01 03:00:00</td>\n",
       "      <td>7242.66</td>\n",
       "      <td>7245.00</td>\n",
       "      <td>7220.00</td>\n",
       "      <td>7225.01</td>\n",
       "      <td>783.724867</td>\n",
       "      <td>btc</td>\n",
       "    </tr>\n",
       "    <tr>\n",
       "      <th>4</th>\n",
       "      <td>2020-01-01 04:00:00</td>\n",
       "      <td>7225.00</td>\n",
       "      <td>7230.00</td>\n",
       "      <td>7215.03</td>\n",
       "      <td>7217.27</td>\n",
       "      <td>467.812578</td>\n",
       "      <td>btc</td>\n",
       "    </tr>\n",
       "    <tr>\n",
       "      <th>...</th>\n",
       "      <td>...</td>\n",
       "      <td>...</td>\n",
       "      <td>...</td>\n",
       "      <td>...</td>\n",
       "      <td>...</td>\n",
       "      <td>...</td>\n",
       "      <td>...</td>\n",
       "    </tr>\n",
       "    <tr>\n",
       "      <th>105019</th>\n",
       "      <td>2021-06-30 19:00:00</td>\n",
       "      <td>140.83</td>\n",
       "      <td>141.76</td>\n",
       "      <td>140.33</td>\n",
       "      <td>141.55</td>\n",
       "      <td>21511.253020</td>\n",
       "      <td>ltc</td>\n",
       "    </tr>\n",
       "    <tr>\n",
       "      <th>105020</th>\n",
       "      <td>2021-06-30 20:00:00</td>\n",
       "      <td>141.63</td>\n",
       "      <td>142.91</td>\n",
       "      <td>140.70</td>\n",
       "      <td>142.16</td>\n",
       "      <td>32348.880040</td>\n",
       "      <td>ltc</td>\n",
       "    </tr>\n",
       "    <tr>\n",
       "      <th>105021</th>\n",
       "      <td>2021-06-30 21:00:00</td>\n",
       "      <td>142.16</td>\n",
       "      <td>143.86</td>\n",
       "      <td>142.14</td>\n",
       "      <td>143.25</td>\n",
       "      <td>23128.015840</td>\n",
       "      <td>ltc</td>\n",
       "    </tr>\n",
       "    <tr>\n",
       "      <th>105022</th>\n",
       "      <td>2021-06-30 22:00:00</td>\n",
       "      <td>143.25</td>\n",
       "      <td>144.41</td>\n",
       "      <td>142.39</td>\n",
       "      <td>143.50</td>\n",
       "      <td>22183.430460</td>\n",
       "      <td>ltc</td>\n",
       "    </tr>\n",
       "    <tr>\n",
       "      <th>105023</th>\n",
       "      <td>2021-06-30 23:00:00</td>\n",
       "      <td>143.51</td>\n",
       "      <td>144.62</td>\n",
       "      <td>143.13</td>\n",
       "      <td>144.26</td>\n",
       "      <td>16473.995740</td>\n",
       "      <td>ltc</td>\n",
       "    </tr>\n",
       "  </tbody>\n",
       "</table>\n",
       "<p>105024 rows × 7 columns</p>\n",
       "</div>"
      ],
      "text/plain": [
       "                       date     open     high      low    close        volume  \\\n",
       "0       2020-01-01 00:00:00  7195.24  7196.25  7175.46  7177.02    511.814901   \n",
       "1       2020-01-01 01:00:00  7176.47  7230.00  7175.71  7216.27    883.052603   \n",
       "2       2020-01-01 02:00:00  7215.52  7244.87  7211.41  7242.85    655.156809   \n",
       "3       2020-01-01 03:00:00  7242.66  7245.00  7220.00  7225.01    783.724867   \n",
       "4       2020-01-01 04:00:00  7225.00  7230.00  7215.03  7217.27    467.812578   \n",
       "...                     ...      ...      ...      ...      ...           ...   \n",
       "105019  2021-06-30 19:00:00   140.83   141.76   140.33   141.55  21511.253020   \n",
       "105020  2021-06-30 20:00:00   141.63   142.91   140.70   142.16  32348.880040   \n",
       "105021  2021-06-30 21:00:00   142.16   143.86   142.14   143.25  23128.015840   \n",
       "105022  2021-06-30 22:00:00   143.25   144.41   142.39   143.50  22183.430460   \n",
       "105023  2021-06-30 23:00:00   143.51   144.62   143.13   144.26  16473.995740   \n",
       "\n",
       "        tic  \n",
       "0       btc  \n",
       "1       btc  \n",
       "2       btc  \n",
       "3       btc  \n",
       "4       btc  \n",
       "...     ...  \n",
       "105019  ltc  \n",
       "105020  ltc  \n",
       "105021  ltc  \n",
       "105022  ltc  \n",
       "105023  ltc  \n",
       "\n",
       "[105024 rows x 7 columns]"
      ]
     },
     "execution_count": 4,
     "metadata": {},
     "output_type": "execute_result"
    }
   ],
   "source": [
    "df"
   ]
  },
  {
   "cell_type": "markdown",
   "metadata": {},
   "source": [
    "# Part 4: Preprocess Data"
   ]
  },
  {
   "cell_type": "code",
   "execution_count": null,
   "metadata": {
    "ExecuteTime": {
     "start_time": "2021-07-07T17:01:31.046Z"
    }
   },
   "outputs": [
    {
     "name": "stdout",
     "output_type": "stream",
     "text": [
      "Successfully added technical indicators\n",
      "Successfully added user defined features\n"
     ]
    }
   ],
   "source": [
    "fe = FeatureEngineer(\n",
    "                    use_technical_indicator=True,\n",
    "                    use_turbulence=False,\n",
    "                    user_defined_feature = True,\n",
    "                    use_covariance= True\n",
    ")\n",
    "\n",
    "df = fe.preprocess_data(df)"
   ]
  },
  {
   "cell_type": "code",
   "execution_count": null,
   "metadata": {
    "ExecuteTime": {
     "start_time": "2021-07-07T17:01:31.334Z"
    }
   },
   "outputs": [],
   "source": [
    "df.head()"
   ]
  },
  {
   "cell_type": "markdown",
   "metadata": {},
   "source": [
    "<a id='4'></a>\n",
    "# Part 5. Design Environment\n",
    "Considering the stochastic and interactive nature of the automated stock trading tasks, a financial task is modeled as a **Markov Decision Process (MDP)** problem. The training process involves observing stock price change, taking an action and reward's calculation to have the agent adjusting its strategy accordingly. By interacting with the environment, the trading agent will derive a trading strategy with the maximized rewards as time proceeds.\n",
    "\n",
    "Our trading environments, based on OpenAI Gym framework, simulate live stock markets with real market data according to the principle of time-driven simulation.\n",
    "\n",
    "The action space describes the allowed actions that the agent interacts with the environment. Normally, action a includes three actions: {-1, 0, 1}, where -1, 0, 1 represent selling, holding, and buying one share. Also, an action can be carried upon multiple shares. We use an action space {-k,…,-1, 0, 1, …, k}, where k denotes the number of shares to buy and -k denotes the number of shares to sell. For example, \"Buy 10 shares of AAPL\" or \"Sell 10 shares of AAPL\" are 10 or -10, respectively. The continuous action space needs to be normalized to [-1, 1], since the policy is defined on a Gaussian distribution, which needs to be normalized and symmetric."
   ]
  },
  {
   "cell_type": "markdown",
   "metadata": {},
   "source": [
    "## Training data split: 2020-02-02 to 2020-12-31"
   ]
  },
  {
   "cell_type": "code",
   "execution_count": null,
   "metadata": {
    "ExecuteTime": {
     "start_time": "2021-07-07T17:01:31.946Z"
    }
   },
   "outputs": [],
   "source": [
    "train = data_split(df, '2020-02-02','2020-12-31')"
   ]
  },
  {
   "cell_type": "markdown",
   "metadata": {},
   "source": [
    "## Environment for Portfolio Allocation\n"
   ]
  },
  {
   "cell_type": "code",
   "execution_count": null,
   "metadata": {
    "ExecuteTime": {
     "start_time": "2021-07-07T17:01:32.426Z"
    }
   },
   "outputs": [],
   "source": [
    "stock_dimension = len(train.tic.unique())\n",
    "state_space = stock_dimension\n",
    "print(f\"Stock Dimension: {stock_dimension}, State Space: {state_space}\")\n",
    "features =  config.TECHNICAL_INDICATORS_SHORTPERIOD + config.TECHNICAL_INDICATORS_LONGPERIOD  + [\"open\", \"close\", 'high', 'low']\n",
    "features += [f\"{feature}_diff\" for feature in features]\n",
    "features += [feature for feature in df.columns if feature.startswith(\"cov_\")]\n",
    "\n",
    "env_kwargs = {\n",
    "    \"initial_amount\": 1000000, \n",
    "    \"technical_indicator_list\": features, \n",
    "    \"max_assets_amount_per_trade\": 100, \n",
    "    \"main_tickers\": train.tic.unique(),\n",
    "    \"all_tickers\": train.tic.unique(),\n",
    "    \"reward_scaling\": 1e-4,\n",
    "    \"comission_value\": 0.01\n",
    "    \n",
    "}\n",
    "\n",
    "e_train_gym = CustomTradingEnv(df = train, **env_kwargs)\n",
    "\n",
    "env_train, _ = e_train_gym.get_sb_env()"
   ]
  },
  {
   "cell_type": "markdown",
   "metadata": {},
   "source": [
    "<a id='5'></a>\n",
    "# Part 6: Implement DRL Algorithms"
   ]
  },
  {
   "cell_type": "code",
   "execution_count": null,
   "metadata": {
    "ExecuteTime": {
     "start_time": "2021-07-07T17:01:33.862Z"
    }
   },
   "outputs": [],
   "source": [
    "# initialize\n",
    "agent = DRLAgent(env = env_train)"
   ]
  },
  {
   "cell_type": "markdown",
   "metadata": {},
   "source": [
    "### Model 1: **A2C**\n"
   ]
  },
  {
   "cell_type": "code",
   "execution_count": null,
   "metadata": {
    "ExecuteTime": {
     "start_time": "2021-07-07T17:01:34.242Z"
    }
   },
   "outputs": [],
   "source": [
    "A2C_PARAMS = {\"n_steps\": 5, \"ent_coef\": 0.005, \"learning_rate\": 0.0002}\n",
    "model_a2c = agent.get_model(model_name=\"a2c\",model_kwargs = A2C_PARAMS, tensorboard_log = config.TENSORBOARD_LOG_DIR)"
   ]
  },
  {
   "cell_type": "code",
   "execution_count": null,
   "metadata": {
    "ExecuteTime": {
     "start_time": "2021-07-07T17:01:34.442Z"
    },
    "tags": [
     "outputPrepend"
    ]
   },
   "outputs": [],
   "source": [
    "trained_a2c = agent.train_model(model=model_a2c, \n",
    "                                tb_log_name='a2c',\n",
    "                                total_timesteps=100)"
   ]
  },
  {
   "cell_type": "markdown",
   "metadata": {},
   "source": [
    "### Model 2: **PPO**"
   ]
  },
  {
   "cell_type": "code",
   "execution_count": null,
   "metadata": {
    "ExecuteTime": {
     "start_time": "2021-07-07T17:01:38.006Z"
    }
   },
   "outputs": [],
   "source": [
    "# agent = DRLAgent(env = env_train)\n",
    "# PPO_PARAMS = {\n",
    "#     \"n_steps\": 2048,\n",
    "#     \"ent_coef\": 0.005,\n",
    "#     \"learning_rate\": 0.0001,\n",
    "#     \"batch_size\": 128,\n",
    "# }\n",
    "# model_ppo = agent.get_model(\"ppo\",model_kwargs = PPO_PARAMS)"
   ]
  },
  {
   "cell_type": "code",
   "execution_count": null,
   "metadata": {
    "ExecuteTime": {
     "start_time": "2021-07-07T17:01:38.194Z"
    }
   },
   "outputs": [],
   "source": [
    "# trained_ppo = agent.train_model(model=model_ppo, \n",
    "#                              tb_log_name='ppo',\n",
    "#                              total_timesteps=80000)"
   ]
  },
  {
   "cell_type": "markdown",
   "metadata": {},
   "source": [
    "## Trading\n",
    "Assume that we have $1,000,000 initial capital at 2021-01-01."
   ]
  },
  {
   "cell_type": "code",
   "execution_count": null,
   "metadata": {
    "ExecuteTime": {
     "start_time": "2021-07-07T17:01:38.542Z"
    }
   },
   "outputs": [],
   "source": [
    "trade = data_split(df,config.START_TEST_DATE, config.END_DATE)\n",
    "e_trade_gym = CustomTradingEnv(df = trade, **env_kwargs)"
   ]
  },
  {
   "cell_type": "code",
   "execution_count": null,
   "metadata": {
    "ExecuteTime": {
     "start_time": "2021-07-07T17:01:38.714Z"
    }
   },
   "outputs": [],
   "source": [
    "trade.shape"
   ]
  },
  {
   "cell_type": "code",
   "execution_count": null,
   "metadata": {
    "ExecuteTime": {
     "start_time": "2021-07-07T17:01:38.878Z"
    }
   },
   "outputs": [],
   "source": [
    "trade"
   ]
  },
  {
   "cell_type": "code",
   "execution_count": null,
   "metadata": {
    "ExecuteTime": {
     "start_time": "2021-07-07T17:01:39.042Z"
    }
   },
   "outputs": [],
   "source": [
    "allocations, transactions, allocation_values = DRLAgent.DRL_prediction(model=trained_a2c,\n",
    "                        environment = e_trade_gym)"
   ]
  },
  {
   "cell_type": "code",
   "execution_count": null,
   "metadata": {
    "ExecuteTime": {
     "start_time": "2021-07-07T17:01:39.222Z"
    }
   },
   "outputs": [],
   "source": [
    "allocations"
   ]
  },
  {
   "cell_type": "code",
   "execution_count": null,
   "metadata": {
    "ExecuteTime": {
     "start_time": "2021-07-07T17:01:39.402Z"
    }
   },
   "outputs": [],
   "source": [
    "transactions"
   ]
  },
  {
   "cell_type": "code",
   "execution_count": null,
   "metadata": {
    "ExecuteTime": {
     "start_time": "2021-07-07T17:01:39.579Z"
    }
   },
   "outputs": [],
   "source": [
    "allocation_values"
   ]
  },
  {
   "cell_type": "markdown",
   "metadata": {},
   "source": [
    "<a id='6'></a>\n",
    "# Part 7: Backtest"
   ]
  },
  {
   "cell_type": "code",
   "execution_count": null,
   "metadata": {
    "ExecuteTime": {
     "start_time": "2021-07-07T17:01:39.927Z"
    }
   },
   "outputs": [],
   "source": [
    "%load_ext autoreload\n",
    "%autoreload \n",
    "bat = BackTest(trained_a2c, e_trade_gym)\n",
    "bat.create_summary(allocations, allocation_values, transactions)"
   ]
  },
  {
   "cell_type": "code",
   "execution_count": null,
   "metadata": {
    "ExecuteTime": {
     "start_time": "2021-07-07T17:01:40.099Z"
    }
   },
   "outputs": [],
   "source": [
    "bat.plot_return_against_hold(allocation_values)"
   ]
  },
  {
   "cell_type": "code",
   "execution_count": null,
   "metadata": {
    "ExecuteTime": {
     "start_time": "2021-07-07T17:01:40.262Z"
    }
   },
   "outputs": [],
   "source": [
    "%load_ext autoreload\n",
    "%autoreload \n",
    "from src.trade.time_series_validation import TimeSeriesValidation\n",
    "tsv = TimeSeriesValidation(num_splits=5, total_timesteps_model=1000, with_graphs=False)\n",
    "\n",
    "model_name = \"a2c\"\n",
    "model_params = {\"n_steps\": 5, \"ent_coef\": 0.005, \"learning_rate\": 0.0002}\n",
    "\n",
    "stock_dimension = len(df.tic.unique())\n",
    "state_space = stock_dimension\n",
    "features =  config.TECHNICAL_INDICATORS_SHORTPERIOD + config.TECHNICAL_INDICATORS_LONGPERIOD + [\"open\", \"close\", 'high', 'low']\n",
    "features += [f\"{feature}_diff\" for feature in features]\n",
    "features += [feature for feature in df.columns if feature.startswith(\"cov_\")]\n",
    "\n",
    "env_params = {\n",
    "    \"initial_amount\": 1000000, \n",
    "    \"technical_indicator_list\": features, \n",
    "    \"max_assets_amount_per_trade\": 100, \n",
    "    \"main_tickers\": df.tic.unique(),\n",
    "    \"all_tickers\": df.tic.unique(),\n",
    "    \"reward_scaling\": 1e-4,\n",
    "    \"comission_value\": 0.01\n",
    "    \n",
    "}\n",
    "\n",
    "\n",
    "results = tsv.run(df, env_params, model_name, model_params)"
   ]
  },
  {
   "cell_type": "code",
   "execution_count": null,
   "metadata": {
    "ExecuteTime": {
     "start_time": "2021-07-07T17:01:40.430Z"
    }
   },
   "outputs": [],
   "source": [
    "results"
   ]
  },
  {
   "cell_type": "code",
   "execution_count": null,
   "metadata": {},
   "outputs": [],
   "source": []
  }
 ],
 "metadata": {
  "kernelspec": {
   "display_name": "Python 3",
   "language": "python",
   "name": "python3"
  },
  "language_info": {
   "codemirror_mode": {
    "name": "ipython",
    "version": 3
   },
   "file_extension": ".py",
   "mimetype": "text/x-python",
   "name": "python",
   "nbconvert_exporter": "python",
   "pygments_lexer": "ipython3",
   "version": "3.9.4"
  },
  "toc": {
   "base_numbering": 1,
   "nav_menu": {},
   "number_sections": true,
   "sideBar": true,
   "skip_h1_title": false,
   "title_cell": "Table of Contents",
   "title_sidebar": "Contents",
   "toc_cell": false,
   "toc_position": {},
   "toc_section_display": true,
   "toc_window_display": false
  }
 },
 "nbformat": 4,
 "nbformat_minor": 4
}
