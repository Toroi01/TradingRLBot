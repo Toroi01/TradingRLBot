{
 "cells": [
  {
   "cell_type": "markdown",
   "metadata": {},
   "source": [
    "<a id='0'></a>\n",
    "# Part 1. Problem Definition"
   ]
  },
  {
   "cell_type": "markdown",
   "metadata": {},
   "source": [
    "This problem is to design an automated trading solution for single stock trading. We model the stock trading process as a Markov Decision Process (MDP). We then formulate our trading goal as a maximization problem.\n",
    "\n",
    "The algorithm is trained using Deep Reinforcement Learning (DRL) algorithms and the components of the reinforcement learning environment are:\n",
    "\n",
    "\n",
    "* Action: \n",
    "* Reward function: \n",
    "* State: \n",
    "* Environment: "
   ]
  },
  {
   "cell_type": "markdown",
   "metadata": {},
   "source": [
    "<a id='1'></a>\n",
    "# Part 2. Getting Started- Load Python Packages"
   ]
  },
  {
   "cell_type": "markdown",
   "metadata": {},
   "source": [
    "<a id='1.1'></a>\n",
    "## 2.1. Install all the packages"
   ]
  },
  {
   "cell_type": "code",
   "execution_count": 73,
   "metadata": {},
   "outputs": [
    {
     "output_type": "stream",
     "name": "stdout",
     "text": [
      "Requirement already satisfied: certifi==2020.12.5 in c:\\users\\joanp\\appdata\\roaming\\python\\python38\\site-packages (from -r requirements.txt (line 1)) (2020.12.5)\nRequirement already satisfied: chardet==4.0.0 in c:\\users\\joanp\\appdata\\roaming\\python\\python38\\site-packages (from -r requirements.txt (line 2)) (4.0.0)\nRequirement already satisfied: idna==2.10 in c:\\users\\joanp\\.conda\\envs\\tradingrlbot\\lib\\site-packages (from -r requirements.txt (line 3)) (2.10)\nRequirement already satisfied: kaggle==1.5.12 in c:\\users\\joanp\\appdata\\roaming\\python\\python38\\site-packages (from -r requirements.txt (line 4)) (1.5.12)\nRequirement already satisfied: lxml==4.6.3 in c:\\users\\joanp\\appdata\\roaming\\python\\python38\\site-packages (from -r requirements.txt (line 5)) (4.6.3)\nRequirement already satisfied: multitasking==0.0.9 in c:\\users\\joanp\\appdata\\roaming\\python\\python38\\site-packages (from -r requirements.txt (line 6)) (0.0.9)\nRequirement already satisfied: numpy==1.20.2 in c:\\users\\joanp\\appdata\\roaming\\python\\python38\\site-packages (from -r requirements.txt (line 7)) (1.20.2)\nRequirement already satisfied: pandas==1.2.4 in c:\\users\\joanp\\appdata\\roaming\\python\\python38\\site-packages (from -r requirements.txt (line 8)) (1.2.4)\nRequirement already satisfied: python-dateutil==2.8.1 in c:\\users\\joanp\\.conda\\envs\\tradingrlbot\\lib\\site-packages (from -r requirements.txt (line 9)) (2.8.1)\nRequirement already satisfied: python-slugify==5.0.2 in c:\\users\\joanp\\appdata\\roaming\\python\\python38\\site-packages (from -r requirements.txt (line 10)) (5.0.2)\nRequirement already satisfied: pytz==2021.1 in c:\\users\\joanp\\appdata\\roaming\\python\\python38\\site-packages (from -r requirements.txt (line 11)) (2021.1)\nRequirement already satisfied: requests==2.25.1 in c:\\users\\joanp\\appdata\\roaming\\python\\python38\\site-packages (from -r requirements.txt (line 12)) (2.25.1)\nRequirement already satisfied: six==1.16.0 in c:\\users\\joanp\\appdata\\roaming\\python\\python38\\site-packages (from -r requirements.txt (line 13)) (1.16.0)\nRequirement already satisfied: text-unidecode==1.3 in c:\\users\\joanp\\appdata\\roaming\\python\\python38\\site-packages (from -r requirements.txt (line 14)) (1.3)\nRequirement already satisfied: tqdm==4.60.0 in c:\\users\\joanp\\appdata\\roaming\\python\\python38\\site-packages (from -r requirements.txt (line 15)) (4.60.0)\nRequirement already satisfied: urllib3==1.26.4 in c:\\users\\joanp\\appdata\\roaming\\python\\python38\\site-packages (from -r requirements.txt (line 16)) (1.26.4)\nRequirement already satisfied: wget==3.2 in c:\\users\\joanp\\appdata\\roaming\\python\\python38\\site-packages (from -r requirements.txt (line 17)) (3.2)\nRequirement already satisfied: yfinance==0.1.59 in c:\\users\\joanp\\appdata\\roaming\\python\\python38\\site-packages (from -r requirements.txt (line 18)) (0.1.59)\nRequirement already satisfied: gym==0.18.3 in c:\\users\\joanp\\appdata\\roaming\\python\\python38\\site-packages (from -r requirements.txt (line 19)) (0.18.3)\nRequirement already satisfied: matplotlib==3.4.2 in c:\\users\\joanp\\appdata\\roaming\\python\\python38\\site-packages (from -r requirements.txt (line 20)) (3.4.2)\nRequirement already satisfied: stable-baselines3[extra] in c:\\users\\joanp\\appdata\\roaming\\python\\python38\\site-packages (from -r requirements.txt (line 21)) (1.0)\nRequirement already satisfied: stockstats==0.3.2 in c:\\users\\joanp\\appdata\\roaming\\python\\python38\\site-packages (from -r requirements.txt (line 22)) (0.3.2)\nCollecting pyfolio==0.9.2\n  Downloading pyfolio-0.9.2.tar.gz (91 kB)\nRequirement already satisfied: Pillow<=8.2.0 in c:\\users\\joanp\\.conda\\envs\\tradingrlbot\\lib\\site-packages (from gym==0.18.3->-r requirements.txt (line 19)) (8.2.0)\nRequirement already satisfied: pyglet<=1.5.15,>=1.4.0 in c:\\users\\joanp\\appdata\\roaming\\python\\python38\\site-packages (from gym==0.18.3->-r requirements.txt (line 19)) (1.5.0)\nRequirement already satisfied: cloudpickle<1.7.0,>=1.2.0 in c:\\users\\joanp\\appdata\\roaming\\python\\python38\\site-packages (from gym==0.18.3->-r requirements.txt (line 19)) (1.3.0)\nRequirement already satisfied: scipy in c:\\users\\joanp\\.conda\\envs\\tradingrlbot\\lib\\site-packages (from gym==0.18.3->-r requirements.txt (line 19)) (1.6.3)\nRequirement already satisfied: pyparsing>=2.2.1 in c:\\users\\joanp\\.conda\\envs\\tradingrlbot\\lib\\site-packages (from matplotlib==3.4.2->-r requirements.txt (line 20)) (2.4.7)\nRequirement already satisfied: cycler>=0.10 in c:\\users\\joanp\\.conda\\envs\\tradingrlbot\\lib\\site-packages (from matplotlib==3.4.2->-r requirements.txt (line 20)) (0.10.0)\nRequirement already satisfied: kiwisolver>=1.0.1 in c:\\users\\joanp\\.conda\\envs\\tradingrlbot\\lib\\site-packages (from matplotlib==3.4.2->-r requirements.txt (line 20)) (1.3.1)\nRequirement already satisfied: torch>=1.4.0 in c:\\users\\joanp\\.conda\\envs\\tradingrlbot\\lib\\site-packages (from stable-baselines3[extra]->-r requirements.txt (line 21)) (1.8.1)\nRequirement already satisfied: tensorboard>=2.2.0; extra == \"extra\" in c:\\users\\joanp\\.conda\\envs\\tradingrlbot\\lib\\site-packages (from stable-baselines3[extra]->-r requirements.txt (line 21)) (2.5.0)\nRequirement already satisfied: atari-py~=0.2.0; extra == \"extra\" in c:\\users\\joanp\\appdata\\roaming\\python\\python38\\site-packages (from stable-baselines3[extra]->-r requirements.txt (line 21)) (0.2.6)\nRequirement already satisfied: opencv-python; extra == \"extra\" in c:\\users\\joanp\\.conda\\envs\\tradingrlbot\\lib\\site-packages (from stable-baselines3[extra]->-r requirements.txt (line 21)) (4.5.2.52)\nRequirement already satisfied: psutil; extra == \"extra\" in c:\\users\\joanp\\.conda\\envs\\tradingrlbot\\lib\\site-packages (from stable-baselines3[extra]->-r requirements.txt (line 21)) (5.8.0)\nRequirement already satisfied: int-date>=0.1.7 in c:\\users\\joanp\\appdata\\roaming\\python\\python38\\site-packages (from stockstats==0.3.2->-r requirements.txt (line 22)) (0.1.8)\nRequirement already satisfied: ipython>=3.2.3 in c:\\users\\joanp\\.conda\\envs\\tradingrlbot\\lib\\site-packages (from pyfolio==0.9.2->-r requirements.txt (line 23)) (7.18.1)\nCollecting scikit-learn>=0.16.1\n  Using cached scikit_learn-0.24.2-cp38-cp38-win_amd64.whl (6.9 MB)\nCollecting seaborn>=0.7.1\n  Using cached seaborn-0.11.1-py3-none-any.whl (285 kB)\nProcessing c:\\users\\joanp\\appdata\\local\\pip\\cache\\wheels\\0d\\68\\bb\\926065fb744e7d7cb67334cb1a9c696722abc8303e5dc9a8d0\\empyrical-0.5.5-py3-none-any.whl\nRequirement already satisfied: future in c:\\users\\joanp\\.conda\\envs\\tradingrlbot\\lib\\site-packages (from pyglet<=1.5.15,>=1.4.0->gym==0.18.3->-r requirements.txt (line 19)) (0.18.2)\nRequirement already satisfied: typing-extensions in c:\\users\\joanp\\.conda\\envs\\tradingrlbot\\lib\\site-packages (from torch>=1.4.0->stable-baselines3[extra]->-r requirements.txt (line 21)) (3.10.0.0)\nRequirement already satisfied: tensorboard-plugin-wit>=1.6.0 in c:\\users\\joanp\\.conda\\envs\\tradingrlbot\\lib\\site-packages (from tensorboard>=2.2.0; extra == \"extra\"->stable-baselines3[extra]->-r requirements.txt (line 21)) (1.8.0)\nRequirement already satisfied: tensorboard-data-server<0.7.0,>=0.6.0 in c:\\users\\joanp\\.conda\\envs\\tradingrlbot\\lib\\site-packages (from tensorboard>=2.2.0; extra == \"extra\"->stable-baselines3[extra]->-r requirements.txt (line 21)) (0.6.1)\nRequirement already satisfied: werkzeug>=0.11.15 in c:\\users\\joanp\\.conda\\envs\\tradingrlbot\\lib\\site-packages (from tensorboard>=2.2.0; extra == \"extra\"->stable-baselines3[extra]->-r requirements.txt (line 21)) (2.0.1)\nRequirement already satisfied: grpcio>=1.24.3 in c:\\users\\joanp\\.conda\\envs\\tradingrlbot\\lib\\site-packages (from tensorboard>=2.2.0; extra == \"extra\"->stable-baselines3[extra]->-r requirements.txt (line 21)) (1.37.1)\nRequirement already satisfied: markdown>=2.6.8 in c:\\users\\joanp\\.conda\\envs\\tradingrlbot\\lib\\site-packages (from tensorboard>=2.2.0; extra == \"extra\"->stable-baselines3[extra]->-r requirements.txt (line 21)) (3.3.4)\nRequirement already satisfied: wheel>=0.26; python_version >= \"3\" in c:\\users\\joanp\\.conda\\envs\\tradingrlbot\\lib\\site-packages (from tensorboard>=2.2.0; extra == \"extra\"->stable-baselines3[extra]->-r requirements.txt (line 21)) (0.35.1)\nRequirement already satisfied: absl-py>=0.4 in c:\\users\\joanp\\.conda\\envs\\tradingrlbot\\lib\\site-packages (from tensorboard>=2.2.0; extra == \"extra\"->stable-baselines3[extra]->-r requirements.txt (line 21)) (0.12.0)\nRequirement already satisfied: protobuf>=3.6.0 in c:\\users\\joanp\\.conda\\envs\\tradingrlbot\\lib\\site-packages (from tensorboard>=2.2.0; extra == \"extra\"->stable-baselines3[extra]->-r requirements.txt (line 21)) (3.17.0)\nRequirement already satisfied: google-auth-oauthlib<0.5,>=0.4.1 in c:\\users\\joanp\\.conda\\envs\\tradingrlbot\\lib\\site-packages (from tensorboard>=2.2.0; extra == \"extra\"->stable-baselines3[extra]->-r requirements.txt (line 21)) (0.4.4)\nRequirement already satisfied: setuptools>=41.0.0 in c:\\users\\joanp\\.conda\\envs\\tradingrlbot\\lib\\site-packages (from tensorboard>=2.2.0; extra == \"extra\"->stable-baselines3[extra]->-r requirements.txt (line 21)) (50.3.0.post20201006)\nRequirement already satisfied: google-auth<2,>=1.6.3 in c:\\users\\joanp\\.conda\\envs\\tradingrlbot\\lib\\site-packages (from tensorboard>=2.2.0; extra == \"extra\"->stable-baselines3[extra]->-r requirements.txt (line 21)) (1.30.0)\nRequirement already satisfied: pickleshare in c:\\users\\joanp\\.conda\\envs\\tradingrlbot\\lib\\site-packages (from ipython>=3.2.3->pyfolio==0.9.2->-r requirements.txt (line 23)) (0.7.5)\nRequirement already satisfied: traitlets>=4.2 in c:\\users\\joanp\\.conda\\envs\\tradingrlbot\\lib\\site-packages (from ipython>=3.2.3->pyfolio==0.9.2->-r requirements.txt (line 23)) (5.0.5)\nRequirement already satisfied: jedi>=0.10 in c:\\users\\joanp\\.conda\\envs\\tradingrlbot\\lib\\site-packages (from ipython>=3.2.3->pyfolio==0.9.2->-r requirements.txt (line 23)) (0.18.0)\nRequirement already satisfied: decorator in c:\\users\\joanp\\.conda\\envs\\tradingrlbot\\lib\\site-packages (from ipython>=3.2.3->pyfolio==0.9.2->-r requirements.txt (line 23)) (4.4.2)\nRequirement already satisfied: backcall in c:\\users\\joanp\\.conda\\envs\\tradingrlbot\\lib\\site-packages (from ipython>=3.2.3->pyfolio==0.9.2->-r requirements.txt (line 23)) (0.2.0)\nRequirement already satisfied: colorama; sys_platform == \"win32\" in c:\\users\\joanp\\.conda\\envs\\tradingrlbot\\lib\\site-packages (from ipython>=3.2.3->pyfolio==0.9.2->-r requirements.txt (line 23)) (0.4.4)\nRequirement already satisfied: pygments in c:\\users\\joanp\\.conda\\envs\\tradingrlbot\\lib\\site-packages (from ipython>=3.2.3->pyfolio==0.9.2->-r requirements.txt (line 23)) (2.7.1)\nRequirement already satisfied: prompt-toolkit!=3.0.0,!=3.0.1,<3.1.0,>=2.0.0 in c:\\users\\joanp\\.conda\\envs\\tradingrlbot\\lib\\site-packages (from ipython>=3.2.3->pyfolio==0.9.2->-r requirements.txt (line 23)) (3.0.8)\nCollecting joblib>=0.11\n  Using cached joblib-1.0.1-py3-none-any.whl (303 kB)\nCollecting threadpoolctl>=2.0.0\n  Using cached threadpoolctl-2.1.0-py3-none-any.whl (12 kB)\nCollecting pandas-datareader>=0.2\n  Using cached pandas_datareader-0.9.0-py3-none-any.whl (107 kB)\nRequirement already satisfied: requests-oauthlib>=0.7.0 in c:\\users\\joanp\\.conda\\envs\\tradingrlbot\\lib\\site-packages (from google-auth-oauthlib<0.5,>=0.4.1->tensorboard>=2.2.0; extra == \"extra\"->stable-baselines3[extra]->-r requirements.txt (line 21)) (1.3.0)\nRequirement already satisfied: cachetools<5.0,>=2.0.0 in c:\\users\\joanp\\.conda\\envs\\tradingrlbot\\lib\\site-packages (from google-auth<2,>=1.6.3->tensorboard>=2.2.0; extra == \"extra\"->stable-baselines3[extra]->-r requirements.txt (line 21)) (4.2.2)\nRequirement already satisfied: pyasn1-modules>=0.2.1 in c:\\users\\joanp\\.conda\\envs\\tradingrlbot\\lib\\site-packages (from google-auth<2,>=1.6.3->tensorboard>=2.2.0; extra == \"extra\"->stable-baselines3[extra]->-r requirements.txt (line 21)) (0.2.8)\nRequirement already satisfied: rsa<5,>=3.1.4; python_version >= \"3.6\" in c:\\users\\joanp\\.conda\\envs\\tradingrlbot\\lib\\site-packages (from google-auth<2,>=1.6.3->tensorboard>=2.2.0; extra == \"extra\"->stable-baselines3[extra]->-r requirements.txt (line 21)) (4.7.2)\nRequirement already satisfied: ipython-genutils in c:\\users\\joanp\\.conda\\envs\\tradingrlbot\\lib\\site-packages (from traitlets>=4.2->ipython>=3.2.3->pyfolio==0.9.2->-r requirements.txt (line 23)) (0.2.0)\nRequirement already satisfied: parso<0.9.0,>=0.8.0 in c:\\users\\joanp\\.conda\\envs\\tradingrlbot\\lib\\site-packages (from jedi>=0.10->ipython>=3.2.3->pyfolio==0.9.2->-r requirements.txt (line 23)) (0.8.0)\nRequirement already satisfied: wcwidth in c:\\users\\joanp\\.conda\\envs\\tradingrlbot\\lib\\site-packages (from prompt-toolkit!=3.0.0,!=3.0.1,<3.1.0,>=2.0.0->ipython>=3.2.3->pyfolio==0.9.2->-r requirements.txt (line 23)) (0.2.5)\nRequirement already satisfied: oauthlib>=3.0.0 in c:\\users\\joanp\\.conda\\envs\\tradingrlbot\\lib\\site-packages (from requests-oauthlib>=0.7.0->google-auth-oauthlib<0.5,>=0.4.1->tensorboard>=2.2.0; extra == \"extra\"->stable-baselines3[extra]->-r requirements.txt (line 21)) (3.1.0)\nRequirement already satisfied: pyasn1<0.5.0,>=0.4.6 in c:\\users\\joanp\\.conda\\envs\\tradingrlbot\\lib\\site-packages (from pyasn1-modules>=0.2.1->google-auth<2,>=1.6.3->tensorboard>=2.2.0; extra == \"extra\"->stable-baselines3[extra]->-r requirements.txt (line 21)) (0.4.8)\nBuilding wheels for collected packages: pyfolio\n  Building wheel for pyfolio (setup.py): started\n  Building wheel for pyfolio (setup.py): finished with status 'done'\n  Created wheel for pyfolio: filename=pyfolio-0.9.2-py3-none-any.whl size=88684 sha256=c2ab8be715e4b1e08146618404849394acced75beb53ac0ae8f6c145fc1f3dab\n  Stored in directory: c:\\users\\joanp\\appdata\\local\\pip\\cache\\wheels\\42\\16\\92\\9c9d49efccc497040268960f0825101cc9b1c6e41cdc5a409e\nSuccessfully built pyfolio\nInstalling collected packages: joblib, threadpoolctl, scikit-learn, seaborn, pandas-datareader, empyrical, pyfolio\nSuccessfully installed empyrical-0.5.5 joblib-1.0.1 pandas-datareader-0.9.0 pyfolio-0.9.2 scikit-learn-0.24.2 seaborn-0.11.1 threadpoolctl-2.1.0\n"
     ]
    }
   ],
   "source": [
    "!pip install -r requirements.txt --user"
   ]
  },
  {
   "cell_type": "markdown",
   "metadata": {},
   "source": [
    "<a id='1.2'></a>\n",
    "## 2.2. Import Packages"
   ]
  },
  {
   "cell_type": "code",
   "execution_count": 81,
   "metadata": {},
   "outputs": [],
   "source": [
    "import pandas as pd\n",
    "from config import config\n",
    "from dataset.download_dataset.cryptodownloader_binance import CryptoDownloader_binance\n",
    "from preprocessing.preprocessors import FeatureEngineer\n",
    "from preprocessing.data import data_split\n",
    "from env.env_portfolio import StockPortfolioEnv\n",
    "from model.models import DRLAgent\n",
    "# from trade.backtest import backtest_stats, backtest_plot, get_daily_return, get_baseline,convert_daily_return_to_pyfolio_ts\n"
   ]
  },
  {
   "cell_type": "markdown",
   "metadata": {},
   "source": [
    "<a id='1.3'></a>\n",
    "## 2.3 Create Folders"
   ]
  },
  {
   "cell_type": "code",
   "execution_count": 12,
   "metadata": {},
   "outputs": [],
   "source": [
    "import os\n",
    "download_data = False\n",
    "if not os.path.exists(config.DATA_SAVE_DIR):\n",
    "    os.makedirs(config.DATA_SAVE_DIR)\n",
    "    download_data = True\n",
    "if not os.path.exists(config.TRAINED_MODEL_DIR):\n",
    "    os.makedirs(\"./\" + config.TRAINED_MODEL_DIR)\n",
    "if not os.path.exists(config.TENSORBOARD_LOG_DIR):\n",
    "    os.makedirs(config.TENSORBOARD_LOG_DIR)\n",
    "if not os.path.exists(config.RESULTS_DIR):\n",
    "    os.makedirs(config.RESULTS_DIR)"
   ]
  },
  {
   "cell_type": "markdown",
   "metadata": {},
   "source": [
    "<a id='2'></a>\n",
    "# Part 3. Download Data"
   ]
  },
  {
   "cell_type": "code",
   "execution_count": 13,
   "metadata": {
    "scrolled": true
   },
   "outputs": [],
   "source": [
    "data_downloader = CryptoDownloader_binance(config.START_DATE, config.END_DATE, config.MULTIPLE_TICKER_8, config.DATA_SAVE_DIR, config.DATA_GRANULARITY)\n",
    "if download_data:    \n",
    "    data_downloader.download_data()\n",
    "df = data_downloader.load()"
   ]
  },
  {
   "cell_type": "code",
   "execution_count": 14,
   "metadata": {},
   "outputs": [
    {
     "output_type": "execute_result",
     "data": {
      "text/plain": [
       "                      date     open     high      low    close        volume  \\\n",
       "0      2020-01-01 00:00:00  7195.24  7196.25  7175.46  7177.02    511.814901   \n",
       "1      2020-01-01 01:00:00  7176.47  7230.00  7175.71  7216.27    883.052603   \n",
       "2      2020-01-01 02:00:00  7215.52  7244.87  7211.41  7242.85    655.156809   \n",
       "3      2020-01-01 03:00:00  7242.66  7245.00  7220.00  7225.01    783.724867   \n",
       "4      2020-01-01 04:00:00  7225.00  7230.00  7215.03  7217.27    467.812578   \n",
       "...                    ...      ...      ...      ...      ...           ...   \n",
       "87547  2021-03-31 19:00:00   193.98   195.25   192.35   193.05  38115.533510   \n",
       "87548  2021-03-31 20:00:00   193.03   196.39   192.48   195.66  32785.188130   \n",
       "87549  2021-03-31 21:00:00   195.65   196.90   194.63   195.29  20567.010810   \n",
       "87550  2021-03-31 22:00:00   195.31   197.00   195.23   195.80   8967.744990   \n",
       "87551  2021-03-31 23:00:00   194.62   197.63   194.47   196.70  28631.094410   \n",
       "\n",
       "       tic  \n",
       "0      btc  \n",
       "1      btc  \n",
       "2      btc  \n",
       "3      btc  \n",
       "4      btc  \n",
       "...    ...  \n",
       "87547  ltc  \n",
       "87548  ltc  \n",
       "87549  ltc  \n",
       "87550  ltc  \n",
       "87551  ltc  \n",
       "\n",
       "[87552 rows x 7 columns]"
      ],
      "text/html": "<div>\n<style scoped>\n    .dataframe tbody tr th:only-of-type {\n        vertical-align: middle;\n    }\n\n    .dataframe tbody tr th {\n        vertical-align: top;\n    }\n\n    .dataframe thead th {\n        text-align: right;\n    }\n</style>\n<table border=\"1\" class=\"dataframe\">\n  <thead>\n    <tr style=\"text-align: right;\">\n      <th></th>\n      <th>date</th>\n      <th>open</th>\n      <th>high</th>\n      <th>low</th>\n      <th>close</th>\n      <th>volume</th>\n      <th>tic</th>\n    </tr>\n  </thead>\n  <tbody>\n    <tr>\n      <th>0</th>\n      <td>2020-01-01 00:00:00</td>\n      <td>7195.24</td>\n      <td>7196.25</td>\n      <td>7175.46</td>\n      <td>7177.02</td>\n      <td>511.814901</td>\n      <td>btc</td>\n    </tr>\n    <tr>\n      <th>1</th>\n      <td>2020-01-01 01:00:00</td>\n      <td>7176.47</td>\n      <td>7230.00</td>\n      <td>7175.71</td>\n      <td>7216.27</td>\n      <td>883.052603</td>\n      <td>btc</td>\n    </tr>\n    <tr>\n      <th>2</th>\n      <td>2020-01-01 02:00:00</td>\n      <td>7215.52</td>\n      <td>7244.87</td>\n      <td>7211.41</td>\n      <td>7242.85</td>\n      <td>655.156809</td>\n      <td>btc</td>\n    </tr>\n    <tr>\n      <th>3</th>\n      <td>2020-01-01 03:00:00</td>\n      <td>7242.66</td>\n      <td>7245.00</td>\n      <td>7220.00</td>\n      <td>7225.01</td>\n      <td>783.724867</td>\n      <td>btc</td>\n    </tr>\n    <tr>\n      <th>4</th>\n      <td>2020-01-01 04:00:00</td>\n      <td>7225.00</td>\n      <td>7230.00</td>\n      <td>7215.03</td>\n      <td>7217.27</td>\n      <td>467.812578</td>\n      <td>btc</td>\n    </tr>\n    <tr>\n      <th>...</th>\n      <td>...</td>\n      <td>...</td>\n      <td>...</td>\n      <td>...</td>\n      <td>...</td>\n      <td>...</td>\n      <td>...</td>\n    </tr>\n    <tr>\n      <th>87547</th>\n      <td>2021-03-31 19:00:00</td>\n      <td>193.98</td>\n      <td>195.25</td>\n      <td>192.35</td>\n      <td>193.05</td>\n      <td>38115.533510</td>\n      <td>ltc</td>\n    </tr>\n    <tr>\n      <th>87548</th>\n      <td>2021-03-31 20:00:00</td>\n      <td>193.03</td>\n      <td>196.39</td>\n      <td>192.48</td>\n      <td>195.66</td>\n      <td>32785.188130</td>\n      <td>ltc</td>\n    </tr>\n    <tr>\n      <th>87549</th>\n      <td>2021-03-31 21:00:00</td>\n      <td>195.65</td>\n      <td>196.90</td>\n      <td>194.63</td>\n      <td>195.29</td>\n      <td>20567.010810</td>\n      <td>ltc</td>\n    </tr>\n    <tr>\n      <th>87550</th>\n      <td>2021-03-31 22:00:00</td>\n      <td>195.31</td>\n      <td>197.00</td>\n      <td>195.23</td>\n      <td>195.80</td>\n      <td>8967.744990</td>\n      <td>ltc</td>\n    </tr>\n    <tr>\n      <th>87551</th>\n      <td>2021-03-31 23:00:00</td>\n      <td>194.62</td>\n      <td>197.63</td>\n      <td>194.47</td>\n      <td>196.70</td>\n      <td>28631.094410</td>\n      <td>ltc</td>\n    </tr>\n  </tbody>\n</table>\n<p>87552 rows × 7 columns</p>\n</div>"
     },
     "metadata": {},
     "execution_count": 14
    }
   ],
   "source": [
    "df"
   ]
  },
  {
   "cell_type": "markdown",
   "metadata": {},
   "source": [
    "# Part 4: Preprocess Data"
   ]
  },
  {
   "cell_type": "code",
   "execution_count": 15,
   "metadata": {},
   "outputs": [
    {
     "output_type": "stream",
     "name": "stdout",
     "text": [
      "Successfully added technical indicators\n"
     ]
    }
   ],
   "source": [
    "fe = FeatureEngineer(\n",
    "                    use_technical_indicator=True,\n",
    "                    use_turbulence=False,\n",
    "                    user_defined_feature = False)\n",
    "\n",
    "df = fe.preprocess_data(df)"
   ]
  },
  {
   "cell_type": "code",
   "execution_count": 16,
   "metadata": {},
   "outputs": [
    {
     "output_type": "execute_result",
     "data": {
      "text/plain": [
       "                      date         open         high          low  \\\n",
       "0      2020-01-01 00:00:00     0.032850     0.032850     0.032700   \n",
       "10944  2020-01-01 00:00:00    13.715900    13.721100    13.690300   \n",
       "21888  2020-01-01 00:00:00  7195.240000  7196.250000  7175.460000   \n",
       "32832  2020-01-01 00:00:00     0.002014     0.002023     0.002008   \n",
       "43776  2020-01-01 00:00:00   129.160000   129.190000   128.680000   \n",
       "...                    ...          ...          ...          ...   \n",
       "43775  2021-03-31 23:00:00     0.053143     0.053911     0.053000   \n",
       "54719  2021-03-31 23:00:00  1903.970000  1924.210000  1901.620000   \n",
       "65663  2021-03-31 23:00:00    28.571700    29.440100    28.550100   \n",
       "76607  2021-03-31 23:00:00   194.620000   197.630000   194.470000   \n",
       "87551  2021-03-31 23:00:00     0.567460     0.576820     0.566620   \n",
       "\n",
       "             close        volume   tic       macd      boll_ub      boll_lb  \\\n",
       "0         0.032780  1.166001e+06   ada   0.000000     0.033182     0.032588   \n",
       "10944    13.698100  6.201669e+04   bnb   0.000000     0.033182     0.032588   \n",
       "21888  7177.020000  5.118149e+02   btc   0.000000     0.033182     0.032588   \n",
       "32832     0.002008  9.630910e+05  doge   0.000000     0.033182     0.032588   \n",
       "43776   128.870000  7.769173e+03   eth   0.000000     0.033182     0.032588   \n",
       "...            ...           ...   ...        ...          ...          ...   \n",
       "43775     0.053770  4.448111e+07  doge  -0.000103     0.054076     0.052762   \n",
       "54719  1919.370000  2.122478e+04   eth  26.214167  1948.647647  1762.109353   \n",
       "65663    29.416700  4.557268e+05  link   0.276832    29.035767    26.359743   \n",
       "76607   196.700000  2.863109e+04   ltc   0.332601   198.176985   188.501015   \n",
       "87551     0.569820  3.832329e+07   xrp   0.000334     0.567227     0.539948   \n",
       "\n",
       "           rsi_30      cci_30       dx_30  close_30_sma  close_60_sma  \n",
       "0      100.000000   66.666667  100.000000      0.032780      0.032780  \n",
       "10944  100.000000   66.666667  100.000000     13.698100     13.698100  \n",
       "21888  100.000000   66.666667  100.000000   7177.020000   7177.020000  \n",
       "32832  100.000000   66.666667  100.000000      0.002008      0.002008  \n",
       "43776  100.000000   66.666667  100.000000    128.870000    128.870000  \n",
       "...           ...         ...         ...           ...           ...  \n",
       "43775   50.006619  -10.311768   28.977404      0.053646      0.053938  \n",
       "54719   64.618395  164.610885   23.659415   1851.563000   1833.205500  \n",
       "65663   64.396467  226.662894   36.167462     27.746403     27.922328  \n",
       "76607   55.327678   76.382622    7.269085    194.139000    194.302667  \n",
       "87551   54.914565  137.865576    8.433502      0.556611      0.561649  \n",
       "\n",
       "[87552 rows x 15 columns]"
      ],
      "text/html": "<div>\n<style scoped>\n    .dataframe tbody tr th:only-of-type {\n        vertical-align: middle;\n    }\n\n    .dataframe tbody tr th {\n        vertical-align: top;\n    }\n\n    .dataframe thead th {\n        text-align: right;\n    }\n</style>\n<table border=\"1\" class=\"dataframe\">\n  <thead>\n    <tr style=\"text-align: right;\">\n      <th></th>\n      <th>date</th>\n      <th>open</th>\n      <th>high</th>\n      <th>low</th>\n      <th>close</th>\n      <th>volume</th>\n      <th>tic</th>\n      <th>macd</th>\n      <th>boll_ub</th>\n      <th>boll_lb</th>\n      <th>rsi_30</th>\n      <th>cci_30</th>\n      <th>dx_30</th>\n      <th>close_30_sma</th>\n      <th>close_60_sma</th>\n    </tr>\n  </thead>\n  <tbody>\n    <tr>\n      <th>0</th>\n      <td>2020-01-01 00:00:00</td>\n      <td>0.032850</td>\n      <td>0.032850</td>\n      <td>0.032700</td>\n      <td>0.032780</td>\n      <td>1.166001e+06</td>\n      <td>ada</td>\n      <td>0.000000</td>\n      <td>0.033182</td>\n      <td>0.032588</td>\n      <td>100.000000</td>\n      <td>66.666667</td>\n      <td>100.000000</td>\n      <td>0.032780</td>\n      <td>0.032780</td>\n    </tr>\n    <tr>\n      <th>10944</th>\n      <td>2020-01-01 00:00:00</td>\n      <td>13.715900</td>\n      <td>13.721100</td>\n      <td>13.690300</td>\n      <td>13.698100</td>\n      <td>6.201669e+04</td>\n      <td>bnb</td>\n      <td>0.000000</td>\n      <td>0.033182</td>\n      <td>0.032588</td>\n      <td>100.000000</td>\n      <td>66.666667</td>\n      <td>100.000000</td>\n      <td>13.698100</td>\n      <td>13.698100</td>\n    </tr>\n    <tr>\n      <th>21888</th>\n      <td>2020-01-01 00:00:00</td>\n      <td>7195.240000</td>\n      <td>7196.250000</td>\n      <td>7175.460000</td>\n      <td>7177.020000</td>\n      <td>5.118149e+02</td>\n      <td>btc</td>\n      <td>0.000000</td>\n      <td>0.033182</td>\n      <td>0.032588</td>\n      <td>100.000000</td>\n      <td>66.666667</td>\n      <td>100.000000</td>\n      <td>7177.020000</td>\n      <td>7177.020000</td>\n    </tr>\n    <tr>\n      <th>32832</th>\n      <td>2020-01-01 00:00:00</td>\n      <td>0.002014</td>\n      <td>0.002023</td>\n      <td>0.002008</td>\n      <td>0.002008</td>\n      <td>9.630910e+05</td>\n      <td>doge</td>\n      <td>0.000000</td>\n      <td>0.033182</td>\n      <td>0.032588</td>\n      <td>100.000000</td>\n      <td>66.666667</td>\n      <td>100.000000</td>\n      <td>0.002008</td>\n      <td>0.002008</td>\n    </tr>\n    <tr>\n      <th>43776</th>\n      <td>2020-01-01 00:00:00</td>\n      <td>129.160000</td>\n      <td>129.190000</td>\n      <td>128.680000</td>\n      <td>128.870000</td>\n      <td>7.769173e+03</td>\n      <td>eth</td>\n      <td>0.000000</td>\n      <td>0.033182</td>\n      <td>0.032588</td>\n      <td>100.000000</td>\n      <td>66.666667</td>\n      <td>100.000000</td>\n      <td>128.870000</td>\n      <td>128.870000</td>\n    </tr>\n    <tr>\n      <th>...</th>\n      <td>...</td>\n      <td>...</td>\n      <td>...</td>\n      <td>...</td>\n      <td>...</td>\n      <td>...</td>\n      <td>...</td>\n      <td>...</td>\n      <td>...</td>\n      <td>...</td>\n      <td>...</td>\n      <td>...</td>\n      <td>...</td>\n      <td>...</td>\n      <td>...</td>\n    </tr>\n    <tr>\n      <th>43775</th>\n      <td>2021-03-31 23:00:00</td>\n      <td>0.053143</td>\n      <td>0.053911</td>\n      <td>0.053000</td>\n      <td>0.053770</td>\n      <td>4.448111e+07</td>\n      <td>doge</td>\n      <td>-0.000103</td>\n      <td>0.054076</td>\n      <td>0.052762</td>\n      <td>50.006619</td>\n      <td>-10.311768</td>\n      <td>28.977404</td>\n      <td>0.053646</td>\n      <td>0.053938</td>\n    </tr>\n    <tr>\n      <th>54719</th>\n      <td>2021-03-31 23:00:00</td>\n      <td>1903.970000</td>\n      <td>1924.210000</td>\n      <td>1901.620000</td>\n      <td>1919.370000</td>\n      <td>2.122478e+04</td>\n      <td>eth</td>\n      <td>26.214167</td>\n      <td>1948.647647</td>\n      <td>1762.109353</td>\n      <td>64.618395</td>\n      <td>164.610885</td>\n      <td>23.659415</td>\n      <td>1851.563000</td>\n      <td>1833.205500</td>\n    </tr>\n    <tr>\n      <th>65663</th>\n      <td>2021-03-31 23:00:00</td>\n      <td>28.571700</td>\n      <td>29.440100</td>\n      <td>28.550100</td>\n      <td>29.416700</td>\n      <td>4.557268e+05</td>\n      <td>link</td>\n      <td>0.276832</td>\n      <td>29.035767</td>\n      <td>26.359743</td>\n      <td>64.396467</td>\n      <td>226.662894</td>\n      <td>36.167462</td>\n      <td>27.746403</td>\n      <td>27.922328</td>\n    </tr>\n    <tr>\n      <th>76607</th>\n      <td>2021-03-31 23:00:00</td>\n      <td>194.620000</td>\n      <td>197.630000</td>\n      <td>194.470000</td>\n      <td>196.700000</td>\n      <td>2.863109e+04</td>\n      <td>ltc</td>\n      <td>0.332601</td>\n      <td>198.176985</td>\n      <td>188.501015</td>\n      <td>55.327678</td>\n      <td>76.382622</td>\n      <td>7.269085</td>\n      <td>194.139000</td>\n      <td>194.302667</td>\n    </tr>\n    <tr>\n      <th>87551</th>\n      <td>2021-03-31 23:00:00</td>\n      <td>0.567460</td>\n      <td>0.576820</td>\n      <td>0.566620</td>\n      <td>0.569820</td>\n      <td>3.832329e+07</td>\n      <td>xrp</td>\n      <td>0.000334</td>\n      <td>0.567227</td>\n      <td>0.539948</td>\n      <td>54.914565</td>\n      <td>137.865576</td>\n      <td>8.433502</td>\n      <td>0.556611</td>\n      <td>0.561649</td>\n    </tr>\n  </tbody>\n</table>\n<p>87552 rows × 15 columns</p>\n</div>"
     },
     "metadata": {},
     "execution_count": 16
    }
   ],
   "source": [
    "df"
   ]
  },
  {
   "source": [
    "## Add covariance matrix as states"
   ],
   "cell_type": "markdown",
   "metadata": {}
  },
  {
   "cell_type": "code",
   "execution_count": 17,
   "metadata": {},
   "outputs": [],
   "source": [
    "# add covariance matrix as states\n",
    "df=df.sort_values(['date','tic'],ignore_index=True)\n",
    "df.index = df.date.factorize()[0]\n",
    "\n",
    "cov_list = []\n",
    "# look back is one year\n",
    "lookback=252\n",
    "for i in range(lookback,len(df.index.unique())):\n",
    "  data_lookback = df.loc[i-lookback:i,:]\n",
    "  price_lookback=data_lookback.pivot_table(index = 'date',columns = 'tic', values = 'close')\n",
    "  return_lookback = price_lookback.pct_change().dropna()\n",
    "  covs = return_lookback.cov().values \n",
    "  cov_list.append(covs)\n",
    "  \n",
    "df_cov = pd.DataFrame({'date':df.date.unique()[lookback:],'cov_list':cov_list})\n",
    "df = df.merge(df_cov, on='date')\n",
    "df = df.sort_values(['date','tic']).reset_index(drop=True)\n",
    "        "
   ]
  },
  {
   "cell_type": "code",
   "execution_count": null,
   "metadata": {},
   "outputs": [],
   "source": [
    "df"
   ]
  },
  {
   "source": [
    "<a id='4'></a>\n",
    "# Part 5. Design Environment\n",
    "Considering the stochastic and interactive nature of the automated stock trading tasks, a financial task is modeled as a **Markov Decision Process (MDP)** problem. The training process involves observing stock price change, taking an action and reward's calculation to have the agent adjusting its strategy accordingly. By interacting with the environment, the trading agent will derive a trading strategy with the maximized rewards as time proceeds.\n",
    "\n",
    "Our trading environments, based on OpenAI Gym framework, simulate live stock markets with real market data according to the principle of time-driven simulation.\n",
    "\n",
    "The action space describes the allowed actions that the agent interacts with the environment. Normally, action a includes three actions: {-1, 0, 1}, where -1, 0, 1 represent selling, holding, and buying one share. Also, an action can be carried upon multiple shares. We use an action space {-k,…,-1, 0, 1, …, k}, where k denotes the number of shares to buy and -k denotes the number of shares to sell. For example, \"Buy 10 shares of AAPL\" or \"Sell 10 shares of AAPL\" are 10 or -10, respectively. The continuous action space needs to be normalized to [-1, 1], since the policy is defined on a Gaussian distribution, which needs to be normalized and symmetric."
   ],
   "cell_type": "markdown",
   "metadata": {}
  },
  {
   "source": [
    "## Training data split: 2020-01-01 to 2020-12-31"
   ],
   "cell_type": "markdown",
   "metadata": {}
  },
  {
   "cell_type": "code",
   "execution_count": 22,
   "metadata": {},
   "outputs": [],
   "source": [
    "train = data_split(df, '2020-01-01','2020-12-31')"
   ]
  },
  {
   "source": [
    "## Environment for Portfolio Allocation\n"
   ],
   "cell_type": "markdown",
   "metadata": {}
  },
  {
   "cell_type": "code",
   "execution_count": 23,
   "metadata": {},
   "outputs": [
    {
     "output_type": "stream",
     "name": "stdout",
     "text": [
      "Stock Dimension: 8, State Space: 8\n"
     ]
    }
   ],
   "source": [
    "stock_dimension = len(train.tic.unique())\n",
    "state_space = stock_dimension\n",
    "print(f\"Stock Dimension: {stock_dimension}, State Space: {state_space}\")\n",
    "\n",
    "env_kwargs = {\n",
    "    \"hmax\": 100, \n",
    "    \"initial_amount\": 1000000, \n",
    "    \"transaction_cost_pct\": 0.001, \n",
    "    \"state_space\": state_space, \n",
    "    \"stock_dim\": stock_dimension, \n",
    "    \"tech_indicator_list\": config.TECHNICAL_INDICATORS_LIST, \n",
    "    \"action_space\": stock_dimension, \n",
    "    \"reward_scaling\": 1e-4\n",
    "    \n",
    "}\n",
    "\n",
    "e_train_gym = StockPortfolioEnv(df = train, **env_kwargs)\n",
    "\n",
    "env_train, _ = e_train_gym.get_sb_env()"
   ]
  },
  {
   "cell_type": "markdown",
   "metadata": {},
   "source": [
    "<a id='5'></a>\n",
    "# Part 6: Implement DRL Algorithms"
   ]
  },
  {
   "cell_type": "code",
   "execution_count": 24,
   "metadata": {},
   "outputs": [],
   "source": [
    "# initialize\n",
    "agent = DRLAgent(env = env_train)"
   ]
  },
  {
   "source": [
    "### Model 1: **A2C**\n"
   ],
   "cell_type": "markdown",
   "metadata": {}
  },
  {
   "cell_type": "code",
   "execution_count": 33,
   "metadata": {},
   "outputs": [
    {
     "output_type": "stream",
     "name": "stdout",
     "text": [
      "{'n_steps': 1, 'ent_coef': 0.005, 'learning_rate': 0.0002}\nUsing cpu device\n"
     ]
    }
   ],
   "source": [
    "A2C_PARAMS = {\"n_steps\": 5, \"ent_coef\": 0.005, \"learning_rate\": 0.0002}\n",
    "model_a2c = agent.get_model(model_name=\"a2c\",model_kwargs = A2C_PARAMS)"
   ]
  },
  {
   "cell_type": "code",
   "execution_count": 34,
   "metadata": {
    "tags": [
     "outputPrepend"
    ]
   },
   "outputs": [
    {
     "output_type": "stream",
     "name": "stdout",
     "text": [
      "  time_elapsed       | 324      |\n",
      "|    total_timesteps    | 56500    |\n",
      "| train/                |          |\n",
      "|    entropy_loss       | -2.42    |\n",
      "|    explained_variance | nan      |\n",
      "|    learning_rate      | 0.0002   |\n",
      "|    n_updates          | 56499    |\n",
      "|    policy_loss        | 5.7e+06  |\n",
      "|    std                | 0.331    |\n",
      "|    value_loss         | 4.47e+12 |\n",
      "------------------------------------\n",
      "-------------------------------------\n",
      "| time/                 |           |\n",
      "|    fps                | 173       |\n",
      "|    iterations         | 56600     |\n",
      "|    time_elapsed       | 325       |\n",
      "|    total_timesteps    | 56600     |\n",
      "| train/                |           |\n",
      "|    entropy_loss       | -2.41     |\n",
      "|    explained_variance | nan       |\n",
      "|    learning_rate      | 0.0002    |\n",
      "|    n_updates          | 56599     |\n",
      "|    policy_loss        | -2.43e+05 |\n",
      "|    std                | 0.33      |\n",
      "|    value_loss         | 4.69e+12  |\n",
      "-------------------------------------\n",
      "------------------------------------\n",
      "| time/                 |          |\n",
      "|    fps                | 173      |\n",
      "|    iterations         | 56700    |\n",
      "|    time_elapsed       | 326      |\n",
      "|    total_timesteps    | 56700    |\n",
      "| train/                |          |\n",
      "|    entropy_loss       | -2.4     |\n",
      "|    explained_variance | nan      |\n",
      "|    learning_rate      | 0.0002   |\n",
      "|    n_updates          | 56699    |\n",
      "|    policy_loss        | 6.64e+06 |\n",
      "|    std                | 0.33     |\n",
      "|    value_loss         | 4.79e+12 |\n",
      "------------------------------------\n",
      "------------------------------------\n",
      "| time/                 |          |\n",
      "|    fps                | 173      |\n",
      "|    iterations         | 56800    |\n",
      "|    time_elapsed       | 326      |\n",
      "|    total_timesteps    | 56800    |\n",
      "| train/                |          |\n",
      "|    entropy_loss       | -2.38    |\n",
      "|    explained_variance | nan      |\n",
      "|    learning_rate      | 0.0002   |\n",
      "|    n_updates          | 56799    |\n",
      "|    policy_loss        | 6.02e+06 |\n",
      "|    std                | 0.329    |\n",
      "|    value_loss         | 3.46e+12 |\n",
      "------------------------------------\n",
      "------------------------------------\n",
      "| time/                 |          |\n",
      "|    fps                | 173      |\n",
      "|    iterations         | 56900    |\n",
      "|    time_elapsed       | 327      |\n",
      "|    total_timesteps    | 56900    |\n",
      "| train/                |          |\n",
      "|    entropy_loss       | -2.35    |\n",
      "|    explained_variance | nan      |\n",
      "|    learning_rate      | 0.0002   |\n",
      "|    n_updates          | 56899    |\n",
      "|    policy_loss        | 4.93e+06 |\n",
      "|    std                | 0.328    |\n",
      "|    value_loss         | 3.63e+12 |\n",
      "------------------------------------\n",
      "------------------------------------\n",
      "| time/                 |          |\n",
      "|    fps                | 173      |\n",
      "|    iterations         | 57000    |\n",
      "|    time_elapsed       | 327      |\n",
      "|    total_timesteps    | 57000    |\n",
      "| train/                |          |\n",
      "|    entropy_loss       | -2.32    |\n",
      "|    explained_variance | nan      |\n",
      "|    learning_rate      | 0.0002   |\n",
      "|    n_updates          | 56999    |\n",
      "|    policy_loss        | 8.41e+06 |\n",
      "|    std                | 0.327    |\n",
      "|    value_loss         | 4.02e+12 |\n",
      "------------------------------------\n",
      "------------------------------------\n",
      "| time/                 |          |\n",
      "|    fps                | 173      |\n",
      "|    iterations         | 57100    |\n",
      "|    time_elapsed       | 328      |\n",
      "|    total_timesteps    | 57100    |\n",
      "| train/                |          |\n",
      "|    entropy_loss       | -2.3     |\n",
      "|    explained_variance | nan      |\n",
      "|    learning_rate      | 0.0002   |\n",
      "|    n_updates          | 57099    |\n",
      "|    policy_loss        | 6.87e+06 |\n",
      "|    std                | 0.326    |\n",
      "|    value_loss         | 3.87e+12 |\n",
      "------------------------------------\n",
      "------------------------------------\n",
      "| time/                 |          |\n",
      "|    fps                | 173      |\n",
      "|    iterations         | 57200    |\n",
      "|    time_elapsed       | 328      |\n",
      "|    total_timesteps    | 57200    |\n",
      "| train/                |          |\n",
      "|    entropy_loss       | -2.3     |\n",
      "|    explained_variance | nan      |\n",
      "|    learning_rate      | 0.0002   |\n",
      "|    n_updates          | 57199    |\n",
      "|    policy_loss        | 5.66e+06 |\n",
      "|    std                | 0.326    |\n",
      "|    value_loss         | 2.92e+12 |\n",
      "------------------------------------\n",
      "------------------------------------\n",
      "| time/                 |          |\n",
      "|    fps                | 173      |\n",
      "|    iterations         | 57300    |\n",
      "|    time_elapsed       | 329      |\n",
      "|    total_timesteps    | 57300    |\n",
      "| train/                |          |\n",
      "|    entropy_loss       | -2.29    |\n",
      "|    explained_variance | nan      |\n",
      "|    learning_rate      | 0.0002   |\n",
      "|    n_updates          | 57299    |\n",
      "|    policy_loss        | 1.16e+07 |\n",
      "|    std                | 0.325    |\n",
      "|    value_loss         | 3.73e+12 |\n",
      "------------------------------------\n",
      "------------------------------------\n",
      "| time/                 |          |\n",
      "|    fps                | 173      |\n",
      "|    iterations         | 57400    |\n",
      "|    time_elapsed       | 329      |\n",
      "|    total_timesteps    | 57400    |\n",
      "| train/                |          |\n",
      "|    entropy_loss       | -2.27    |\n",
      "|    explained_variance | nan      |\n",
      "|    learning_rate      | 0.0002   |\n",
      "|    n_updates          | 57399    |\n",
      "|    policy_loss        | 6.76e+05 |\n",
      "|    std                | 0.324    |\n",
      "|    value_loss         | 3.71e+12 |\n",
      "------------------------------------\n",
      "------------------------------------\n",
      "| time/                 |          |\n",
      "|    fps                | 173      |\n",
      "|    iterations         | 57500    |\n",
      "|    time_elapsed       | 330      |\n",
      "|    total_timesteps    | 57500    |\n",
      "| train/                |          |\n",
      "|    entropy_loss       | -2.26    |\n",
      "|    explained_variance | nan      |\n",
      "|    learning_rate      | 0.0002   |\n",
      "|    n_updates          | 57499    |\n",
      "|    policy_loss        | 4.85e+06 |\n",
      "|    std                | 0.324    |\n",
      "|    value_loss         | 3.73e+12 |\n",
      "------------------------------------\n",
      "------------------------------------\n",
      "| time/                 |          |\n",
      "|    fps                | 173      |\n",
      "|    iterations         | 57600    |\n",
      "|    time_elapsed       | 331      |\n",
      "|    total_timesteps    | 57600    |\n",
      "| train/                |          |\n",
      "|    entropy_loss       | -2.24    |\n",
      "|    explained_variance | nan      |\n",
      "|    learning_rate      | 0.0002   |\n",
      "|    n_updates          | 57599    |\n",
      "|    policy_loss        | 3.77e+05 |\n",
      "|    std                | 0.323    |\n",
      "|    value_loss         | 4.12e+12 |\n",
      "------------------------------------\n",
      "------------------------------------\n",
      "| time/                 |          |\n",
      "|    fps                | 173      |\n",
      "|    iterations         | 57700    |\n",
      "|    time_elapsed       | 331      |\n",
      "|    total_timesteps    | 57700    |\n",
      "| train/                |          |\n",
      "|    entropy_loss       | -2.21    |\n",
      "|    explained_variance | nan      |\n",
      "|    learning_rate      | 0.0002   |\n",
      "|    n_updates          | 57699    |\n",
      "|    policy_loss        | 5.9e+06  |\n",
      "|    std                | 0.322    |\n",
      "|    value_loss         | 4.26e+12 |\n",
      "------------------------------------\n",
      "------------------------------------\n",
      "| time/                 |          |\n",
      "|    fps                | 173      |\n",
      "|    iterations         | 57800    |\n",
      "|    time_elapsed       | 332      |\n",
      "|    total_timesteps    | 57800    |\n",
      "| train/                |          |\n",
      "|    entropy_loss       | -2.19    |\n",
      "|    explained_variance | nan      |\n",
      "|    learning_rate      | 0.0002   |\n",
      "|    n_updates          | 57799    |\n",
      "|    policy_loss        | 8.58e+06 |\n",
      "|    std                | 0.321    |\n",
      "|    value_loss         | 4.19e+12 |\n",
      "------------------------------------\n",
      "------------------------------------\n",
      "| time/                 |          |\n",
      "|    fps                | 174      |\n",
      "|    iterations         | 57900    |\n",
      "|    time_elapsed       | 332      |\n",
      "|    total_timesteps    | 57900    |\n",
      "| train/                |          |\n",
      "|    entropy_loss       | -2.17    |\n",
      "|    explained_variance | nan      |\n",
      "|    learning_rate      | 0.0002   |\n",
      "|    n_updates          | 57899    |\n",
      "|    policy_loss        | 8.33e+06 |\n",
      "|    std                | 0.321    |\n",
      "|    value_loss         | 4.86e+12 |\n",
      "------------------------------------\n",
      "------------------------------------\n",
      "| time/                 |          |\n",
      "|    fps                | 174      |\n",
      "|    iterations         | 58000    |\n",
      "|    time_elapsed       | 333      |\n",
      "|    total_timesteps    | 58000    |\n",
      "| train/                |          |\n",
      "|    entropy_loss       | -2.15    |\n",
      "|    explained_variance | nan      |\n",
      "|    learning_rate      | 0.0002   |\n",
      "|    n_updates          | 57999    |\n",
      "|    policy_loss        | 6.23e+06 |\n",
      "|    std                | 0.32     |\n",
      "|    value_loss         | 4.72e+12 |\n",
      "------------------------------------\n",
      "------------------------------------\n",
      "| time/                 |          |\n",
      "|    fps                | 174      |\n",
      "|    iterations         | 58100    |\n",
      "|    time_elapsed       | 333      |\n",
      "|    total_timesteps    | 58100    |\n",
      "| train/                |          |\n",
      "|    entropy_loss       | -2.13    |\n",
      "|    explained_variance | nan      |\n",
      "|    learning_rate      | 0.0002   |\n",
      "|    n_updates          | 58099    |\n",
      "|    policy_loss        | 4.59e+06 |\n",
      "|    std                | 0.319    |\n",
      "|    value_loss         | 4.28e+12 |\n",
      "------------------------------------\n",
      "------------------------------------\n",
      "| time/                 |          |\n",
      "|    fps                | 174      |\n",
      "|    iterations         | 58200    |\n",
      "|    time_elapsed       | 334      |\n",
      "|    total_timesteps    | 58200    |\n",
      "| train/                |          |\n",
      "|    entropy_loss       | -2.11    |\n",
      "|    explained_variance | nan      |\n",
      "|    learning_rate      | 0.0002   |\n",
      "|    n_updates          | 58199    |\n",
      "|    policy_loss        | 5.98e+06 |\n",
      "|    std                | 0.318    |\n",
      "|    value_loss         | 4.1e+12  |\n",
      "------------------------------------\n",
      "------------------------------------\n",
      "| time/                 |          |\n",
      "|    fps                | 174      |\n",
      "|    iterations         | 58300    |\n",
      "|    time_elapsed       | 334      |\n",
      "|    total_timesteps    | 58300    |\n",
      "| train/                |          |\n",
      "|    entropy_loss       | -2.09    |\n",
      "|    explained_variance | nan      |\n",
      "|    learning_rate      | 0.0002   |\n",
      "|    n_updates          | 58299    |\n",
      "|    policy_loss        | 5.76e+06 |\n",
      "|    std                | 0.318    |\n",
      "|    value_loss         | 5.34e+12 |\n",
      "------------------------------------\n",
      "------------------------------------\n",
      "| time/                 |          |\n",
      "|    fps                | 174      |\n",
      "|    iterations         | 58400    |\n",
      "|    time_elapsed       | 335      |\n",
      "|    total_timesteps    | 58400    |\n",
      "| train/                |          |\n",
      "|    entropy_loss       | -2.08    |\n",
      "|    explained_variance | nan      |\n",
      "|    learning_rate      | 0.0002   |\n",
      "|    n_updates          | 58399    |\n",
      "|    policy_loss        | 1e+05    |\n",
      "|    std                | 0.317    |\n",
      "|    value_loss         | 5.2e+12  |\n",
      "------------------------------------\n",
      "------------------------------------\n",
      "| time/                 |          |\n",
      "|    fps                | 174      |\n",
      "|    iterations         | 58500    |\n",
      "|    time_elapsed       | 336      |\n",
      "|    total_timesteps    | 58500    |\n",
      "| train/                |          |\n",
      "|    entropy_loss       | -2.06    |\n",
      "|    explained_variance | nan      |\n",
      "|    learning_rate      | 0.0002   |\n",
      "|    n_updates          | 58499    |\n",
      "|    policy_loss        | 3.48e+06 |\n",
      "|    std                | 0.316    |\n",
      "|    value_loss         | 5.91e+12 |\n",
      "------------------------------------\n",
      "------------------------------------\n",
      "| time/                 |          |\n",
      "|    fps                | 174      |\n",
      "|    iterations         | 58600    |\n",
      "|    time_elapsed       | 336      |\n",
      "|    total_timesteps    | 58600    |\n",
      "| train/                |          |\n",
      "|    entropy_loss       | -2.05    |\n",
      "|    explained_variance | nan      |\n",
      "|    learning_rate      | 0.0002   |\n",
      "|    n_updates          | 58599    |\n",
      "|    policy_loss        | 1.4e+07  |\n",
      "|    std                | 0.316    |\n",
      "|    value_loss         | 7.3e+12  |\n",
      "------------------------------------\n",
      "------------------------------------\n",
      "| time/                 |          |\n",
      "|    fps                | 174      |\n",
      "|    iterations         | 58700    |\n",
      "|    time_elapsed       | 337      |\n",
      "|    total_timesteps    | 58700    |\n",
      "| train/                |          |\n",
      "|    entropy_loss       | -2.03    |\n",
      "|    explained_variance | nan      |\n",
      "|    learning_rate      | 0.0002   |\n",
      "|    n_updates          | 58699    |\n",
      "|    policy_loss        | 1.23e+07 |\n",
      "|    std                | 0.315    |\n",
      "|    value_loss         | 1.16e+13 |\n",
      "------------------------------------\n",
      "------------------------------------\n",
      "| time/                 |          |\n",
      "|    fps                | 174      |\n",
      "|    iterations         | 58800    |\n",
      "|    time_elapsed       | 337      |\n",
      "|    total_timesteps    | 58800    |\n",
      "| train/                |          |\n",
      "|    entropy_loss       | -2.02    |\n",
      "|    explained_variance | nan      |\n",
      "|    learning_rate      | 0.0002   |\n",
      "|    n_updates          | 58799    |\n",
      "|    policy_loss        | 8.28e+06 |\n",
      "|    std                | 0.315    |\n",
      "|    value_loss         | 9.82e+12 |\n",
      "------------------------------------\n",
      "------------------------------------\n",
      "| time/                 |          |\n",
      "|    fps                | 174      |\n",
      "|    iterations         | 58900    |\n",
      "|    time_elapsed       | 338      |\n",
      "|    total_timesteps    | 58900    |\n",
      "| train/                |          |\n",
      "|    entropy_loss       | -2.01    |\n",
      "|    explained_variance | nan      |\n",
      "|    learning_rate      | 0.0002   |\n",
      "|    n_updates          | 58899    |\n",
      "|    policy_loss        | 4.17e+06 |\n",
      "|    std                | 0.315    |\n",
      "|    value_loss         | 1.12e+13 |\n",
      "------------------------------------\n",
      "------------------------------------\n",
      "| time/                 |          |\n",
      "|    fps                | 174      |\n",
      "|    iterations         | 59000    |\n",
      "|    time_elapsed       | 339      |\n",
      "|    total_timesteps    | 59000    |\n",
      "| train/                |          |\n",
      "|    entropy_loss       | -1.99    |\n",
      "|    explained_variance | nan      |\n",
      "|    learning_rate      | 0.0002   |\n",
      "|    n_updates          | 58999    |\n",
      "|    policy_loss        | 1.47e+06 |\n",
      "|    std                | 0.314    |\n",
      "|    value_loss         | 9.89e+12 |\n",
      "------------------------------------\n",
      "------------------------------------\n",
      "| time/                 |          |\n",
      "|    fps                | 174      |\n",
      "|    iterations         | 59100    |\n",
      "|    time_elapsed       | 339      |\n",
      "|    total_timesteps    | 59100    |\n",
      "| train/                |          |\n",
      "|    entropy_loss       | -1.97    |\n",
      "|    explained_variance | nan      |\n",
      "|    learning_rate      | 0.0002   |\n",
      "|    n_updates          | 59099    |\n",
      "|    policy_loss        | 1.27e+07 |\n",
      "|    std                | 0.313    |\n",
      "|    value_loss         | 8.38e+12 |\n",
      "------------------------------------\n",
      "------------------------------------\n",
      "| time/                 |          |\n",
      "|    fps                | 174      |\n",
      "|    iterations         | 59200    |\n",
      "|    time_elapsed       | 340      |\n",
      "|    total_timesteps    | 59200    |\n",
      "| train/                |          |\n",
      "|    entropy_loss       | -1.95    |\n",
      "|    explained_variance | nan      |\n",
      "|    learning_rate      | 0.0002   |\n",
      "|    n_updates          | 59199    |\n",
      "|    policy_loss        | 3.23e+06 |\n",
      "|    std                | 0.312    |\n",
      "|    value_loss         | 8.89e+12 |\n",
      "------------------------------------\n",
      "------------------------------------\n",
      "| time/                 |          |\n",
      "|    fps                | 174      |\n",
      "|    iterations         | 59300    |\n",
      "|    time_elapsed       | 340      |\n",
      "|    total_timesteps    | 59300    |\n",
      "| train/                |          |\n",
      "|    entropy_loss       | -1.94    |\n",
      "|    explained_variance | nan      |\n",
      "|    learning_rate      | 0.0002   |\n",
      "|    n_updates          | 59299    |\n",
      "|    policy_loss        | 1.88e+05 |\n",
      "|    std                | 0.312    |\n",
      "|    value_loss         | 1.28e+13 |\n",
      "------------------------------------\n",
      "------------------------------------\n",
      "| time/                 |          |\n",
      "|    fps                | 174      |\n",
      "|    iterations         | 59400    |\n",
      "|    time_elapsed       | 341      |\n",
      "|    total_timesteps    | 59400    |\n",
      "| train/                |          |\n",
      "|    entropy_loss       | -1.92    |\n",
      "|    explained_variance | nan      |\n",
      "|    learning_rate      | 0.0002   |\n",
      "|    n_updates          | 59399    |\n",
      "|    policy_loss        | 5.35e+06 |\n",
      "|    std                | 0.311    |\n",
      "|    value_loss         | 8.85e+12 |\n",
      "------------------------------------\n",
      "------------------------------------\n",
      "| time/                 |          |\n",
      "|    fps                | 174      |\n",
      "|    iterations         | 59500    |\n",
      "|    time_elapsed       | 341      |\n",
      "|    total_timesteps    | 59500    |\n",
      "| train/                |          |\n",
      "|    entropy_loss       | -1.9     |\n",
      "|    explained_variance | nan      |\n",
      "|    learning_rate      | 0.0002   |\n",
      "|    n_updates          | 59499    |\n",
      "|    policy_loss        | 4.99e+06 |\n",
      "|    std                | 0.31     |\n",
      "|    value_loss         | 1.19e+13 |\n",
      "------------------------------------\n",
      "=================================\n",
      "begin_total_asset:1000000\n",
      "end_total_asset:3453845.922685442\n",
      "Sharpe:  0.3254427127556832\n",
      "=================================\n",
      "------------------------------------\n",
      "| time/                 |          |\n",
      "|    fps                | 173      |\n",
      "|    iterations         | 59600    |\n",
      "|    time_elapsed       | 342      |\n",
      "|    total_timesteps    | 59600    |\n",
      "| train/                |          |\n",
      "|    entropy_loss       | -1.88    |\n",
      "|    explained_variance | nan      |\n",
      "|    learning_rate      | 0.0002   |\n",
      "|    n_updates          | 59599    |\n",
      "|    policy_loss        | 2.59e+06 |\n",
      "|    std                | 0.31     |\n",
      "|    value_loss         | 1.01e+12 |\n",
      "------------------------------------\n",
      "------------------------------------\n",
      "| time/                 |          |\n",
      "|    fps                | 173      |\n",
      "|    iterations         | 59700    |\n",
      "|    time_elapsed       | 343      |\n",
      "|    total_timesteps    | 59700    |\n",
      "| train/                |          |\n",
      "|    entropy_loss       | -1.86    |\n",
      "|    explained_variance | nan      |\n",
      "|    learning_rate      | 0.0002   |\n",
      "|    n_updates          | 59699    |\n",
      "|    policy_loss        | 2.05e+06 |\n",
      "|    std                | 0.309    |\n",
      "|    value_loss         | 1.35e+12 |\n",
      "------------------------------------\n",
      "------------------------------------\n",
      "| time/                 |          |\n",
      "|    fps                | 173      |\n",
      "|    iterations         | 59800    |\n",
      "|    time_elapsed       | 343      |\n",
      "|    total_timesteps    | 59800    |\n",
      "| train/                |          |\n",
      "|    entropy_loss       | -1.84    |\n",
      "|    explained_variance | nan      |\n",
      "|    learning_rate      | 0.0002   |\n",
      "|    n_updates          | 59799    |\n",
      "|    policy_loss        | 3.49e+05 |\n",
      "|    std                | 0.308    |\n",
      "|    value_loss         | 1.36e+12 |\n",
      "------------------------------------\n",
      "------------------------------------\n",
      "| time/                 |          |\n",
      "|    fps                | 173      |\n",
      "|    iterations         | 59900    |\n",
      "|    time_elapsed       | 344      |\n",
      "|    total_timesteps    | 59900    |\n",
      "| train/                |          |\n",
      "|    entropy_loss       | -1.82    |\n",
      "|    explained_variance | nan      |\n",
      "|    learning_rate      | 0.0002   |\n",
      "|    n_updates          | 59899    |\n",
      "|    policy_loss        | 3.98e+05 |\n",
      "|    std                | 0.307    |\n",
      "|    value_loss         | 1.23e+12 |\n",
      "------------------------------------\n",
      "------------------------------------\n",
      "| time/                 |          |\n",
      "|    fps                | 173      |\n",
      "|    iterations         | 60000    |\n",
      "|    time_elapsed       | 344      |\n",
      "|    total_timesteps    | 60000    |\n",
      "| train/                |          |\n",
      "|    entropy_loss       | -1.81    |\n",
      "|    explained_variance | nan      |\n",
      "|    learning_rate      | 0.0002   |\n",
      "|    n_updates          | 59999    |\n",
      "|    policy_loss        | 1.03e+05 |\n",
      "|    std                | 0.307    |\n",
      "|    value_loss         | 1.5e+12  |\n",
      "------------------------------------\n"
     ]
    }
   ],
   "source": [
    "trained_a2c = agent.train_model(model=model_a2c, \n",
    "                                tb_log_name='a2c',\n",
    "                                total_timesteps=60000)"
   ]
  },
  {
   "source": [
    "### Model 2: **PPO**"
   ],
   "cell_type": "markdown",
   "metadata": {}
  },
  {
   "cell_type": "code",
   "execution_count": 36,
   "metadata": {},
   "outputs": [],
   "source": [
    "# agent = DRLAgent(env = env_train)\n",
    "# PPO_PARAMS = {\n",
    "#     \"n_steps\": 2048,\n",
    "#     \"ent_coef\": 0.005,\n",
    "#     \"learning_rate\": 0.0001,\n",
    "#     \"batch_size\": 128,\n",
    "# }\n",
    "# model_ppo = agent.get_model(\"ppo\",model_kwargs = PPO_PARAMS)"
   ]
  },
  {
   "cell_type": "code",
   "execution_count": 35,
   "metadata": {},
   "outputs": [],
   "source": [
    "# trained_ppo = agent.train_model(model=model_ppo, \n",
    "#                              tb_log_name='ppo',\n",
    "#                              total_timesteps=80000)"
   ]
  },
  {
   "cell_type": "code",
   "execution_count": null,
   "metadata": {},
   "outputs": [],
   "source": []
  },
  {
   "source": [
    "## Trading\n",
    "Assume that we have $1,000,000 initial capital at 2021-01-01."
   ],
   "cell_type": "markdown",
   "metadata": {}
  },
  {
   "source": [
    "trade = data_split(df,'2021-01-01', config.END_DATE)\n",
    "e_trade_gym = StockPortfolioEnv(df = trade, **env_kwargs)"
   ],
   "cell_type": "code",
   "metadata": {},
   "execution_count": 37,
   "outputs": []
  },
  {
   "cell_type": "code",
   "execution_count": 38,
   "metadata": {},
   "outputs": [
    {
     "output_type": "execute_result",
     "data": {
      "text/plain": [
       "(17280, 16)"
      ]
     },
     "metadata": {},
     "execution_count": 38
    }
   ],
   "source": [
    "trade.shape"
   ]
  },
  {
   "cell_type": "code",
   "execution_count": 39,
   "metadata": {},
   "outputs": [
    {
     "output_type": "execute_result",
     "data": {
      "text/plain": [
       "                     date          open          high           low  \\\n",
       "0     2021-01-01 00:00:00      0.181340      0.181460      0.178310   \n",
       "0     2021-01-01 00:00:00     37.359600     37.442300     36.963600   \n",
       "0     2021-01-01 00:00:00  28923.630000  29031.340000  28690.170000   \n",
       "0     2021-01-01 00:00:00      0.004672      0.004701      0.004601   \n",
       "0     2021-01-01 00:00:00    736.420000    739.000000    729.330000   \n",
       "...                   ...           ...           ...           ...   \n",
       "2159  2021-03-31 23:00:00      0.053143      0.053911      0.053000   \n",
       "2159  2021-03-31 23:00:00   1903.970000   1924.210000   1901.620000   \n",
       "2159  2021-03-31 23:00:00     28.571700     29.440100     28.550100   \n",
       "2159  2021-03-31 23:00:00    194.620000    197.630000    194.470000   \n",
       "2159  2021-03-31 23:00:00      0.567460      0.576820      0.566620   \n",
       "\n",
       "             close        volume   tic        macd       boll_ub  \\\n",
       "0         0.180510  1.919492e+07   ada   -0.000153      0.184657   \n",
       "0        37.376400  9.511383e+04   bnb   -0.083237     37.946399   \n",
       "0     28995.130000  2.311811e+03   btc  133.938215  29333.932277   \n",
       "0         0.004679  2.768207e+07  doge    0.000018      0.004729   \n",
       "0       734.070000  2.793270e+04   eth   -0.496311    752.068407   \n",
       "...            ...           ...   ...         ...           ...   \n",
       "2159      0.053770  4.448111e+07  doge   -0.000103      0.054076   \n",
       "2159   1919.370000  2.122478e+04   eth   26.214167   1948.647647   \n",
       "2159     29.416700  4.557268e+05  link    0.276832     29.035767   \n",
       "2159    196.700000  2.863109e+04   ltc    0.332601    198.176985   \n",
       "2159      0.569820  3.832329e+07   xrp    0.000334      0.567227   \n",
       "\n",
       "           boll_lb     rsi_30      cci_30      dx_30  close_30_sma  \\\n",
       "0         0.176516  50.750459  -27.165052   6.100618      0.180782   \n",
       "0        36.719461  51.231566  -33.515795  11.715168     37.421230   \n",
       "0     28372.364723  57.001762   31.346237   5.617701  28857.221667   \n",
       "0         0.004558  53.910140   48.169530   6.372370      0.004639   \n",
       "0       727.317593  50.347614  -92.128309  16.290326    741.657333   \n",
       "...            ...        ...         ...        ...           ...   \n",
       "2159      0.052762  50.006619  -10.311768  28.977404      0.053646   \n",
       "2159   1762.109353  64.618395  164.610885  23.659415   1851.563000   \n",
       "2159     26.359743  64.396467  226.662894  36.167462     27.746403   \n",
       "2159    188.501015  55.327678   76.382622   7.269085    194.139000   \n",
       "2159      0.539948  54.914565  137.865576   8.433502      0.556611   \n",
       "\n",
       "      close_60_sma                                           cov_list  \n",
       "0         0.182191  [[0.00023491493831790994, 7.732551281244585e-0...  \n",
       "0        37.590240  [[0.00023491493831790994, 7.732551281244585e-0...  \n",
       "0     28217.099500  [[0.00023491493831790994, 7.732551281244585e-0...  \n",
       "0         0.004574  [[0.00023491493831790994, 7.732551281244585e-0...  \n",
       "0       735.789500  [[0.00023491493831790994, 7.732551281244585e-0...  \n",
       "...            ...                                                ...  \n",
       "2159      0.053938  [[0.0001184825404164931, 7.097453732794227e-05...  \n",
       "2159   1833.205500  [[0.0001184825404164931, 7.097453732794227e-05...  \n",
       "2159     27.922328  [[0.0001184825404164931, 7.097453732794227e-05...  \n",
       "2159    194.302667  [[0.0001184825404164931, 7.097453732794227e-05...  \n",
       "2159      0.561649  [[0.0001184825404164931, 7.097453732794227e-05...  \n",
       "\n",
       "[17280 rows x 16 columns]"
      ],
      "text/html": "<div>\n<style scoped>\n    .dataframe tbody tr th:only-of-type {\n        vertical-align: middle;\n    }\n\n    .dataframe tbody tr th {\n        vertical-align: top;\n    }\n\n    .dataframe thead th {\n        text-align: right;\n    }\n</style>\n<table border=\"1\" class=\"dataframe\">\n  <thead>\n    <tr style=\"text-align: right;\">\n      <th></th>\n      <th>date</th>\n      <th>open</th>\n      <th>high</th>\n      <th>low</th>\n      <th>close</th>\n      <th>volume</th>\n      <th>tic</th>\n      <th>macd</th>\n      <th>boll_ub</th>\n      <th>boll_lb</th>\n      <th>rsi_30</th>\n      <th>cci_30</th>\n      <th>dx_30</th>\n      <th>close_30_sma</th>\n      <th>close_60_sma</th>\n      <th>cov_list</th>\n    </tr>\n  </thead>\n  <tbody>\n    <tr>\n      <th>0</th>\n      <td>2021-01-01 00:00:00</td>\n      <td>0.181340</td>\n      <td>0.181460</td>\n      <td>0.178310</td>\n      <td>0.180510</td>\n      <td>1.919492e+07</td>\n      <td>ada</td>\n      <td>-0.000153</td>\n      <td>0.184657</td>\n      <td>0.176516</td>\n      <td>50.750459</td>\n      <td>-27.165052</td>\n      <td>6.100618</td>\n      <td>0.180782</td>\n      <td>0.182191</td>\n      <td>[[0.00023491493831790994, 7.732551281244585e-0...</td>\n    </tr>\n    <tr>\n      <th>0</th>\n      <td>2021-01-01 00:00:00</td>\n      <td>37.359600</td>\n      <td>37.442300</td>\n      <td>36.963600</td>\n      <td>37.376400</td>\n      <td>9.511383e+04</td>\n      <td>bnb</td>\n      <td>-0.083237</td>\n      <td>37.946399</td>\n      <td>36.719461</td>\n      <td>51.231566</td>\n      <td>-33.515795</td>\n      <td>11.715168</td>\n      <td>37.421230</td>\n      <td>37.590240</td>\n      <td>[[0.00023491493831790994, 7.732551281244585e-0...</td>\n    </tr>\n    <tr>\n      <th>0</th>\n      <td>2021-01-01 00:00:00</td>\n      <td>28923.630000</td>\n      <td>29031.340000</td>\n      <td>28690.170000</td>\n      <td>28995.130000</td>\n      <td>2.311811e+03</td>\n      <td>btc</td>\n      <td>133.938215</td>\n      <td>29333.932277</td>\n      <td>28372.364723</td>\n      <td>57.001762</td>\n      <td>31.346237</td>\n      <td>5.617701</td>\n      <td>28857.221667</td>\n      <td>28217.099500</td>\n      <td>[[0.00023491493831790994, 7.732551281244585e-0...</td>\n    </tr>\n    <tr>\n      <th>0</th>\n      <td>2021-01-01 00:00:00</td>\n      <td>0.004672</td>\n      <td>0.004701</td>\n      <td>0.004601</td>\n      <td>0.004679</td>\n      <td>2.768207e+07</td>\n      <td>doge</td>\n      <td>0.000018</td>\n      <td>0.004729</td>\n      <td>0.004558</td>\n      <td>53.910140</td>\n      <td>48.169530</td>\n      <td>6.372370</td>\n      <td>0.004639</td>\n      <td>0.004574</td>\n      <td>[[0.00023491493831790994, 7.732551281244585e-0...</td>\n    </tr>\n    <tr>\n      <th>0</th>\n      <td>2021-01-01 00:00:00</td>\n      <td>736.420000</td>\n      <td>739.000000</td>\n      <td>729.330000</td>\n      <td>734.070000</td>\n      <td>2.793270e+04</td>\n      <td>eth</td>\n      <td>-0.496311</td>\n      <td>752.068407</td>\n      <td>727.317593</td>\n      <td>50.347614</td>\n      <td>-92.128309</td>\n      <td>16.290326</td>\n      <td>741.657333</td>\n      <td>735.789500</td>\n      <td>[[0.00023491493831790994, 7.732551281244585e-0...</td>\n    </tr>\n    <tr>\n      <th>...</th>\n      <td>...</td>\n      <td>...</td>\n      <td>...</td>\n      <td>...</td>\n      <td>...</td>\n      <td>...</td>\n      <td>...</td>\n      <td>...</td>\n      <td>...</td>\n      <td>...</td>\n      <td>...</td>\n      <td>...</td>\n      <td>...</td>\n      <td>...</td>\n      <td>...</td>\n      <td>...</td>\n    </tr>\n    <tr>\n      <th>2159</th>\n      <td>2021-03-31 23:00:00</td>\n      <td>0.053143</td>\n      <td>0.053911</td>\n      <td>0.053000</td>\n      <td>0.053770</td>\n      <td>4.448111e+07</td>\n      <td>doge</td>\n      <td>-0.000103</td>\n      <td>0.054076</td>\n      <td>0.052762</td>\n      <td>50.006619</td>\n      <td>-10.311768</td>\n      <td>28.977404</td>\n      <td>0.053646</td>\n      <td>0.053938</td>\n      <td>[[0.0001184825404164931, 7.097453732794227e-05...</td>\n    </tr>\n    <tr>\n      <th>2159</th>\n      <td>2021-03-31 23:00:00</td>\n      <td>1903.970000</td>\n      <td>1924.210000</td>\n      <td>1901.620000</td>\n      <td>1919.370000</td>\n      <td>2.122478e+04</td>\n      <td>eth</td>\n      <td>26.214167</td>\n      <td>1948.647647</td>\n      <td>1762.109353</td>\n      <td>64.618395</td>\n      <td>164.610885</td>\n      <td>23.659415</td>\n      <td>1851.563000</td>\n      <td>1833.205500</td>\n      <td>[[0.0001184825404164931, 7.097453732794227e-05...</td>\n    </tr>\n    <tr>\n      <th>2159</th>\n      <td>2021-03-31 23:00:00</td>\n      <td>28.571700</td>\n      <td>29.440100</td>\n      <td>28.550100</td>\n      <td>29.416700</td>\n      <td>4.557268e+05</td>\n      <td>link</td>\n      <td>0.276832</td>\n      <td>29.035767</td>\n      <td>26.359743</td>\n      <td>64.396467</td>\n      <td>226.662894</td>\n      <td>36.167462</td>\n      <td>27.746403</td>\n      <td>27.922328</td>\n      <td>[[0.0001184825404164931, 7.097453732794227e-05...</td>\n    </tr>\n    <tr>\n      <th>2159</th>\n      <td>2021-03-31 23:00:00</td>\n      <td>194.620000</td>\n      <td>197.630000</td>\n      <td>194.470000</td>\n      <td>196.700000</td>\n      <td>2.863109e+04</td>\n      <td>ltc</td>\n      <td>0.332601</td>\n      <td>198.176985</td>\n      <td>188.501015</td>\n      <td>55.327678</td>\n      <td>76.382622</td>\n      <td>7.269085</td>\n      <td>194.139000</td>\n      <td>194.302667</td>\n      <td>[[0.0001184825404164931, 7.097453732794227e-05...</td>\n    </tr>\n    <tr>\n      <th>2159</th>\n      <td>2021-03-31 23:00:00</td>\n      <td>0.567460</td>\n      <td>0.576820</td>\n      <td>0.566620</td>\n      <td>0.569820</td>\n      <td>3.832329e+07</td>\n      <td>xrp</td>\n      <td>0.000334</td>\n      <td>0.567227</td>\n      <td>0.539948</td>\n      <td>54.914565</td>\n      <td>137.865576</td>\n      <td>8.433502</td>\n      <td>0.556611</td>\n      <td>0.561649</td>\n      <td>[[0.0001184825404164931, 7.097453732794227e-05...</td>\n    </tr>\n  </tbody>\n</table>\n<p>17280 rows × 16 columns</p>\n</div>"
     },
     "metadata": {},
     "execution_count": 39
    }
   ],
   "source": [
    "trade"
   ]
  },
  {
   "cell_type": "code",
   "execution_count": 45,
   "metadata": {},
   "outputs": [
    {
     "output_type": "stream",
     "name": "stdout",
     "text": [
      "=================================\nbegin_total_asset:1000000\nend_total_asset:4335102.482924683\nSharpe:  0.9835002656567612\n=================================\nhit end!\n"
     ]
    }
   ],
   "source": [
    "df_daily_return, df_actions = DRLAgent.DRL_prediction(model=trained_a2c,\n",
    "                        environment = e_trade_gym)"
   ]
  },
  {
   "cell_type": "code",
   "execution_count": 82,
   "metadata": {},
   "outputs": [
    {
     "output_type": "execute_result",
     "data": {
      "text/plain": [
       "                     date  daily_return\n",
       "0     2021-01-01 00:00:00      0.000000\n",
       "1     2021-01-01 01:00:00      0.019965\n",
       "2     2021-01-01 02:00:00      0.001651\n",
       "3     2021-01-01 03:00:00      0.003178\n",
       "4     2021-01-01 04:00:00      0.004175\n",
       "...                   ...           ...\n",
       "2155  2021-03-31 19:00:00     -0.006622\n",
       "2156  2021-03-31 20:00:00      0.011147\n",
       "2157  2021-03-31 21:00:00     -0.000594\n",
       "2158  2021-03-31 22:00:00     -0.000453\n",
       "2159  2021-03-31 23:00:00      0.005628\n",
       "\n",
       "[2160 rows x 2 columns]"
      ],
      "text/html": "<div>\n<style scoped>\n    .dataframe tbody tr th:only-of-type {\n        vertical-align: middle;\n    }\n\n    .dataframe tbody tr th {\n        vertical-align: top;\n    }\n\n    .dataframe thead th {\n        text-align: right;\n    }\n</style>\n<table border=\"1\" class=\"dataframe\">\n  <thead>\n    <tr style=\"text-align: right;\">\n      <th></th>\n      <th>date</th>\n      <th>daily_return</th>\n    </tr>\n  </thead>\n  <tbody>\n    <tr>\n      <th>0</th>\n      <td>2021-01-01 00:00:00</td>\n      <td>0.000000</td>\n    </tr>\n    <tr>\n      <th>1</th>\n      <td>2021-01-01 01:00:00</td>\n      <td>0.019965</td>\n    </tr>\n    <tr>\n      <th>2</th>\n      <td>2021-01-01 02:00:00</td>\n      <td>0.001651</td>\n    </tr>\n    <tr>\n      <th>3</th>\n      <td>2021-01-01 03:00:00</td>\n      <td>0.003178</td>\n    </tr>\n    <tr>\n      <th>4</th>\n      <td>2021-01-01 04:00:00</td>\n      <td>0.004175</td>\n    </tr>\n    <tr>\n      <th>...</th>\n      <td>...</td>\n      <td>...</td>\n    </tr>\n    <tr>\n      <th>2155</th>\n      <td>2021-03-31 19:00:00</td>\n      <td>-0.006622</td>\n    </tr>\n    <tr>\n      <th>2156</th>\n      <td>2021-03-31 20:00:00</td>\n      <td>0.011147</td>\n    </tr>\n    <tr>\n      <th>2157</th>\n      <td>2021-03-31 21:00:00</td>\n      <td>-0.000594</td>\n    </tr>\n    <tr>\n      <th>2158</th>\n      <td>2021-03-31 22:00:00</td>\n      <td>-0.000453</td>\n    </tr>\n    <tr>\n      <th>2159</th>\n      <td>2021-03-31 23:00:00</td>\n      <td>0.005628</td>\n    </tr>\n  </tbody>\n</table>\n<p>2160 rows × 2 columns</p>\n</div>"
     },
     "metadata": {},
     "execution_count": 82
    }
   ],
   "source": [
    "df_daily_return"
   ]
  },
  {
   "cell_type": "code",
   "execution_count": 70,
   "metadata": {},
   "outputs": [
    {
     "output_type": "execute_result",
     "data": {
      "text/plain": [
       "                          ada       bnb       btc      doge       eth  \\\n",
       "date                                                                    \n",
       "2021-01-01 00:00:00  0.125000  0.125000  0.125000  0.125000  0.125000   \n",
       "2021-01-01 01:00:00  0.146660  0.146660  0.146660  0.053953  0.146660   \n",
       "2021-01-01 02:00:00  0.150024  0.150024  0.150024  0.055191  0.150024   \n",
       "2021-01-01 03:00:00  0.152738  0.152738  0.152738  0.056189  0.152738   \n",
       "2021-01-01 04:00:00  0.155483  0.155483  0.155483  0.057199  0.155483   \n",
       "...                       ...       ...       ...       ...       ...   \n",
       "2021-03-31 19:00:00  0.150382  0.150382  0.150382  0.055322  0.150382   \n",
       "2021-03-31 20:00:00  0.159565  0.159565  0.159565  0.058701  0.159565   \n",
       "2021-03-31 21:00:00  0.154691  0.154691  0.154691  0.056908  0.154691   \n",
       "2021-03-31 22:00:00  0.158153  0.158153  0.158153  0.058181  0.158153   \n",
       "2021-03-31 23:00:00  0.155006  0.155006  0.155006  0.057024  0.155006   \n",
       "\n",
       "                         link       ltc       xrp  \n",
       "date                                               \n",
       "2021-01-01 00:00:00  0.125000  0.125000  0.125000  \n",
       "2021-01-01 01:00:00  0.085913  0.126834  0.146660  \n",
       "2021-01-01 02:00:00  0.106450  0.088240  0.150024  \n",
       "2021-01-01 03:00:00  0.077550  0.102571  0.152738  \n",
       "2021-01-01 04:00:00  0.070874  0.094512  0.155483  \n",
       "...                       ...       ...       ...  \n",
       "2021-03-31 19:00:00  0.137445  0.055322  0.150382  \n",
       "2021-03-31 20:00:00  0.074393  0.069079  0.159565  \n",
       "2021-03-31 21:00:00  0.093923  0.075715  0.154691  \n",
       "2021-03-31 22:00:00  0.092871  0.058181  0.158153  \n",
       "2021-03-31 23:00:00  0.079210  0.088736  0.155006  \n",
       "\n",
       "[2160 rows x 8 columns]"
      ],
      "text/html": "<div>\n<style scoped>\n    .dataframe tbody tr th:only-of-type {\n        vertical-align: middle;\n    }\n\n    .dataframe tbody tr th {\n        vertical-align: top;\n    }\n\n    .dataframe thead th {\n        text-align: right;\n    }\n</style>\n<table border=\"1\" class=\"dataframe\">\n  <thead>\n    <tr style=\"text-align: right;\">\n      <th></th>\n      <th>ada</th>\n      <th>bnb</th>\n      <th>btc</th>\n      <th>doge</th>\n      <th>eth</th>\n      <th>link</th>\n      <th>ltc</th>\n      <th>xrp</th>\n    </tr>\n    <tr>\n      <th>date</th>\n      <th></th>\n      <th></th>\n      <th></th>\n      <th></th>\n      <th></th>\n      <th></th>\n      <th></th>\n      <th></th>\n    </tr>\n  </thead>\n  <tbody>\n    <tr>\n      <th>2021-01-01 00:00:00</th>\n      <td>0.125000</td>\n      <td>0.125000</td>\n      <td>0.125000</td>\n      <td>0.125000</td>\n      <td>0.125000</td>\n      <td>0.125000</td>\n      <td>0.125000</td>\n      <td>0.125000</td>\n    </tr>\n    <tr>\n      <th>2021-01-01 01:00:00</th>\n      <td>0.146660</td>\n      <td>0.146660</td>\n      <td>0.146660</td>\n      <td>0.053953</td>\n      <td>0.146660</td>\n      <td>0.085913</td>\n      <td>0.126834</td>\n      <td>0.146660</td>\n    </tr>\n    <tr>\n      <th>2021-01-01 02:00:00</th>\n      <td>0.150024</td>\n      <td>0.150024</td>\n      <td>0.150024</td>\n      <td>0.055191</td>\n      <td>0.150024</td>\n      <td>0.106450</td>\n      <td>0.088240</td>\n      <td>0.150024</td>\n    </tr>\n    <tr>\n      <th>2021-01-01 03:00:00</th>\n      <td>0.152738</td>\n      <td>0.152738</td>\n      <td>0.152738</td>\n      <td>0.056189</td>\n      <td>0.152738</td>\n      <td>0.077550</td>\n      <td>0.102571</td>\n      <td>0.152738</td>\n    </tr>\n    <tr>\n      <th>2021-01-01 04:00:00</th>\n      <td>0.155483</td>\n      <td>0.155483</td>\n      <td>0.155483</td>\n      <td>0.057199</td>\n      <td>0.155483</td>\n      <td>0.070874</td>\n      <td>0.094512</td>\n      <td>0.155483</td>\n    </tr>\n    <tr>\n      <th>...</th>\n      <td>...</td>\n      <td>...</td>\n      <td>...</td>\n      <td>...</td>\n      <td>...</td>\n      <td>...</td>\n      <td>...</td>\n      <td>...</td>\n    </tr>\n    <tr>\n      <th>2021-03-31 19:00:00</th>\n      <td>0.150382</td>\n      <td>0.150382</td>\n      <td>0.150382</td>\n      <td>0.055322</td>\n      <td>0.150382</td>\n      <td>0.137445</td>\n      <td>0.055322</td>\n      <td>0.150382</td>\n    </tr>\n    <tr>\n      <th>2021-03-31 20:00:00</th>\n      <td>0.159565</td>\n      <td>0.159565</td>\n      <td>0.159565</td>\n      <td>0.058701</td>\n      <td>0.159565</td>\n      <td>0.074393</td>\n      <td>0.069079</td>\n      <td>0.159565</td>\n    </tr>\n    <tr>\n      <th>2021-03-31 21:00:00</th>\n      <td>0.154691</td>\n      <td>0.154691</td>\n      <td>0.154691</td>\n      <td>0.056908</td>\n      <td>0.154691</td>\n      <td>0.093923</td>\n      <td>0.075715</td>\n      <td>0.154691</td>\n    </tr>\n    <tr>\n      <th>2021-03-31 22:00:00</th>\n      <td>0.158153</td>\n      <td>0.158153</td>\n      <td>0.158153</td>\n      <td>0.058181</td>\n      <td>0.158153</td>\n      <td>0.092871</td>\n      <td>0.058181</td>\n      <td>0.158153</td>\n    </tr>\n    <tr>\n      <th>2021-03-31 23:00:00</th>\n      <td>0.155006</td>\n      <td>0.155006</td>\n      <td>0.155006</td>\n      <td>0.057024</td>\n      <td>0.155006</td>\n      <td>0.079210</td>\n      <td>0.088736</td>\n      <td>0.155006</td>\n    </tr>\n  </tbody>\n</table>\n<p>2160 rows × 8 columns</p>\n</div>"
     },
     "metadata": {},
     "execution_count": 70
    }
   ],
   "source": [
    "df_actions"
   ]
  },
  {
   "cell_type": "code",
   "execution_count": 68,
   "metadata": {},
   "outputs": [],
   "source": [
    "df_actions.to_csv('df_actions.csv')"
   ]
  },
  {
   "cell_type": "markdown",
   "metadata": {},
   "source": [
    "<a id='6'></a>\n",
    "# Part 7: Backtest"
   ]
  },
  {
   "source": [
    "<a id='6.1'></a>\n",
    "## 7.1 BackTestStats\n",
    "pass in df_account_value, this information is stored in env class\n"
   ],
   "cell_type": "markdown",
   "metadata": {}
  },
  {
   "cell_type": "code",
   "execution_count": 78,
   "metadata": {},
   "outputs": [
    {
     "output_type": "error",
     "ename": "NameError",
     "evalue": "name 'convert_daily_return_to_pyfolio_ts' is not defined",
     "traceback": [
      "\u001b[1;31m---------------------------------------------------------------------------\u001b[0m",
      "\u001b[1;31mNameError\u001b[0m                                 Traceback (most recent call last)",
      "\u001b[1;32m<ipython-input-78-e92b6fbb8274>\u001b[0m in \u001b[0;36m<module>\u001b[1;34m\u001b[0m\n\u001b[0;32m      1\u001b[0m \u001b[1;32mfrom\u001b[0m \u001b[0mpyfolio\u001b[0m \u001b[1;32mimport\u001b[0m \u001b[0mtimeseries\u001b[0m\u001b[1;33m\u001b[0m\u001b[1;33m\u001b[0m\u001b[0m\n\u001b[1;32m----> 2\u001b[1;33m \u001b[0mDRL_strat\u001b[0m \u001b[1;33m=\u001b[0m \u001b[0mconvert_daily_return_to_pyfolio_ts\u001b[0m\u001b[1;33m(\u001b[0m\u001b[0mdf_daily_return\u001b[0m\u001b[1;33m)\u001b[0m\u001b[1;33m\u001b[0m\u001b[1;33m\u001b[0m\u001b[0m\n\u001b[0m\u001b[0;32m      3\u001b[0m \u001b[0mperf_func\u001b[0m \u001b[1;33m=\u001b[0m \u001b[0mtimeseries\u001b[0m\u001b[1;33m.\u001b[0m\u001b[0mperf_stats\u001b[0m\u001b[1;33m\u001b[0m\u001b[1;33m\u001b[0m\u001b[0m\n\u001b[0;32m      4\u001b[0m perf_stats_all = perf_func( returns=DRL_strat, \n\u001b[0;32m      5\u001b[0m                               \u001b[0mfactor_returns\u001b[0m\u001b[1;33m=\u001b[0m\u001b[0mDRL_strat\u001b[0m\u001b[1;33m,\u001b[0m\u001b[1;33m\u001b[0m\u001b[1;33m\u001b[0m\u001b[0m\n",
      "\u001b[1;31mNameError\u001b[0m: name 'convert_daily_return_to_pyfolio_ts' is not defined"
     ]
    }
   ],
   "source": [
    "# from pyfolio import timeseries\n",
    "# DRL_strat = convert_daily_return_to_pyfolio_ts(df_daily_return)\n",
    "# perf_func = timeseries.perf_stats \n",
    "# perf_stats_all = perf_func( returns=DRL_strat, \n",
    "#                               factor_returns=DRL_strat, \n",
    "#                                 positions=None, transactions=None, turnover_denom=\"AGB\")"
   ]
  },
  {
   "cell_type": "code",
   "execution_count": null,
   "metadata": {},
   "outputs": [],
   "source": [
    "# print(\"==============DRL Strategy Stats===========\")\n",
    "# perf_stats_all"
   ]
  },
  {
   "source": [
    "<a id='6.2'></a>\n",
    "## 7.2 BackTestPlot"
   ],
   "cell_type": "markdown",
   "metadata": {}
  },
  {
   "cell_type": "code",
   "execution_count": null,
   "metadata": {},
   "outputs": [],
   "source": [
    "# print(\"==============Compare to IHSG===========\")\r\n",
    "# %matplotlib inline\r\n",
    "# BackTestPlot(df_account_value, \r\n",
    "#              baseline_ticker = '^JKSE', \r\n",
    "#              baseline_start = df_account_value.loc[0,'date'],\r\n",
    "#              baseline_end = df_account_value.loc[len(df_account_value)-1,'date'])"
   ]
  }
 ],
 "metadata": {
  "kernelspec": {
   "name": "tradingrlbot",
   "display_name": "Python 3.8.5 64-bit ('TradingRLBot': conda)"
  },
  "language_info": {
   "codemirror_mode": {
    "name": "ipython",
    "version": 3
   },
   "file_extension": ".py",
   "mimetype": "text/x-python",
   "name": "python",
   "nbconvert_exporter": "python",
   "pygments_lexer": "ipython3",
   "version": "3.8.5"
  }
 },
 "nbformat": 4,
 "nbformat_minor": 4
}