{
 "cells": [
  {
   "cell_type": "markdown",
   "metadata": {},
   "source": [
    "<a id='0'></a>\n",
    "# Part 1. Problem Definition"
   ]
  },
  {
   "cell_type": "markdown",
   "metadata": {},
   "source": [
    "This problem is to design an automated trading solution for single stock trading. We model the stock trading process as a Markov Decision Process (MDP). We then formulate our trading goal as a maximization problem.\n",
    "\n",
    "The algorithm is trained using Deep Reinforcement Learning (DRL) algorithms and the components of the reinforcement learning environment are:\n",
    "\n",
    "\n",
    "* Action: \n",
    "* Reward function: \n",
    "* State: \n",
    "* Environment: "
   ]
  },
  {
   "cell_type": "markdown",
   "metadata": {},
   "source": [
    "<a id='1'></a>\n",
    "# Part 2. Getting Started- Load Python Packages"
   ]
  },
  {
   "cell_type": "markdown",
   "metadata": {},
   "source": [
    "<a id='1.1'></a>\n",
    "## 2.1. Install all the packages"
   ]
  },
  {
   "cell_type": "code",
   "execution_count": 1,
   "metadata": {},
   "outputs": [
    {
     "name": "stdout",
     "output_type": "stream",
     "text": [
      "Requirement already satisfied: certifi==2020.12.5 in c:\\users\\joanp\\appdata\\roaming\\python\\python38\\site-packages (from -r requirements.txt (line 1)) (2020.12.5)\n",
      "Requirement already satisfied: chardet==4.0.0 in c:\\users\\joanp\\appdata\\roaming\\python\\python38\\site-packages (from -r requirements.txt (line 2)) (4.0.0)\n",
      "Requirement already satisfied: idna==2.10 in c:\\programdata\\anaconda3\\lib\\site-packages (from -r requirements.txt (line 3)) (2.10)\n",
      "Requirement already satisfied: kaggle==1.5.12 in c:\\users\\joanp\\appdata\\roaming\\python\\python38\\site-packages (from -r requirements.txt (line 4)) (1.5.12)\n",
      "Requirement already satisfied: lxml==4.6.3 in c:\\users\\joanp\\appdata\\roaming\\python\\python38\\site-packages (from -r requirements.txt (line 5)) (4.6.3)\n",
      "Requirement already satisfied: multitasking==0.0.9 in c:\\users\\joanp\\appdata\\roaming\\python\\python38\\site-packages (from -r requirements.txt (line 6)) (0.0.9)\n",
      "Requirement already satisfied: numpy==1.20.2 in c:\\users\\joanp\\appdata\\roaming\\python\\python38\\site-packages (from -r requirements.txt (line 7)) (1.20.2)\n",
      "Requirement already satisfied: pandas==1.2.4 in c:\\users\\joanp\\appdata\\roaming\\python\\python38\\site-packages (from -r requirements.txt (line 8)) (1.2.4)\n",
      "Requirement already satisfied: python-dateutil==2.8.1 in c:\\programdata\\anaconda3\\lib\\site-packages (from -r requirements.txt (line 9)) (2.8.1)\n",
      "Requirement already satisfied: python-slugify==5.0.2 in c:\\users\\joanp\\appdata\\roaming\\python\\python38\\site-packages (from -r requirements.txt (line 10)) (5.0.2)\n",
      "Requirement already satisfied: pytz==2021.1 in c:\\users\\joanp\\appdata\\roaming\\python\\python38\\site-packages (from -r requirements.txt (line 11)) (2021.1)\n",
      "Requirement already satisfied: requests==2.25.1 in c:\\users\\joanp\\appdata\\roaming\\python\\python38\\site-packages (from -r requirements.txt (line 12)) (2.25.1)\n",
      "Requirement already satisfied: six==1.16.0 in c:\\users\\joanp\\appdata\\roaming\\python\\python38\\site-packages (from -r requirements.txt (line 13)) (1.16.0)\n",
      "Requirement already satisfied: text-unidecode==1.3 in c:\\users\\joanp\\appdata\\roaming\\python\\python38\\site-packages (from -r requirements.txt (line 14)) (1.3)\n",
      "Requirement already satisfied: tqdm==4.60.0 in c:\\users\\joanp\\appdata\\roaming\\python\\python38\\site-packages (from -r requirements.txt (line 15)) (4.60.0)\n",
      "Requirement already satisfied: urllib3==1.26.4 in c:\\users\\joanp\\appdata\\roaming\\python\\python38\\site-packages (from -r requirements.txt (line 16)) (1.26.4)\n",
      "Requirement already satisfied: wget==3.2 in c:\\users\\joanp\\appdata\\roaming\\python\\python38\\site-packages (from -r requirements.txt (line 17)) (3.2)\n",
      "Requirement already satisfied: yfinance==0.1.59 in c:\\users\\joanp\\appdata\\roaming\\python\\python38\\site-packages (from -r requirements.txt (line 18)) (0.1.59)\n"
     ]
    }
   ],
   "source": [
    "!pip install -r requirements.txt --user"
   ]
  },
  {
   "cell_type": "markdown",
   "metadata": {},
   "source": [
    "<a id='1.2'></a>\n",
    "## 2.2. Import Packages"
   ]
  },
  {
   "cell_type": "code",
   "execution_count": 2,
   "metadata": {},
   "outputs": [],
   "source": [
    "from config import config\n",
    "from dataset.download_dataset.cryptodownloader import CryptoDownloader"
   ]
  },
  {
   "cell_type": "markdown",
   "metadata": {},
   "source": [
    "<a id='1.3'></a>\n",
    "## 2.3 Create Folders"
   ]
  },
  {
   "cell_type": "code",
   "execution_count": 3,
   "metadata": {},
   "outputs": [],
   "source": [
    "import os\n",
    "download_data = False\n",
    "if not os.path.exists(\"./\" + config.DATA_SAVE_DIR):\n",
    "    os.makedirs(\"./\" + config.DATA_SAVE_DIR)\n",
    "    download_data = True\n",
    "    \n",
    "# if not os.path.exists(\"./\" + config.TRAINED_MODEL_DIR):\n",
    "#     os.makedirs(\"./\" + config.TRAINED_MODEL_DIR)\n",
    "# if not os.path.exists(\"./\" + config.TENSORBOARD_LOG_DIR):\n",
    "#     os.makedirs(\"./\" + config.TENSORBOARD_LOG_DIR)\n",
    "# if not os.path.exists(\"./\" + config.RESULTS_DIR):\n",
    "#     os.makedirs(\"./\" + config.RESULTS_DIR)"
   ]
  },
  {
   "cell_type": "markdown",
   "metadata": {},
   "source": [
    "<a id='2'></a>\n",
    "# Part 3. Download Data"
   ]
  },
  {
   "cell_type": "code",
   "execution_count": null,
   "metadata": {},
   "outputs": [],
   "source": [
    "data_downloader = CryptoDownloader(config.START_DATE, config.END_DATE, config.MULTIPLE_TICKER)\n",
    "if download_data:    \n",
    "    data_downloader.download_data()\n",
    "df = data_downloader.load()"
   ]
  },
  {
   "cell_type": "code",
   "execution_count": null,
   "metadata": {},
   "outputs": [],
   "source": [
    "df.head()"
   ]
  },
  {
   "cell_type": "code",
   "execution_count": null,
   "metadata": {},
   "outputs": [],
   "source": [
    "df.tail()"
   ]
  },
  {
   "cell_type": "markdown",
   "metadata": {},
   "source": [
    "# Part 4: Preprocess Data"
   ]
  },
  {
   "cell_type": "code",
   "execution_count": null,
   "metadata": {},
   "outputs": [],
   "source": []
  },
  {
   "cell_type": "markdown",
   "metadata": {},
   "source": [
    "<a id='4'></a>\n",
    "# Part 5. Design Environment\n",
    "Considering the stochastic and interactive nature of the automated stock trading tasks, a financial task is modeled as a **Markov Decision Process (MDP)** problem. The training process involves observing stock price change, taking an action and reward's calculation to have the agent adjusting its strategy accordingly. By interacting with the environment, the trading agent will derive a trading strategy with the maximized rewards as time proceeds.\n",
    "\n",
    "Our trading environments, based on OpenAI Gym framework, simulate live stock markets with real market data according to the principle of time-driven simulation.\n",
    "\n",
    "The action space describes the allowed actions that the agent interacts with the environment. Normally, action a includes three actions: {-1, 0, 1}, where -1, 0, 1 represent selling, holding, and buying one share. Also, an action can be carried upon multiple shares. We use an action space {-k,…,-1, 0, 1, …, k}, where k denotes the number of shares to buy and -k denotes the number of shares to sell. For example, \"Buy 10 shares of AAPL\" or \"Sell 10 shares of AAPL\" are 10 or -10, respectively. The continuous action space needs to be normalized to [-1, 1], since the policy is defined on a Gaussian distribution, which needs to be normalized and symmetric."
   ]
  },
  {
   "cell_type": "markdown",
   "metadata": {},
   "source": [
    "<a id='5'></a>\n",
    "# Part 6: Implement DRL Algorithms"
   ]
  },
  {
   "cell_type": "code",
   "execution_count": null,
   "metadata": {},
   "outputs": [],
   "source": []
  },
  {
   "cell_type": "markdown",
   "metadata": {},
   "source": [
    "<a id='6'></a>\n",
    "# Part 7: Backtest"
   ]
  },
  {
   "cell_type": "code",
   "execution_count": null,
   "metadata": {},
   "outputs": [],
   "source": []
  }
 ],
 "metadata": {
  "kernelspec": {
   "display_name": "TradingRLBot",
   "language": "python",
   "name": "tradingrlbot"
  },
  "language_info": {
   "codemirror_mode": {
    "name": "ipython",
    "version": 3
   },
   "file_extension": ".py",
   "mimetype": "text/x-python",
   "name": "python",
   "nbconvert_exporter": "python",
   "pygments_lexer": "ipython3",
   "version": "3.8.5"
  }
 },
 "nbformat": 4,
 "nbformat_minor": 4
}
