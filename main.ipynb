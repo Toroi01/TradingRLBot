{
 "cells": [
  {
   "cell_type": "markdown",
   "metadata": {},
   "source": [
    "<a id='0'></a>\n",
    "# Part 1. Problem Definition"
   ]
  },
  {
   "cell_type": "markdown",
   "metadata": {},
   "source": [
    "This problem is to design an automated trading solution for single stock trading. We model the stock trading process as a Markov Decision Process (MDP). We then formulate our trading goal as a maximization problem.\n",
    "\n",
    "The algorithm is trained using Deep Reinforcement Learning (DRL) algorithms and the components of the reinforcement learning environment are:\n",
    "\n",
    "\n",
    "* Action: \n",
    "* Reward function: \n",
    "* State: \n",
    "* Environment: "
   ]
  },
  {
   "cell_type": "markdown",
   "metadata": {},
   "source": [
    "<a id='1'></a>\n",
    "# Part 2. Getting Started- Load Python Packages"
   ]
  },
  {
   "cell_type": "markdown",
   "metadata": {},
   "source": [
    "<a id='1.1'></a>\n",
    "## 2.1. Install all the packages"
   ]
  },
  {
   "cell_type": "code",
   "execution_count": 84,
   "metadata": {},
   "outputs": [
    {
     "output_type": "stream",
     "name": "stdout",
     "text": [
      "Requirement already satisfied: certifi==2020.12.5 in c:\\users\\joanp\\appdata\\roaming\\python\\python38\\site-packages (from -r requirements.txt (line 1)) (2020.12.5)\n",
      "Requirement already satisfied: chardet==4.0.0 in c:\\users\\joanp\\appdata\\roaming\\python\\python38\\site-packages (from -r requirements.txt (line 2)) (4.0.0)\n",
      "Requirement already satisfied: idna==2.10 in c:\\users\\joanp\\.conda\\envs\\tradingrlbot\\lib\\site-packages (from -r requirements.txt (line 3)) (2.10)\n",
      "Requirement already satisfied: kaggle==1.5.12 in c:\\users\\joanp\\appdata\\roaming\\python\\python38\\site-packages (from -r requirements.txt (line 4)) (1.5.12)\n",
      "Requirement already satisfied: lxml==4.6.3 in c:\\users\\joanp\\appdata\\roaming\\python\\python38\\site-packages (from -r requirements.txt (line 5)) (4.6.3)\n",
      "Requirement already satisfied: multitasking==0.0.9 in c:\\users\\joanp\\appdata\\roaming\\python\\python38\\site-packages (from -r requirements.txt (line 6)) (0.0.9)\n",
      "Requirement already satisfied: numpy==1.20.2 in c:\\users\\joanp\\appdata\\roaming\\python\\python38\\site-packages (from -r requirements.txt (line 7)) (1.20.2)\n",
      "Requirement already satisfied: pandas==1.2.4 in c:\\users\\joanp\\appdata\\roaming\\python\\python38\\site-packages (from -r requirements.txt (line 8)) (1.2.4)\n",
      "Requirement already satisfied: python-dateutil==2.8.1 in c:\\users\\joanp\\.conda\\envs\\tradingrlbot\\lib\\site-packages (from -r requirements.txt (line 9)) (2.8.1)\n",
      "Requirement already satisfied: python-slugify==5.0.2 in c:\\users\\joanp\\appdata\\roaming\\python\\python38\\site-packages (from -r requirements.txt (line 10)) (5.0.2)\n",
      "Requirement already satisfied: pytz==2021.1 in c:\\users\\joanp\\appdata\\roaming\\python\\python38\\site-packages (from -r requirements.txt (line 11)) (2021.1)\n",
      "Requirement already satisfied: requests==2.25.1 in c:\\users\\joanp\\appdata\\roaming\\python\\python38\\site-packages (from -r requirements.txt (line 12)) (2.25.1)\n",
      "Requirement already satisfied: six==1.16.0 in c:\\users\\joanp\\appdata\\roaming\\python\\python38\\site-packages (from -r requirements.txt (line 13)) (1.16.0)\n",
      "Requirement already satisfied: text-unidecode==1.3 in c:\\users\\joanp\\appdata\\roaming\\python\\python38\\site-packages (from -r requirements.txt (line 14)) (1.3)\n",
      "Requirement already satisfied: tqdm==4.60.0 in c:\\users\\joanp\\appdata\\roaming\\python\\python38\\site-packages (from -r requirements.txt (line 15)) (4.60.0)\n",
      "Requirement already satisfied: urllib3==1.26.4 in c:\\users\\joanp\\appdata\\roaming\\python\\python38\\site-packages (from -r requirements.txt (line 16)) (1.26.4)\n",
      "Requirement already satisfied: wget==3.2 in c:\\users\\joanp\\appdata\\roaming\\python\\python38\\site-packages (from -r requirements.txt (line 17)) (3.2)\n",
      "Requirement already satisfied: yfinance==0.1.59 in c:\\users\\joanp\\appdata\\roaming\\python\\python38\\site-packages (from -r requirements.txt (line 18)) (0.1.59)\n",
      "Requirement already satisfied: gym==0.18.3 in c:\\users\\joanp\\appdata\\roaming\\python\\python38\\site-packages (from -r requirements.txt (line 19)) (0.18.3)\n",
      "Requirement already satisfied: matplotlib==3.4.2 in c:\\users\\joanp\\appdata\\roaming\\python\\python38\\site-packages (from -r requirements.txt (line 20)) (3.4.2)\n",
      "Requirement already satisfied: stable-baselines3[extra] in c:\\users\\joanp\\appdata\\roaming\\python\\python38\\site-packages (from -r requirements.txt (line 21)) (1.0)\n",
      "Requirement already satisfied: stockstats==0.3.2 in c:\\users\\joanp\\appdata\\roaming\\python\\python38\\site-packages (from -r requirements.txt (line 22)) (0.3.2)\n",
      "Requirement already satisfied: pyfolio==0.9.2 in c:\\users\\joanp\\appdata\\roaming\\python\\python38\\site-packages (from -r requirements.txt (line 23)) (0.9.2)\n",
      "Requirement already satisfied: cloudpickle<1.7.0,>=1.2.0 in c:\\users\\joanp\\appdata\\roaming\\python\\python38\\site-packages (from gym==0.18.3->-r requirements.txt (line 19)) (1.3.0)\n",
      "Requirement already satisfied: Pillow<=8.2.0 in c:\\users\\joanp\\.conda\\envs\\tradingrlbot\\lib\\site-packages (from gym==0.18.3->-r requirements.txt (line 19)) (8.2.0)\n",
      "Requirement already satisfied: scipy in c:\\users\\joanp\\.conda\\envs\\tradingrlbot\\lib\\site-packages (from gym==0.18.3->-r requirements.txt (line 19)) (1.6.3)\n",
      "Requirement already satisfied: pyglet<=1.5.15,>=1.4.0 in c:\\users\\joanp\\appdata\\roaming\\python\\python38\\site-packages (from gym==0.18.3->-r requirements.txt (line 19)) (1.5.0)\n",
      "Requirement already satisfied: pyparsing>=2.2.1 in c:\\users\\joanp\\.conda\\envs\\tradingrlbot\\lib\\site-packages (from matplotlib==3.4.2->-r requirements.txt (line 20)) (2.4.7)\n",
      "Requirement already satisfied: cycler>=0.10 in c:\\users\\joanp\\.conda\\envs\\tradingrlbot\\lib\\site-packages (from matplotlib==3.4.2->-r requirements.txt (line 20)) (0.10.0)\n",
      "Requirement already satisfied: kiwisolver>=1.0.1 in c:\\users\\joanp\\.conda\\envs\\tradingrlbot\\lib\\site-packages (from matplotlib==3.4.2->-r requirements.txt (line 20)) (1.3.1)\n",
      "Requirement already satisfied: torch>=1.4.0 in c:\\users\\joanp\\.conda\\envs\\tradingrlbot\\lib\\site-packages (from stable-baselines3[extra]->-r requirements.txt (line 21)) (1.8.1)\n",
      "Requirement already satisfied: psutil; extra == \"extra\" in c:\\users\\joanp\\.conda\\envs\\tradingrlbot\\lib\\site-packages (from stable-baselines3[extra]->-r requirements.txt (line 21)) (5.8.0)\n",
      "Requirement already satisfied: tensorboard>=2.2.0; extra == \"extra\" in c:\\users\\joanp\\.conda\\envs\\tradingrlbot\\lib\\site-packages (from stable-baselines3[extra]->-r requirements.txt (line 21)) (2.5.0)\n",
      "Requirement already satisfied: atari-py~=0.2.0; extra == \"extra\" in c:\\users\\joanp\\appdata\\roaming\\python\\python38\\site-packages (from stable-baselines3[extra]->-r requirements.txt (line 21)) (0.2.6)\n",
      "Requirement already satisfied: opencv-python; extra == \"extra\" in c:\\users\\joanp\\.conda\\envs\\tradingrlbot\\lib\\site-packages (from stable-baselines3[extra]->-r requirements.txt (line 21)) (4.5.2.52)\n",
      "Requirement already satisfied: int-date>=0.1.7 in c:\\users\\joanp\\appdata\\roaming\\python\\python38\\site-packages (from stockstats==0.3.2->-r requirements.txt (line 22)) (0.1.8)\n",
      "Requirement already satisfied: seaborn>=0.7.1 in c:\\users\\joanp\\appdata\\roaming\\python\\python38\\site-packages (from pyfolio==0.9.2->-r requirements.txt (line 23)) (0.11.1)\n",
      "Requirement already satisfied: scikit-learn>=0.16.1 in c:\\users\\joanp\\appdata\\roaming\\python\\python38\\site-packages (from pyfolio==0.9.2->-r requirements.txt (line 23)) (0.24.2)\n",
      "Requirement already satisfied: ipython>=3.2.3 in c:\\users\\joanp\\.conda\\envs\\tradingrlbot\\lib\\site-packages (from pyfolio==0.9.2->-r requirements.txt (line 23)) (7.18.1)\n",
      "Requirement already satisfied: empyrical>=0.5.0 in c:\\users\\joanp\\appdata\\roaming\\python\\python38\\site-packages (from pyfolio==0.9.2->-r requirements.txt (line 23)) (0.5.5)\n",
      "Requirement already satisfied: future in c:\\users\\joanp\\.conda\\envs\\tradingrlbot\\lib\\site-packages (from pyglet<=1.5.15,>=1.4.0->gym==0.18.3->-r requirements.txt (line 19)) (0.18.2)\n",
      "Requirement already satisfied: typing-extensions in c:\\users\\joanp\\.conda\\envs\\tradingrlbot\\lib\\site-packages (from torch>=1.4.0->stable-baselines3[extra]->-r requirements.txt (line 21)) (3.10.0.0)\n",
      "Requirement already satisfied: tensorboard-data-server<0.7.0,>=0.6.0 in c:\\users\\joanp\\.conda\\envs\\tradingrlbot\\lib\\site-packages (from tensorboard>=2.2.0; extra == \"extra\"->stable-baselines3[extra]->-r requirements.txt (line 21)) (0.6.1)\n",
      "Requirement already satisfied: wheel>=0.26; python_version >= \"3\" in c:\\users\\joanp\\.conda\\envs\\tradingrlbot\\lib\\site-packages (from tensorboard>=2.2.0; extra == \"extra\"->stable-baselines3[extra]->-r requirements.txt (line 21)) (0.35.1)\n",
      "Requirement already satisfied: google-auth<2,>=1.6.3 in c:\\users\\joanp\\.conda\\envs\\tradingrlbot\\lib\\site-packages (from tensorboard>=2.2.0; extra == \"extra\"->stable-baselines3[extra]->-r requirements.txt (line 21)) (1.30.0)\n",
      "Requirement already satisfied: markdown>=2.6.8 in c:\\users\\joanp\\.conda\\envs\\tradingrlbot\\lib\\site-packages (from tensorboard>=2.2.0; extra == \"extra\"->stable-baselines3[extra]->-r requirements.txt (line 21)) (3.3.4)\n",
      "Requirement already satisfied: google-auth-oauthlib<0.5,>=0.4.1 in c:\\users\\joanp\\.conda\\envs\\tradingrlbot\\lib\\site-packages (from tensorboard>=2.2.0; extra == \"extra\"->stable-baselines3[extra]->-r requirements.txt (line 21)) (0.4.4)\n",
      "Requirement already satisfied: setuptools>=41.0.0 in c:\\users\\joanp\\.conda\\envs\\tradingrlbot\\lib\\site-packages (from tensorboard>=2.2.0; extra == \"extra\"->stable-baselines3[extra]->-r requirements.txt (line 21)) (50.3.0.post20201006)\n",
      "Requirement already satisfied: tensorboard-plugin-wit>=1.6.0 in c:\\users\\joanp\\.conda\\envs\\tradingrlbot\\lib\\site-packages (from tensorboard>=2.2.0; extra == \"extra\"->stable-baselines3[extra]->-r requirements.txt (line 21)) (1.8.0)\n",
      "Requirement already satisfied: werkzeug>=0.11.15 in c:\\users\\joanp\\.conda\\envs\\tradingrlbot\\lib\\site-packages (from tensorboard>=2.2.0; extra == \"extra\"->stable-baselines3[extra]->-r requirements.txt (line 21)) (2.0.1)\n",
      "Requirement already satisfied: protobuf>=3.6.0 in c:\\users\\joanp\\.conda\\envs\\tradingrlbot\\lib\\site-packages (from tensorboard>=2.2.0; extra == \"extra\"->stable-baselines3[extra]->-r requirements.txt (line 21)) (3.17.0)\n",
      "Requirement already satisfied: absl-py>=0.4 in c:\\users\\joanp\\.conda\\envs\\tradingrlbot\\lib\\site-packages (from tensorboard>=2.2.0; extra == \"extra\"->stable-baselines3[extra]->-r requirements.txt (line 21)) (0.12.0)\n",
      "Requirement already satisfied: grpcio>=1.24.3 in c:\\users\\joanp\\.conda\\envs\\tradingrlbot\\lib\\site-packages (from tensorboard>=2.2.0; extra == \"extra\"->stable-baselines3[extra]->-r requirements.txt (line 21)) (1.37.1)\n",
      "Requirement already satisfied: joblib>=0.11 in c:\\users\\joanp\\appdata\\roaming\\python\\python38\\site-packages (from scikit-learn>=0.16.1->pyfolio==0.9.2->-r requirements.txt (line 23)) (1.0.1)\n",
      "Requirement already satisfied: threadpoolctl>=2.0.0 in c:\\users\\joanp\\appdata\\roaming\\python\\python38\\site-packages (from scikit-learn>=0.16.1->pyfolio==0.9.2->-r requirements.txt (line 23)) (2.1.0)\n",
      "Requirement already satisfied: traitlets>=4.2 in c:\\users\\joanp\\.conda\\envs\\tradingrlbot\\lib\\site-packages (from ipython>=3.2.3->pyfolio==0.9.2->-r requirements.txt (line 23)) (5.0.5)\n",
      "Requirement already satisfied: pygments in c:\\users\\joanp\\.conda\\envs\\tradingrlbot\\lib\\site-packages (from ipython>=3.2.3->pyfolio==0.9.2->-r requirements.txt (line 23)) (2.7.1)\n",
      "Requirement already satisfied: pickleshare in c:\\users\\joanp\\.conda\\envs\\tradingrlbot\\lib\\site-packages (from ipython>=3.2.3->pyfolio==0.9.2->-r requirements.txt (line 23)) (0.7.5)\n",
      "Requirement already satisfied: decorator in c:\\users\\joanp\\.conda\\envs\\tradingrlbot\\lib\\site-packages (from ipython>=3.2.3->pyfolio==0.9.2->-r requirements.txt (line 23)) (4.4.2)\n",
      "Requirement already satisfied: jedi>=0.10 in c:\\users\\joanp\\.conda\\envs\\tradingrlbot\\lib\\site-packages (from ipython>=3.2.3->pyfolio==0.9.2->-r requirements.txt (line 23)) (0.18.0)\n",
      "Requirement already satisfied: colorama; sys_platform == \"win32\" in c:\\users\\joanp\\.conda\\envs\\tradingrlbot\\lib\\site-packages (from ipython>=3.2.3->pyfolio==0.9.2->-r requirements.txt (line 23)) (0.4.4)\n",
      "Requirement already satisfied: backcall in c:\\users\\joanp\\.conda\\envs\\tradingrlbot\\lib\\site-packages (from ipython>=3.2.3->pyfolio==0.9.2->-r requirements.txt (line 23)) (0.2.0)\n",
      "Requirement already satisfied: prompt-toolkit!=3.0.0,!=3.0.1,<3.1.0,>=2.0.0 in c:\\users\\joanp\\.conda\\envs\\tradingrlbot\\lib\\site-packages (from ipython>=3.2.3->pyfolio==0.9.2->-r requirements.txt (line 23)) (3.0.8)\n",
      "Requirement already satisfied: pandas-datareader>=0.2 in c:\\users\\joanp\\appdata\\roaming\\python\\python38\\site-packages (from empyrical>=0.5.0->pyfolio==0.9.2->-r requirements.txt (line 23)) (0.9.0)\n",
      "Requirement already satisfied: pyasn1-modules>=0.2.1 in c:\\users\\joanp\\.conda\\envs\\tradingrlbot\\lib\\site-packages (from google-auth<2,>=1.6.3->tensorboard>=2.2.0; extra == \"extra\"->stable-baselines3[extra]->-r requirements.txt (line 21)) (0.2.8)\n",
      "Requirement already satisfied: cachetools<5.0,>=2.0.0 in c:\\users\\joanp\\.conda\\envs\\tradingrlbot\\lib\\site-packages (from google-auth<2,>=1.6.3->tensorboard>=2.2.0; extra == \"extra\"->stable-baselines3[extra]->-r requirements.txt (line 21)) (4.2.2)\n",
      "Requirement already satisfied: rsa<5,>=3.1.4; python_version >= \"3.6\" in c:\\users\\joanp\\.conda\\envs\\tradingrlbot\\lib\\site-packages (from google-auth<2,>=1.6.3->tensorboard>=2.2.0; extra == \"extra\"->stable-baselines3[extra]->-r requirements.txt (line 21)) (4.7.2)\n",
      "Requirement already satisfied: requests-oauthlib>=0.7.0 in c:\\users\\joanp\\.conda\\envs\\tradingrlbot\\lib\\site-packages (from google-auth-oauthlib<0.5,>=0.4.1->tensorboard>=2.2.0; extra == \"extra\"->stable-baselines3[extra]->-r requirements.txt (line 21)) (1.3.0)\n",
      "Requirement already satisfied: ipython-genutils in c:\\users\\joanp\\.conda\\envs\\tradingrlbot\\lib\\site-packages (from traitlets>=4.2->ipython>=3.2.3->pyfolio==0.9.2->-r requirements.txt (line 23)) (0.2.0)\n",
      "Requirement already satisfied: parso<0.9.0,>=0.8.0 in c:\\users\\joanp\\.conda\\envs\\tradingrlbot\\lib\\site-packages (from jedi>=0.10->ipython>=3.2.3->pyfolio==0.9.2->-r requirements.txt (line 23)) (0.8.0)\n",
      "Requirement already satisfied: wcwidth in c:\\users\\joanp\\.conda\\envs\\tradingrlbot\\lib\\site-packages (from prompt-toolkit!=3.0.0,!=3.0.1,<3.1.0,>=2.0.0->ipython>=3.2.3->pyfolio==0.9.2->-r requirements.txt (line 23)) (0.2.5)\n",
      "Requirement already satisfied: pyasn1<0.5.0,>=0.4.6 in c:\\users\\joanp\\.conda\\envs\\tradingrlbot\\lib\\site-packages (from pyasn1-modules>=0.2.1->google-auth<2,>=1.6.3->tensorboard>=2.2.0; extra == \"extra\"->stable-baselines3[extra]->-r requirements.txt (line 21)) (0.4.8)\n",
      "Requirement already satisfied: oauthlib>=3.0.0 in c:\\users\\joanp\\.conda\\envs\\tradingrlbot\\lib\\site-packages (from requests-oauthlib>=0.7.0->google-auth-oauthlib<0.5,>=0.4.1->tensorboard>=2.2.0; extra == \"extra\"->stable-baselines3[extra]->-r requirements.txt (line 21)) (3.1.0)\n"
     ]
    }
   ],
   "source": [
    "!pip install -r requirements.txt --user"
   ]
  },
  {
   "cell_type": "markdown",
   "metadata": {},
   "source": [
    "<a id='1.2'></a>\n",
    "## 2.2. Import Packages"
   ]
  },
  {
   "cell_type": "code",
   "execution_count": 85,
   "metadata": {},
   "outputs": [],
   "source": [
    "import pandas as pd\n",
    "from config import config\n",
    "from dataset.download_dataset.cryptodownloader_binance import CryptoDownloader_binance\n",
    "from preprocessing.preprocessors import FeatureEngineer\n",
    "from preprocessing.data import data_split\n",
    "from env.env_portfolio import StockPortfolioEnv\n",
    "from model.models import DRLAgent\n",
    "# from trade.backtest import backtest_stats, backtest_plot, get_daily_return, get_baseline,convert_daily_return_to_pyfolio_ts\n"
   ]
  },
  {
   "cell_type": "markdown",
   "metadata": {},
   "source": [
    "<a id='1.3'></a>\n",
    "## 2.3 Create Folders"
   ]
  },
  {
   "cell_type": "code",
   "execution_count": 86,
   "metadata": {},
   "outputs": [],
   "source": [
    "import os\n",
    "download_data = False\n",
    "if not os.path.exists(config.DATA_SAVE_DIR):\n",
    "    os.makedirs(config.DATA_SAVE_DIR)\n",
    "    download_data = True\n",
    "if not os.path.exists(config.TRAINED_MODEL_DIR):\n",
    "    os.makedirs(\"./\" + config.TRAINED_MODEL_DIR)\n",
    "if not os.path.exists(config.TENSORBOARD_LOG_DIR):\n",
    "    os.makedirs(config.TENSORBOARD_LOG_DIR)\n",
    "if not os.path.exists(config.RESULTS_DIR):\n",
    "    os.makedirs(config.RESULTS_DIR)"
   ]
  },
  {
   "cell_type": "markdown",
   "metadata": {},
   "source": [
    "<a id='2'></a>\n",
    "# Part 3. Download Data"
   ]
  },
  {
   "cell_type": "code",
   "execution_count": 87,
   "metadata": {
    "scrolled": true
   },
   "outputs": [],
   "source": [
    "data_downloader = CryptoDownloader_binance(config.START_DATE, config.END_DATE, config.MULTIPLE_TICKER_8, config.DATA_SAVE_DIR, config.DATA_GRANULARITY)\n",
    "if download_data:    \n",
    "    data_downloader.download_data()\n",
    "df = data_downloader.load()"
   ]
  },
  {
   "cell_type": "code",
   "execution_count": 88,
   "metadata": {},
   "outputs": [
    {
     "output_type": "execute_result",
     "data": {
      "text/plain": [
       "                      date     open     high      low    close        volume  \\\n",
       "0      2020-01-01 00:00:00  7195.24  7196.25  7175.46  7177.02    511.814901   \n",
       "1      2020-01-01 01:00:00  7176.47  7230.00  7175.71  7216.27    883.052603   \n",
       "2      2020-01-01 02:00:00  7215.52  7244.87  7211.41  7242.85    655.156809   \n",
       "3      2020-01-01 03:00:00  7242.66  7245.00  7220.00  7225.01    783.724867   \n",
       "4      2020-01-01 04:00:00  7225.00  7230.00  7215.03  7217.27    467.812578   \n",
       "...                    ...      ...      ...      ...      ...           ...   \n",
       "87547  2021-03-31 19:00:00   193.98   195.25   192.35   193.05  38115.533510   \n",
       "87548  2021-03-31 20:00:00   193.03   196.39   192.48   195.66  32785.188130   \n",
       "87549  2021-03-31 21:00:00   195.65   196.90   194.63   195.29  20567.010810   \n",
       "87550  2021-03-31 22:00:00   195.31   197.00   195.23   195.80   8967.744990   \n",
       "87551  2021-03-31 23:00:00   194.62   197.63   194.47   196.70  28631.094410   \n",
       "\n",
       "       tic  \n",
       "0      btc  \n",
       "1      btc  \n",
       "2      btc  \n",
       "3      btc  \n",
       "4      btc  \n",
       "...    ...  \n",
       "87547  ltc  \n",
       "87548  ltc  \n",
       "87549  ltc  \n",
       "87550  ltc  \n",
       "87551  ltc  \n",
       "\n",
       "[87552 rows x 7 columns]"
      ],
      "text/html": "<div>\n<style scoped>\n    .dataframe tbody tr th:only-of-type {\n        vertical-align: middle;\n    }\n\n    .dataframe tbody tr th {\n        vertical-align: top;\n    }\n\n    .dataframe thead th {\n        text-align: right;\n    }\n</style>\n<table border=\"1\" class=\"dataframe\">\n  <thead>\n    <tr style=\"text-align: right;\">\n      <th></th>\n      <th>date</th>\n      <th>open</th>\n      <th>high</th>\n      <th>low</th>\n      <th>close</th>\n      <th>volume</th>\n      <th>tic</th>\n    </tr>\n  </thead>\n  <tbody>\n    <tr>\n      <th>0</th>\n      <td>2020-01-01 00:00:00</td>\n      <td>7195.24</td>\n      <td>7196.25</td>\n      <td>7175.46</td>\n      <td>7177.02</td>\n      <td>511.814901</td>\n      <td>btc</td>\n    </tr>\n    <tr>\n      <th>1</th>\n      <td>2020-01-01 01:00:00</td>\n      <td>7176.47</td>\n      <td>7230.00</td>\n      <td>7175.71</td>\n      <td>7216.27</td>\n      <td>883.052603</td>\n      <td>btc</td>\n    </tr>\n    <tr>\n      <th>2</th>\n      <td>2020-01-01 02:00:00</td>\n      <td>7215.52</td>\n      <td>7244.87</td>\n      <td>7211.41</td>\n      <td>7242.85</td>\n      <td>655.156809</td>\n      <td>btc</td>\n    </tr>\n    <tr>\n      <th>3</th>\n      <td>2020-01-01 03:00:00</td>\n      <td>7242.66</td>\n      <td>7245.00</td>\n      <td>7220.00</td>\n      <td>7225.01</td>\n      <td>783.724867</td>\n      <td>btc</td>\n    </tr>\n    <tr>\n      <th>4</th>\n      <td>2020-01-01 04:00:00</td>\n      <td>7225.00</td>\n      <td>7230.00</td>\n      <td>7215.03</td>\n      <td>7217.27</td>\n      <td>467.812578</td>\n      <td>btc</td>\n    </tr>\n    <tr>\n      <th>...</th>\n      <td>...</td>\n      <td>...</td>\n      <td>...</td>\n      <td>...</td>\n      <td>...</td>\n      <td>...</td>\n      <td>...</td>\n    </tr>\n    <tr>\n      <th>87547</th>\n      <td>2021-03-31 19:00:00</td>\n      <td>193.98</td>\n      <td>195.25</td>\n      <td>192.35</td>\n      <td>193.05</td>\n      <td>38115.533510</td>\n      <td>ltc</td>\n    </tr>\n    <tr>\n      <th>87548</th>\n      <td>2021-03-31 20:00:00</td>\n      <td>193.03</td>\n      <td>196.39</td>\n      <td>192.48</td>\n      <td>195.66</td>\n      <td>32785.188130</td>\n      <td>ltc</td>\n    </tr>\n    <tr>\n      <th>87549</th>\n      <td>2021-03-31 21:00:00</td>\n      <td>195.65</td>\n      <td>196.90</td>\n      <td>194.63</td>\n      <td>195.29</td>\n      <td>20567.010810</td>\n      <td>ltc</td>\n    </tr>\n    <tr>\n      <th>87550</th>\n      <td>2021-03-31 22:00:00</td>\n      <td>195.31</td>\n      <td>197.00</td>\n      <td>195.23</td>\n      <td>195.80</td>\n      <td>8967.744990</td>\n      <td>ltc</td>\n    </tr>\n    <tr>\n      <th>87551</th>\n      <td>2021-03-31 23:00:00</td>\n      <td>194.62</td>\n      <td>197.63</td>\n      <td>194.47</td>\n      <td>196.70</td>\n      <td>28631.094410</td>\n      <td>ltc</td>\n    </tr>\n  </tbody>\n</table>\n<p>87552 rows × 7 columns</p>\n</div>"
     },
     "metadata": {},
     "execution_count": 88
    }
   ],
   "source": [
    "df"
   ]
  },
  {
   "cell_type": "markdown",
   "metadata": {},
   "source": [
    "# Part 4: Preprocess Data"
   ]
  },
  {
   "cell_type": "code",
   "execution_count": 89,
   "metadata": {},
   "outputs": [
    {
     "output_type": "stream",
     "name": "stdout",
     "text": [
      "Successfully added technical indicators\n"
     ]
    }
   ],
   "source": [
    "fe = FeatureEngineer(\n",
    "                    use_technical_indicator=True,\n",
    "                    use_turbulence=False,\n",
    "                    user_defined_feature = False)\n",
    "\n",
    "df = fe.preprocess_data(df)"
   ]
  },
  {
   "cell_type": "code",
   "execution_count": 90,
   "metadata": {},
   "outputs": [
    {
     "output_type": "execute_result",
     "data": {
      "text/plain": [
       "                      date         open         high          low  \\\n",
       "0      2020-01-01 00:00:00     0.032850     0.032850     0.032700   \n",
       "10944  2020-01-01 00:00:00    13.715900    13.721100    13.690300   \n",
       "21888  2020-01-01 00:00:00  7195.240000  7196.250000  7175.460000   \n",
       "32832  2020-01-01 00:00:00     0.002014     0.002023     0.002008   \n",
       "43776  2020-01-01 00:00:00   129.160000   129.190000   128.680000   \n",
       "...                    ...          ...          ...          ...   \n",
       "43775  2021-03-31 23:00:00     0.053143     0.053911     0.053000   \n",
       "54719  2021-03-31 23:00:00  1903.970000  1924.210000  1901.620000   \n",
       "65663  2021-03-31 23:00:00    28.571700    29.440100    28.550100   \n",
       "76607  2021-03-31 23:00:00   194.620000   197.630000   194.470000   \n",
       "87551  2021-03-31 23:00:00     0.567460     0.576820     0.566620   \n",
       "\n",
       "             close        volume   tic       macd      boll_ub      boll_lb  \\\n",
       "0         0.032780  1.166001e+06   ada   0.000000     0.033182     0.032588   \n",
       "10944    13.698100  6.201669e+04   bnb   0.000000     0.033182     0.032588   \n",
       "21888  7177.020000  5.118149e+02   btc   0.000000     0.033182     0.032588   \n",
       "32832     0.002008  9.630910e+05  doge   0.000000     0.033182     0.032588   \n",
       "43776   128.870000  7.769173e+03   eth   0.000000     0.033182     0.032588   \n",
       "...            ...           ...   ...        ...          ...          ...   \n",
       "43775     0.053770  4.448111e+07  doge  -0.000103     0.054076     0.052762   \n",
       "54719  1919.370000  2.122478e+04   eth  26.214167  1948.647647  1762.109353   \n",
       "65663    29.416700  4.557268e+05  link   0.276832    29.035767    26.359743   \n",
       "76607   196.700000  2.863109e+04   ltc   0.332601   198.176985   188.501015   \n",
       "87551     0.569820  3.832329e+07   xrp   0.000334     0.567227     0.539948   \n",
       "\n",
       "           rsi_30      cci_30       dx_30  close_30_sma  close_60_sma  \n",
       "0      100.000000   66.666667  100.000000      0.032780      0.032780  \n",
       "10944  100.000000   66.666667  100.000000     13.698100     13.698100  \n",
       "21888  100.000000   66.666667  100.000000   7177.020000   7177.020000  \n",
       "32832  100.000000   66.666667  100.000000      0.002008      0.002008  \n",
       "43776  100.000000   66.666667  100.000000    128.870000    128.870000  \n",
       "...           ...         ...         ...           ...           ...  \n",
       "43775   50.006619  -10.311768   28.977404      0.053646      0.053938  \n",
       "54719   64.618395  164.610885   23.659415   1851.563000   1833.205500  \n",
       "65663   64.396467  226.662894   36.167462     27.746403     27.922328  \n",
       "76607   55.327678   76.382622    7.269085    194.139000    194.302667  \n",
       "87551   54.914565  137.865576    8.433502      0.556611      0.561649  \n",
       "\n",
       "[87552 rows x 15 columns]"
      ],
      "text/html": "<div>\n<style scoped>\n    .dataframe tbody tr th:only-of-type {\n        vertical-align: middle;\n    }\n\n    .dataframe tbody tr th {\n        vertical-align: top;\n    }\n\n    .dataframe thead th {\n        text-align: right;\n    }\n</style>\n<table border=\"1\" class=\"dataframe\">\n  <thead>\n    <tr style=\"text-align: right;\">\n      <th></th>\n      <th>date</th>\n      <th>open</th>\n      <th>high</th>\n      <th>low</th>\n      <th>close</th>\n      <th>volume</th>\n      <th>tic</th>\n      <th>macd</th>\n      <th>boll_ub</th>\n      <th>boll_lb</th>\n      <th>rsi_30</th>\n      <th>cci_30</th>\n      <th>dx_30</th>\n      <th>close_30_sma</th>\n      <th>close_60_sma</th>\n    </tr>\n  </thead>\n  <tbody>\n    <tr>\n      <th>0</th>\n      <td>2020-01-01 00:00:00</td>\n      <td>0.032850</td>\n      <td>0.032850</td>\n      <td>0.032700</td>\n      <td>0.032780</td>\n      <td>1.166001e+06</td>\n      <td>ada</td>\n      <td>0.000000</td>\n      <td>0.033182</td>\n      <td>0.032588</td>\n      <td>100.000000</td>\n      <td>66.666667</td>\n      <td>100.000000</td>\n      <td>0.032780</td>\n      <td>0.032780</td>\n    </tr>\n    <tr>\n      <th>10944</th>\n      <td>2020-01-01 00:00:00</td>\n      <td>13.715900</td>\n      <td>13.721100</td>\n      <td>13.690300</td>\n      <td>13.698100</td>\n      <td>6.201669e+04</td>\n      <td>bnb</td>\n      <td>0.000000</td>\n      <td>0.033182</td>\n      <td>0.032588</td>\n      <td>100.000000</td>\n      <td>66.666667</td>\n      <td>100.000000</td>\n      <td>13.698100</td>\n      <td>13.698100</td>\n    </tr>\n    <tr>\n      <th>21888</th>\n      <td>2020-01-01 00:00:00</td>\n      <td>7195.240000</td>\n      <td>7196.250000</td>\n      <td>7175.460000</td>\n      <td>7177.020000</td>\n      <td>5.118149e+02</td>\n      <td>btc</td>\n      <td>0.000000</td>\n      <td>0.033182</td>\n      <td>0.032588</td>\n      <td>100.000000</td>\n      <td>66.666667</td>\n      <td>100.000000</td>\n      <td>7177.020000</td>\n      <td>7177.020000</td>\n    </tr>\n    <tr>\n      <th>32832</th>\n      <td>2020-01-01 00:00:00</td>\n      <td>0.002014</td>\n      <td>0.002023</td>\n      <td>0.002008</td>\n      <td>0.002008</td>\n      <td>9.630910e+05</td>\n      <td>doge</td>\n      <td>0.000000</td>\n      <td>0.033182</td>\n      <td>0.032588</td>\n      <td>100.000000</td>\n      <td>66.666667</td>\n      <td>100.000000</td>\n      <td>0.002008</td>\n      <td>0.002008</td>\n    </tr>\n    <tr>\n      <th>43776</th>\n      <td>2020-01-01 00:00:00</td>\n      <td>129.160000</td>\n      <td>129.190000</td>\n      <td>128.680000</td>\n      <td>128.870000</td>\n      <td>7.769173e+03</td>\n      <td>eth</td>\n      <td>0.000000</td>\n      <td>0.033182</td>\n      <td>0.032588</td>\n      <td>100.000000</td>\n      <td>66.666667</td>\n      <td>100.000000</td>\n      <td>128.870000</td>\n      <td>128.870000</td>\n    </tr>\n    <tr>\n      <th>...</th>\n      <td>...</td>\n      <td>...</td>\n      <td>...</td>\n      <td>...</td>\n      <td>...</td>\n      <td>...</td>\n      <td>...</td>\n      <td>...</td>\n      <td>...</td>\n      <td>...</td>\n      <td>...</td>\n      <td>...</td>\n      <td>...</td>\n      <td>...</td>\n      <td>...</td>\n    </tr>\n    <tr>\n      <th>43775</th>\n      <td>2021-03-31 23:00:00</td>\n      <td>0.053143</td>\n      <td>0.053911</td>\n      <td>0.053000</td>\n      <td>0.053770</td>\n      <td>4.448111e+07</td>\n      <td>doge</td>\n      <td>-0.000103</td>\n      <td>0.054076</td>\n      <td>0.052762</td>\n      <td>50.006619</td>\n      <td>-10.311768</td>\n      <td>28.977404</td>\n      <td>0.053646</td>\n      <td>0.053938</td>\n    </tr>\n    <tr>\n      <th>54719</th>\n      <td>2021-03-31 23:00:00</td>\n      <td>1903.970000</td>\n      <td>1924.210000</td>\n      <td>1901.620000</td>\n      <td>1919.370000</td>\n      <td>2.122478e+04</td>\n      <td>eth</td>\n      <td>26.214167</td>\n      <td>1948.647647</td>\n      <td>1762.109353</td>\n      <td>64.618395</td>\n      <td>164.610885</td>\n      <td>23.659415</td>\n      <td>1851.563000</td>\n      <td>1833.205500</td>\n    </tr>\n    <tr>\n      <th>65663</th>\n      <td>2021-03-31 23:00:00</td>\n      <td>28.571700</td>\n      <td>29.440100</td>\n      <td>28.550100</td>\n      <td>29.416700</td>\n      <td>4.557268e+05</td>\n      <td>link</td>\n      <td>0.276832</td>\n      <td>29.035767</td>\n      <td>26.359743</td>\n      <td>64.396467</td>\n      <td>226.662894</td>\n      <td>36.167462</td>\n      <td>27.746403</td>\n      <td>27.922328</td>\n    </tr>\n    <tr>\n      <th>76607</th>\n      <td>2021-03-31 23:00:00</td>\n      <td>194.620000</td>\n      <td>197.630000</td>\n      <td>194.470000</td>\n      <td>196.700000</td>\n      <td>2.863109e+04</td>\n      <td>ltc</td>\n      <td>0.332601</td>\n      <td>198.176985</td>\n      <td>188.501015</td>\n      <td>55.327678</td>\n      <td>76.382622</td>\n      <td>7.269085</td>\n      <td>194.139000</td>\n      <td>194.302667</td>\n    </tr>\n    <tr>\n      <th>87551</th>\n      <td>2021-03-31 23:00:00</td>\n      <td>0.567460</td>\n      <td>0.576820</td>\n      <td>0.566620</td>\n      <td>0.569820</td>\n      <td>3.832329e+07</td>\n      <td>xrp</td>\n      <td>0.000334</td>\n      <td>0.567227</td>\n      <td>0.539948</td>\n      <td>54.914565</td>\n      <td>137.865576</td>\n      <td>8.433502</td>\n      <td>0.556611</td>\n      <td>0.561649</td>\n    </tr>\n  </tbody>\n</table>\n<p>87552 rows × 15 columns</p>\n</div>"
     },
     "metadata": {},
     "execution_count": 90
    }
   ],
   "source": [
    "df"
   ]
  },
  {
   "source": [
    "## Add covariance matrix as states"
   ],
   "cell_type": "markdown",
   "metadata": {}
  },
  {
   "cell_type": "code",
   "execution_count": 91,
   "metadata": {},
   "outputs": [],
   "source": [
    "# add covariance matrix as states\n",
    "df=df.sort_values(['date','tic'],ignore_index=True)\n",
    "df.index = df.date.factorize()[0]\n",
    "\n",
    "cov_list = []\n",
    "# look back is one year\n",
    "lookback=252\n",
    "for i in range(lookback,len(df.index.unique())):\n",
    "  data_lookback = df.loc[i-lookback:i,:]\n",
    "  price_lookback=data_lookback.pivot_table(index = 'date',columns = 'tic', values = 'close')\n",
    "  return_lookback = price_lookback.pct_change().dropna()\n",
    "  covs = return_lookback.cov().values \n",
    "  cov_list.append(covs)\n",
    "  \n",
    "df_cov = pd.DataFrame({'date':df.date.unique()[lookback:],'cov_list':cov_list})\n",
    "df = df.merge(df_cov, on='date')\n",
    "df = df.sort_values(['date','tic']).reset_index(drop=True)\n",
    "        "
   ]
  },
  {
   "cell_type": "code",
   "execution_count": 92,
   "metadata": {},
   "outputs": [
    {
     "output_type": "execute_result",
     "data": {
      "text/plain": [
       "                      date         open         high          low  \\\n",
       "0      2020-01-11 12:00:00     0.036630     0.036690     0.036410   \n",
       "1      2020-01-11 12:00:00    14.868600    14.920900    14.820000   \n",
       "2      2020-01-11 12:00:00  8045.890000  8068.000000  8018.410000   \n",
       "3      2020-01-11 12:00:00     0.002179     0.002184     0.002174   \n",
       "4      2020-01-11 12:00:00   142.630000   142.940000   142.100000   \n",
       "...                    ...          ...          ...          ...   \n",
       "85531  2021-03-31 23:00:00     0.053143     0.053911     0.053000   \n",
       "85532  2021-03-31 23:00:00  1903.970000  1924.210000  1901.620000   \n",
       "85533  2021-03-31 23:00:00    28.571700    29.440100    28.550100   \n",
       "85534  2021-03-31 23:00:00   194.620000   197.630000   194.470000   \n",
       "85535  2021-03-31 23:00:00     0.567460     0.576820     0.566620   \n",
       "\n",
       "             close        volume   tic       macd      boll_ub      boll_lb  \\\n",
       "0         0.036670  2.592805e+06   ada   0.000161     0.037216     0.036439   \n",
       "1        14.900300  1.779574e+04   bnb   0.081623    15.056803    14.767107   \n",
       "2      8061.950000  1.788465e+03   btc  33.263463  8225.486259  7967.135741   \n",
       "3         0.002174  1.427073e+06  doge   0.000007     0.002217     0.002161   \n",
       "4       142.710000  5.180679e+03   eth   0.781968   144.449777   141.905223   \n",
       "...            ...           ...   ...        ...          ...          ...   \n",
       "85531     0.053770  4.448111e+07  doge  -0.000103     0.054076     0.052762   \n",
       "85532  1919.370000  2.122478e+04   eth  26.214167  1948.647647  1762.109353   \n",
       "85533    29.416700  4.557268e+05  link   0.276832    29.035767    26.359743   \n",
       "85534   196.700000  2.863109e+04   ltc   0.332601   198.176985   188.501015   \n",
       "85535     0.569820  3.832329e+07   xrp   0.000334     0.567227     0.539948   \n",
       "\n",
       "          rsi_30      cci_30      dx_30  close_30_sma  close_60_sma  \\\n",
       "0      52.376747   21.688680   6.352014      0.036447      0.036144   \n",
       "1      55.593186   39.729960   9.388623     14.757783     14.569318   \n",
       "2      52.997601   22.549125  20.526702   8015.934667   7941.340667   \n",
       "3      52.559473    8.269112  16.667396      0.002176      0.002146   \n",
       "4      54.522299   29.874361  22.918317    141.666000    139.819333   \n",
       "...          ...         ...        ...           ...           ...   \n",
       "85531  50.006619  -10.311768  28.977404      0.053646      0.053938   \n",
       "85532  64.618395  164.610885  23.659415   1851.563000   1833.205500   \n",
       "85533  64.396467  226.662894  36.167462     27.746403     27.922328   \n",
       "85534  55.327678   76.382622   7.269085    194.139000    194.302667   \n",
       "85535  54.914565  137.865576   8.433502      0.556611      0.561649   \n",
       "\n",
       "                                                cov_list  \n",
       "0      [[4.023392640830573e-05, 2.823734010252163e-05...  \n",
       "1      [[4.023392640830573e-05, 2.823734010252163e-05...  \n",
       "2      [[4.023392640830573e-05, 2.823734010252163e-05...  \n",
       "3      [[4.023392640830573e-05, 2.823734010252163e-05...  \n",
       "4      [[4.023392640830573e-05, 2.823734010252163e-05...  \n",
       "...                                                  ...  \n",
       "85531  [[0.0001184825404164931, 7.097453732794227e-05...  \n",
       "85532  [[0.0001184825404164931, 7.097453732794227e-05...  \n",
       "85533  [[0.0001184825404164931, 7.097453732794227e-05...  \n",
       "85534  [[0.0001184825404164931, 7.097453732794227e-05...  \n",
       "85535  [[0.0001184825404164931, 7.097453732794227e-05...  \n",
       "\n",
       "[85536 rows x 16 columns]"
      ],
      "text/html": "<div>\n<style scoped>\n    .dataframe tbody tr th:only-of-type {\n        vertical-align: middle;\n    }\n\n    .dataframe tbody tr th {\n        vertical-align: top;\n    }\n\n    .dataframe thead th {\n        text-align: right;\n    }\n</style>\n<table border=\"1\" class=\"dataframe\">\n  <thead>\n    <tr style=\"text-align: right;\">\n      <th></th>\n      <th>date</th>\n      <th>open</th>\n      <th>high</th>\n      <th>low</th>\n      <th>close</th>\n      <th>volume</th>\n      <th>tic</th>\n      <th>macd</th>\n      <th>boll_ub</th>\n      <th>boll_lb</th>\n      <th>rsi_30</th>\n      <th>cci_30</th>\n      <th>dx_30</th>\n      <th>close_30_sma</th>\n      <th>close_60_sma</th>\n      <th>cov_list</th>\n    </tr>\n  </thead>\n  <tbody>\n    <tr>\n      <th>0</th>\n      <td>2020-01-11 12:00:00</td>\n      <td>0.036630</td>\n      <td>0.036690</td>\n      <td>0.036410</td>\n      <td>0.036670</td>\n      <td>2.592805e+06</td>\n      <td>ada</td>\n      <td>0.000161</td>\n      <td>0.037216</td>\n      <td>0.036439</td>\n      <td>52.376747</td>\n      <td>21.688680</td>\n      <td>6.352014</td>\n      <td>0.036447</td>\n      <td>0.036144</td>\n      <td>[[4.023392640830573e-05, 2.823734010252163e-05...</td>\n    </tr>\n    <tr>\n      <th>1</th>\n      <td>2020-01-11 12:00:00</td>\n      <td>14.868600</td>\n      <td>14.920900</td>\n      <td>14.820000</td>\n      <td>14.900300</td>\n      <td>1.779574e+04</td>\n      <td>bnb</td>\n      <td>0.081623</td>\n      <td>15.056803</td>\n      <td>14.767107</td>\n      <td>55.593186</td>\n      <td>39.729960</td>\n      <td>9.388623</td>\n      <td>14.757783</td>\n      <td>14.569318</td>\n      <td>[[4.023392640830573e-05, 2.823734010252163e-05...</td>\n    </tr>\n    <tr>\n      <th>2</th>\n      <td>2020-01-11 12:00:00</td>\n      <td>8045.890000</td>\n      <td>8068.000000</td>\n      <td>8018.410000</td>\n      <td>8061.950000</td>\n      <td>1.788465e+03</td>\n      <td>btc</td>\n      <td>33.263463</td>\n      <td>8225.486259</td>\n      <td>7967.135741</td>\n      <td>52.997601</td>\n      <td>22.549125</td>\n      <td>20.526702</td>\n      <td>8015.934667</td>\n      <td>7941.340667</td>\n      <td>[[4.023392640830573e-05, 2.823734010252163e-05...</td>\n    </tr>\n    <tr>\n      <th>3</th>\n      <td>2020-01-11 12:00:00</td>\n      <td>0.002179</td>\n      <td>0.002184</td>\n      <td>0.002174</td>\n      <td>0.002174</td>\n      <td>1.427073e+06</td>\n      <td>doge</td>\n      <td>0.000007</td>\n      <td>0.002217</td>\n      <td>0.002161</td>\n      <td>52.559473</td>\n      <td>8.269112</td>\n      <td>16.667396</td>\n      <td>0.002176</td>\n      <td>0.002146</td>\n      <td>[[4.023392640830573e-05, 2.823734010252163e-05...</td>\n    </tr>\n    <tr>\n      <th>4</th>\n      <td>2020-01-11 12:00:00</td>\n      <td>142.630000</td>\n      <td>142.940000</td>\n      <td>142.100000</td>\n      <td>142.710000</td>\n      <td>5.180679e+03</td>\n      <td>eth</td>\n      <td>0.781968</td>\n      <td>144.449777</td>\n      <td>141.905223</td>\n      <td>54.522299</td>\n      <td>29.874361</td>\n      <td>22.918317</td>\n      <td>141.666000</td>\n      <td>139.819333</td>\n      <td>[[4.023392640830573e-05, 2.823734010252163e-05...</td>\n    </tr>\n    <tr>\n      <th>...</th>\n      <td>...</td>\n      <td>...</td>\n      <td>...</td>\n      <td>...</td>\n      <td>...</td>\n      <td>...</td>\n      <td>...</td>\n      <td>...</td>\n      <td>...</td>\n      <td>...</td>\n      <td>...</td>\n      <td>...</td>\n      <td>...</td>\n      <td>...</td>\n      <td>...</td>\n      <td>...</td>\n    </tr>\n    <tr>\n      <th>85531</th>\n      <td>2021-03-31 23:00:00</td>\n      <td>0.053143</td>\n      <td>0.053911</td>\n      <td>0.053000</td>\n      <td>0.053770</td>\n      <td>4.448111e+07</td>\n      <td>doge</td>\n      <td>-0.000103</td>\n      <td>0.054076</td>\n      <td>0.052762</td>\n      <td>50.006619</td>\n      <td>-10.311768</td>\n      <td>28.977404</td>\n      <td>0.053646</td>\n      <td>0.053938</td>\n      <td>[[0.0001184825404164931, 7.097453732794227e-05...</td>\n    </tr>\n    <tr>\n      <th>85532</th>\n      <td>2021-03-31 23:00:00</td>\n      <td>1903.970000</td>\n      <td>1924.210000</td>\n      <td>1901.620000</td>\n      <td>1919.370000</td>\n      <td>2.122478e+04</td>\n      <td>eth</td>\n      <td>26.214167</td>\n      <td>1948.647647</td>\n      <td>1762.109353</td>\n      <td>64.618395</td>\n      <td>164.610885</td>\n      <td>23.659415</td>\n      <td>1851.563000</td>\n      <td>1833.205500</td>\n      <td>[[0.0001184825404164931, 7.097453732794227e-05...</td>\n    </tr>\n    <tr>\n      <th>85533</th>\n      <td>2021-03-31 23:00:00</td>\n      <td>28.571700</td>\n      <td>29.440100</td>\n      <td>28.550100</td>\n      <td>29.416700</td>\n      <td>4.557268e+05</td>\n      <td>link</td>\n      <td>0.276832</td>\n      <td>29.035767</td>\n      <td>26.359743</td>\n      <td>64.396467</td>\n      <td>226.662894</td>\n      <td>36.167462</td>\n      <td>27.746403</td>\n      <td>27.922328</td>\n      <td>[[0.0001184825404164931, 7.097453732794227e-05...</td>\n    </tr>\n    <tr>\n      <th>85534</th>\n      <td>2021-03-31 23:00:00</td>\n      <td>194.620000</td>\n      <td>197.630000</td>\n      <td>194.470000</td>\n      <td>196.700000</td>\n      <td>2.863109e+04</td>\n      <td>ltc</td>\n      <td>0.332601</td>\n      <td>198.176985</td>\n      <td>188.501015</td>\n      <td>55.327678</td>\n      <td>76.382622</td>\n      <td>7.269085</td>\n      <td>194.139000</td>\n      <td>194.302667</td>\n      <td>[[0.0001184825404164931, 7.097453732794227e-05...</td>\n    </tr>\n    <tr>\n      <th>85535</th>\n      <td>2021-03-31 23:00:00</td>\n      <td>0.567460</td>\n      <td>0.576820</td>\n      <td>0.566620</td>\n      <td>0.569820</td>\n      <td>3.832329e+07</td>\n      <td>xrp</td>\n      <td>0.000334</td>\n      <td>0.567227</td>\n      <td>0.539948</td>\n      <td>54.914565</td>\n      <td>137.865576</td>\n      <td>8.433502</td>\n      <td>0.556611</td>\n      <td>0.561649</td>\n      <td>[[0.0001184825404164931, 7.097453732794227e-05...</td>\n    </tr>\n  </tbody>\n</table>\n<p>85536 rows × 16 columns</p>\n</div>"
     },
     "metadata": {},
     "execution_count": 92
    }
   ],
   "source": [
    "df"
   ]
  },
  {
   "source": [
    "<a id='4'></a>\n",
    "# Part 5. Design Environment\n",
    "Considering the stochastic and interactive nature of the automated stock trading tasks, a financial task is modeled as a **Markov Decision Process (MDP)** problem. The training process involves observing stock price change, taking an action and reward's calculation to have the agent adjusting its strategy accordingly. By interacting with the environment, the trading agent will derive a trading strategy with the maximized rewards as time proceeds.\n",
    "\n",
    "Our trading environments, based on OpenAI Gym framework, simulate live stock markets with real market data according to the principle of time-driven simulation.\n",
    "\n",
    "The action space describes the allowed actions that the agent interacts with the environment. Normally, action a includes three actions: {-1, 0, 1}, where -1, 0, 1 represent selling, holding, and buying one share. Also, an action can be carried upon multiple shares. We use an action space {-k,…,-1, 0, 1, …, k}, where k denotes the number of shares to buy and -k denotes the number of shares to sell. For example, \"Buy 10 shares of AAPL\" or \"Sell 10 shares of AAPL\" are 10 or -10, respectively. The continuous action space needs to be normalized to [-1, 1], since the policy is defined on a Gaussian distribution, which needs to be normalized and symmetric."
   ],
   "cell_type": "markdown",
   "metadata": {}
  },
  {
   "source": [
    "## Training data split: 2020-01-01 to 2020-12-31"
   ],
   "cell_type": "markdown",
   "metadata": {}
  },
  {
   "cell_type": "code",
   "execution_count": 93,
   "metadata": {},
   "outputs": [],
   "source": [
    "train = data_split(df, '2020-01-01','2020-12-31')"
   ]
  },
  {
   "source": [
    "## Environment for Portfolio Allocation\n"
   ],
   "cell_type": "markdown",
   "metadata": {}
  },
  {
   "cell_type": "code",
   "execution_count": 94,
   "metadata": {},
   "outputs": [
    {
     "output_type": "stream",
     "name": "stdout",
     "text": [
      "Stock Dimension: 8, State Space: 8\n"
     ]
    }
   ],
   "source": [
    "stock_dimension = len(train.tic.unique())\n",
    "state_space = stock_dimension\n",
    "print(f\"Stock Dimension: {stock_dimension}, State Space: {state_space}\")\n",
    "\n",
    "env_kwargs = {\n",
    "    \"hmax\": 100, \n",
    "    \"initial_amount\": 1000000, \n",
    "    \"transaction_cost_pct\": 0.001, \n",
    "    \"state_space\": state_space, \n",
    "    \"stock_dim\": stock_dimension, \n",
    "    \"tech_indicator_list\": config.TECHNICAL_INDICATORS_LIST, \n",
    "    \"action_space\": stock_dimension, \n",
    "    \"reward_scaling\": 1e-4\n",
    "    \n",
    "}\n",
    "\n",
    "e_train_gym = StockPortfolioEnv(df = train, **env_kwargs)\n",
    "\n",
    "env_train, _ = e_train_gym.get_sb_env()"
   ]
  },
  {
   "cell_type": "markdown",
   "metadata": {},
   "source": [
    "<a id='5'></a>\n",
    "# Part 6: Implement DRL Algorithms"
   ]
  },
  {
   "cell_type": "code",
   "execution_count": 95,
   "metadata": {},
   "outputs": [],
   "source": [
    "# initialize\n",
    "agent = DRLAgent(env = env_train)"
   ]
  },
  {
   "source": [
    "### Model 1: **A2C**\n"
   ],
   "cell_type": "markdown",
   "metadata": {}
  },
  {
   "cell_type": "code",
   "execution_count": 96,
   "metadata": {},
   "outputs": [
    {
     "output_type": "stream",
     "name": "stdout",
     "text": [
      "{'n_steps': 5, 'ent_coef': 0.005, 'learning_rate': 0.0002}\nUsing cpu device\n"
     ]
    }
   ],
   "source": [
    "A2C_PARAMS = {\"n_steps\": 5, \"ent_coef\": 0.005, \"learning_rate\": 0.0002}\n",
    "model_a2c = agent.get_model(model_name=\"a2c\",model_kwargs = A2C_PARAMS)"
   ]
  },
  {
   "cell_type": "code",
   "execution_count": 97,
   "metadata": {
    "tags": [
     "outputPrepend"
    ]
   },
   "outputs": [
    {
     "output_type": "stream",
     "name": "stdout",
     "text": [
      "-----------------------------\n",
      "=================================\n",
      "begin_total_asset:1000000\n",
      "end_total_asset:4198851.319992501\n",
      "Sharpe:  0.3632677471597872\n",
      "=================================\n",
      "------------------------------------\n",
      "| time/                 |          |\n",
      "|    fps                | 251      |\n",
      "|    iterations         | 8600     |\n",
      "|    time_elapsed       | 171      |\n",
      "|    total_timesteps    | 43000    |\n",
      "| train/                |          |\n",
      "|    entropy_loss       | -10.9    |\n",
      "|    explained_variance | 0        |\n",
      "|    learning_rate      | 0.0002   |\n",
      "|    n_updates          | 8599     |\n",
      "|    policy_loss        | 4.46e+07 |\n",
      "|    std                | 0.951    |\n",
      "|    value_loss         | 1.79e+13 |\n",
      "------------------------------------\n",
      "-------------------------------------\n",
      "| time/                 |           |\n",
      "|    fps                | 250       |\n",
      "|    iterations         | 8700      |\n",
      "|    time_elapsed       | 173       |\n",
      "|    total_timesteps    | 43500     |\n",
      "| train/                |           |\n",
      "|    entropy_loss       | -10.9     |\n",
      "|    explained_variance | -1.19e-07 |\n",
      "|    learning_rate      | 0.0002    |\n",
      "|    n_updates          | 8699      |\n",
      "|    policy_loss        | 5.17e+07  |\n",
      "|    std                | 0.949     |\n",
      "|    value_loss         | 2.61e+13  |\n",
      "-------------------------------------\n",
      "------------------------------------\n",
      "| time/                 |          |\n",
      "|    fps                | 250      |\n",
      "|    iterations         | 8800     |\n",
      "|    time_elapsed       | 175      |\n",
      "|    total_timesteps    | 44000    |\n",
      "| train/                |          |\n",
      "|    entropy_loss       | -10.9    |\n",
      "|    explained_variance | 0        |\n",
      "|    learning_rate      | 0.0002   |\n",
      "|    n_updates          | 8799     |\n",
      "|    policy_loss        | 3.37e+07 |\n",
      "|    std                | 0.948    |\n",
      "|    value_loss         | 1.4e+13  |\n",
      "------------------------------------\n",
      "------------------------------------\n",
      "| time/                 |          |\n",
      "|    fps                | 250      |\n",
      "|    iterations         | 8900     |\n",
      "|    time_elapsed       | 177      |\n",
      "|    total_timesteps    | 44500    |\n",
      "| train/                |          |\n",
      "|    entropy_loss       | -10.9    |\n",
      "|    explained_variance | 0        |\n",
      "|    learning_rate      | 0.0002   |\n",
      "|    n_updates          | 8899     |\n",
      "|    policy_loss        | 2.7e+07  |\n",
      "|    std                | 0.947    |\n",
      "|    value_loss         | 8.96e+12 |\n",
      "------------------------------------\n",
      "------------------------------------\n",
      "| time/                 |          |\n",
      "|    fps                | 249      |\n",
      "|    iterations         | 9000     |\n",
      "|    time_elapsed       | 180      |\n",
      "|    total_timesteps    | 45000    |\n",
      "| train/                |          |\n",
      "|    entropy_loss       | -10.9    |\n",
      "|    explained_variance | 0        |\n",
      "|    learning_rate      | 0.0002   |\n",
      "|    n_updates          | 8999     |\n",
      "|    policy_loss        | 4.02e+07 |\n",
      "|    std                | 0.947    |\n",
      "|    value_loss         | 1.32e+13 |\n",
      "------------------------------------\n",
      "------------------------------------\n",
      "| time/                 |          |\n",
      "|    fps                | 249      |\n",
      "|    iterations         | 9100     |\n",
      "|    time_elapsed       | 182      |\n",
      "|    total_timesteps    | 45500    |\n",
      "| train/                |          |\n",
      "|    entropy_loss       | -10.9    |\n",
      "|    explained_variance | 1.19e-07 |\n",
      "|    learning_rate      | 0.0002   |\n",
      "|    n_updates          | 9099     |\n",
      "|    policy_loss        | 3.13e+07 |\n",
      "|    std                | 0.946    |\n",
      "|    value_loss         | 1.65e+13 |\n",
      "------------------------------------\n",
      "-------------------------------------\n",
      "| time/                 |           |\n",
      "|    fps                | 249       |\n",
      "|    iterations         | 9200      |\n",
      "|    time_elapsed       | 184       |\n",
      "|    total_timesteps    | 46000     |\n",
      "| train/                |           |\n",
      "|    entropy_loss       | -10.9     |\n",
      "|    explained_variance | -1.19e-07 |\n",
      "|    learning_rate      | 0.0002    |\n",
      "|    n_updates          | 9199      |\n",
      "|    policy_loss        | 5.48e+07  |\n",
      "|    std                | 0.946     |\n",
      "|    value_loss         | 2.27e+13  |\n",
      "-------------------------------------\n",
      "------------------------------------\n",
      "| time/                 |          |\n",
      "|    fps                | 249      |\n",
      "|    iterations         | 9300     |\n",
      "|    time_elapsed       | 186      |\n",
      "|    total_timesteps    | 46500    |\n",
      "| train/                |          |\n",
      "|    entropy_loss       | -10.9    |\n",
      "|    explained_variance | 0        |\n",
      "|    learning_rate      | 0.0002   |\n",
      "|    n_updates          | 9299     |\n",
      "|    policy_loss        | 4.37e+07 |\n",
      "|    std                | 0.946    |\n",
      "|    value_loss         | 2.22e+13 |\n",
      "------------------------------------\n",
      "-------------------------------------\n",
      "| time/                 |           |\n",
      "|    fps                | 249       |\n",
      "|    iterations         | 9400      |\n",
      "|    time_elapsed       | 188       |\n",
      "|    total_timesteps    | 47000     |\n",
      "| train/                |           |\n",
      "|    entropy_loss       | -10.9     |\n",
      "|    explained_variance | -1.19e-07 |\n",
      "|    learning_rate      | 0.0002    |\n",
      "|    n_updates          | 9399      |\n",
      "|    policy_loss        | 6.72e+07  |\n",
      "|    std                | 0.944     |\n",
      "|    value_loss         | 3.17e+13  |\n",
      "-------------------------------------\n",
      "------------------------------------\n",
      "| time/                 |          |\n",
      "|    fps                | 249      |\n",
      "|    iterations         | 9500     |\n",
      "|    time_elapsed       | 190      |\n",
      "|    total_timesteps    | 47500    |\n",
      "| train/                |          |\n",
      "|    entropy_loss       | -10.9    |\n",
      "|    explained_variance | 0        |\n",
      "|    learning_rate      | 0.0002   |\n",
      "|    n_updates          | 9499     |\n",
      "|    policy_loss        | 8.32e+07 |\n",
      "|    std                | 0.943    |\n",
      "|    value_loss         | 5.41e+13 |\n",
      "------------------------------------\n",
      "------------------------------------\n",
      "| time/                 |          |\n",
      "|    fps                | 249      |\n",
      "|    iterations         | 9600     |\n",
      "|    time_elapsed       | 192      |\n",
      "|    total_timesteps    | 48000    |\n",
      "| train/                |          |\n",
      "|    entropy_loss       | -10.9    |\n",
      "|    explained_variance | 0        |\n",
      "|    learning_rate      | 0.0002   |\n",
      "|    n_updates          | 9599     |\n",
      "|    policy_loss        | 7.5e+07  |\n",
      "|    std                | 0.942    |\n",
      "|    value_loss         | 5.46e+13 |\n",
      "------------------------------------\n",
      "------------------------------------\n",
      "| time/                 |          |\n",
      "|    fps                | 249      |\n",
      "|    iterations         | 9700     |\n",
      "|    time_elapsed       | 194      |\n",
      "|    total_timesteps    | 48500    |\n",
      "| train/                |          |\n",
      "|    entropy_loss       | -10.9    |\n",
      "|    explained_variance | 1.19e-07 |\n",
      "|    learning_rate      | 0.0002   |\n",
      "|    n_updates          | 9699     |\n",
      "|    policy_loss        | 7.65e+07 |\n",
      "|    std                | 0.942    |\n",
      "|    value_loss         | 4.71e+13 |\n",
      "------------------------------------\n",
      "------------------------------------\n",
      "| time/                 |          |\n",
      "|    fps                | 249      |\n",
      "|    iterations         | 9800     |\n",
      "|    time_elapsed       | 196      |\n",
      "|    total_timesteps    | 49000    |\n",
      "| train/                |          |\n",
      "|    entropy_loss       | -10.9    |\n",
      "|    explained_variance | 0        |\n",
      "|    learning_rate      | 0.0002   |\n",
      "|    n_updates          | 9799     |\n",
      "|    policy_loss        | 6.87e+07 |\n",
      "|    std                | 0.943    |\n",
      "|    value_loss         | 4.34e+13 |\n",
      "------------------------------------\n",
      "------------------------------------\n",
      "| time/                 |          |\n",
      "|    fps                | 249      |\n",
      "|    iterations         | 9900     |\n",
      "|    time_elapsed       | 198      |\n",
      "|    total_timesteps    | 49500    |\n",
      "| train/                |          |\n",
      "|    entropy_loss       | -10.9    |\n",
      "|    explained_variance | 0        |\n",
      "|    learning_rate      | 0.0002   |\n",
      "|    n_updates          | 9899     |\n",
      "|    policy_loss        | 6.95e+07 |\n",
      "|    std                | 0.942    |\n",
      "|    value_loss         | 5.47e+13 |\n",
      "------------------------------------\n",
      "-------------------------------------\n",
      "| time/                 |           |\n",
      "|    fps                | 249       |\n",
      "|    iterations         | 10000     |\n",
      "|    time_elapsed       | 200       |\n",
      "|    total_timesteps    | 50000     |\n",
      "| train/                |           |\n",
      "|    entropy_loss       | -10.9     |\n",
      "|    explained_variance | -2.38e-07 |\n",
      "|    learning_rate      | 0.0002    |\n",
      "|    n_updates          | 9999      |\n",
      "|    policy_loss        | 8.4e+07   |\n",
      "|    std                | 0.941     |\n",
      "|    value_loss         | 6.91e+13  |\n",
      "-------------------------------------\n",
      "------------------------------------\n",
      "| time/                 |          |\n",
      "|    fps                | 249      |\n",
      "|    iterations         | 10100    |\n",
      "|    time_elapsed       | 202      |\n",
      "|    total_timesteps    | 50500    |\n",
      "| train/                |          |\n",
      "|    entropy_loss       | -10.9    |\n",
      "|    explained_variance | 0        |\n",
      "|    learning_rate      | 0.0002   |\n",
      "|    n_updates          | 10099    |\n",
      "|    policy_loss        | 1.09e+08 |\n",
      "|    std                | 0.94     |\n",
      "|    value_loss         | 1.13e+14 |\n",
      "------------------------------------\n",
      "------------------------------------\n",
      "| time/                 |          |\n",
      "|    fps                | 249      |\n",
      "|    iterations         | 10200    |\n",
      "|    time_elapsed       | 204      |\n",
      "|    total_timesteps    | 51000    |\n",
      "| train/                |          |\n",
      "|    entropy_loss       | -10.8    |\n",
      "|    explained_variance | 0        |\n",
      "|    learning_rate      | 0.0002   |\n",
      "|    n_updates          | 10199    |\n",
      "|    policy_loss        | 1.07e+08 |\n",
      "|    std                | 0.939    |\n",
      "|    value_loss         | 1.32e+14 |\n",
      "------------------------------------\n",
      "=================================\n",
      "begin_total_asset:1000000\n",
      "end_total_asset:3427099.3411815735\n",
      "Sharpe:  0.3210176506055671\n",
      "=================================\n",
      "------------------------------------\n",
      "| time/                 |          |\n",
      "|    fps                | 249      |\n",
      "|    iterations         | 10300    |\n",
      "|    time_elapsed       | 206      |\n",
      "|    total_timesteps    | 51500    |\n",
      "| train/                |          |\n",
      "|    entropy_loss       | -10.8    |\n",
      "|    explained_variance | 1.19e-07 |\n",
      "|    learning_rate      | 0.0002   |\n",
      "|    n_updates          | 10299    |\n",
      "|    policy_loss        | 3.73e+07 |\n",
      "|    std                | 0.938    |\n",
      "|    value_loss         | 1.59e+13 |\n",
      "------------------------------------\n",
      "-------------------------------------\n",
      "| time/                 |           |\n",
      "|    fps                | 249       |\n",
      "|    iterations         | 10400     |\n",
      "|    time_elapsed       | 208       |\n",
      "|    total_timesteps    | 52000     |\n",
      "| train/                |           |\n",
      "|    entropy_loss       | -10.8     |\n",
      "|    explained_variance | -1.19e-07 |\n",
      "|    learning_rate      | 0.0002    |\n",
      "|    n_updates          | 10399     |\n",
      "|    policy_loss        | 5.22e+07  |\n",
      "|    std                | 0.939     |\n",
      "|    value_loss         | 2.57e+13  |\n",
      "-------------------------------------\n",
      "------------------------------------\n",
      "| time/                 |          |\n",
      "|    fps                | 249      |\n",
      "|    iterations         | 10500    |\n",
      "|    time_elapsed       | 210      |\n",
      "|    total_timesteps    | 52500    |\n",
      "| train/                |          |\n",
      "|    entropy_loss       | -10.8    |\n",
      "|    explained_variance | 1.19e-07 |\n",
      "|    learning_rate      | 0.0002   |\n",
      "|    n_updates          | 10499    |\n",
      "|    policy_loss        | 3.37e+07 |\n",
      "|    std                | 0.937    |\n",
      "|    value_loss         | 1.46e+13 |\n",
      "------------------------------------\n",
      "------------------------------------\n",
      "| time/                 |          |\n",
      "|    fps                | 249      |\n",
      "|    iterations         | 10600    |\n",
      "|    time_elapsed       | 212      |\n",
      "|    total_timesteps    | 53000    |\n",
      "| train/                |          |\n",
      "|    entropy_loss       | -10.8    |\n",
      "|    explained_variance | 0        |\n",
      "|    learning_rate      | 0.0002   |\n",
      "|    n_updates          | 10599    |\n",
      "|    policy_loss        | 2.61e+07 |\n",
      "|    std                | 0.936    |\n",
      "|    value_loss         | 8.56e+12 |\n",
      "------------------------------------\n",
      "------------------------------------\n",
      "| time/                 |          |\n",
      "|    fps                | 249      |\n",
      "|    iterations         | 10700    |\n",
      "|    time_elapsed       | 214      |\n",
      "|    total_timesteps    | 53500    |\n",
      "| train/                |          |\n",
      "|    entropy_loss       | -10.8    |\n",
      "|    explained_variance | 0        |\n",
      "|    learning_rate      | 0.0002   |\n",
      "|    n_updates          | 10699    |\n",
      "|    policy_loss        | 4.35e+07 |\n",
      "|    std                | 0.936    |\n",
      "|    value_loss         | 1.29e+13 |\n",
      "------------------------------------\n",
      "------------------------------------\n",
      "| time/                 |          |\n",
      "|    fps                | 250      |\n",
      "|    iterations         | 10800    |\n",
      "|    time_elapsed       | 215      |\n",
      "|    total_timesteps    | 54000    |\n",
      "| train/                |          |\n",
      "|    entropy_loss       | -10.8    |\n",
      "|    explained_variance | 1.79e-07 |\n",
      "|    learning_rate      | 0.0002   |\n",
      "|    n_updates          | 10799    |\n",
      "|    policy_loss        | 4.14e+07 |\n",
      "|    std                | 0.935    |\n",
      "|    value_loss         | 1.87e+13 |\n",
      "------------------------------------\n",
      "------------------------------------\n",
      "| time/                 |          |\n",
      "|    fps                | 250      |\n",
      "|    iterations         | 10900    |\n",
      "|    time_elapsed       | 217      |\n",
      "|    total_timesteps    | 54500    |\n",
      "| train/                |          |\n",
      "|    entropy_loss       | -10.8    |\n",
      "|    explained_variance | 0        |\n",
      "|    learning_rate      | 0.0002   |\n",
      "|    n_updates          | 10899    |\n",
      "|    policy_loss        | 4.42e+07 |\n",
      "|    std                | 0.935    |\n",
      "|    value_loss         | 2.54e+13 |\n",
      "------------------------------------\n",
      "------------------------------------\n",
      "| time/                 |          |\n",
      "|    fps                | 251      |\n",
      "|    iterations         | 11000    |\n",
      "|    time_elapsed       | 218      |\n",
      "|    total_timesteps    | 55000    |\n",
      "| train/                |          |\n",
      "|    entropy_loss       | -10.8    |\n",
      "|    explained_variance | 0        |\n",
      "|    learning_rate      | 0.0002   |\n",
      "|    n_updates          | 10999    |\n",
      "|    policy_loss        | 5.04e+07 |\n",
      "|    std                | 0.934    |\n",
      "|    value_loss         | 2.5e+13  |\n",
      "------------------------------------\n",
      "------------------------------------\n",
      "| time/                 |          |\n",
      "|    fps                | 251      |\n",
      "|    iterations         | 11100    |\n",
      "|    time_elapsed       | 220      |\n",
      "|    total_timesteps    | 55500    |\n",
      "| train/                |          |\n",
      "|    entropy_loss       | -10.8    |\n",
      "|    explained_variance | 0        |\n",
      "|    learning_rate      | 0.0002   |\n",
      "|    n_updates          | 11099    |\n",
      "|    policy_loss        | 5.14e+07 |\n",
      "|    std                | 0.933    |\n",
      "|    value_loss         | 3.54e+13 |\n",
      "------------------------------------\n",
      "------------------------------------\n",
      "| time/                 |          |\n",
      "|    fps                | 252      |\n",
      "|    iterations         | 11200    |\n",
      "|    time_elapsed       | 221      |\n",
      "|    total_timesteps    | 56000    |\n",
      "| train/                |          |\n",
      "|    entropy_loss       | -10.8    |\n",
      "|    explained_variance | 0        |\n",
      "|    learning_rate      | 0.0002   |\n",
      "|    n_updates          | 11199    |\n",
      "|    policy_loss        | 6.64e+07 |\n",
      "|    std                | 0.933    |\n",
      "|    value_loss         | 5.4e+13  |\n",
      "------------------------------------\n",
      "------------------------------------\n",
      "| time/                 |          |\n",
      "|    fps                | 252      |\n",
      "|    iterations         | 11300    |\n",
      "|    time_elapsed       | 223      |\n",
      "|    total_timesteps    | 56500    |\n",
      "| train/                |          |\n",
      "|    entropy_loss       | -10.8    |\n",
      "|    explained_variance | 0        |\n",
      "|    learning_rate      | 0.0002   |\n",
      "|    n_updates          | 11299    |\n",
      "|    policy_loss        | 6.19e+07 |\n",
      "|    std                | 0.932    |\n",
      "|    value_loss         | 5.8e+13  |\n",
      "------------------------------------\n",
      "------------------------------------\n",
      "| time/                 |          |\n",
      "|    fps                | 253      |\n",
      "|    iterations         | 11400    |\n",
      "|    time_elapsed       | 225      |\n",
      "|    total_timesteps    | 57000    |\n",
      "| train/                |          |\n",
      "|    entropy_loss       | -10.8    |\n",
      "|    explained_variance | 1.19e-07 |\n",
      "|    learning_rate      | 0.0002   |\n",
      "|    n_updates          | 11399    |\n",
      "|    policy_loss        | 6.88e+07 |\n",
      "|    std                | 0.932    |\n",
      "|    value_loss         | 4.72e+13 |\n",
      "------------------------------------\n",
      "------------------------------------\n",
      "| time/                 |          |\n",
      "|    fps                | 253      |\n",
      "|    iterations         | 11500    |\n",
      "|    time_elapsed       | 226      |\n",
      "|    total_timesteps    | 57500    |\n",
      "| train/                |          |\n",
      "|    entropy_loss       | -10.8    |\n",
      "|    explained_variance | 0        |\n",
      "|    learning_rate      | 0.0002   |\n",
      "|    n_updates          | 11499    |\n",
      "|    policy_loss        | 6.5e+07  |\n",
      "|    std                | 0.933    |\n",
      "|    value_loss         | 4.4e+13  |\n",
      "------------------------------------\n",
      "------------------------------------\n",
      "| time/                 |          |\n",
      "|    fps                | 253      |\n",
      "|    iterations         | 11600    |\n",
      "|    time_elapsed       | 228      |\n",
      "|    total_timesteps    | 58000    |\n",
      "| train/                |          |\n",
      "|    entropy_loss       | -10.8    |\n",
      "|    explained_variance | 0        |\n",
      "|    learning_rate      | 0.0002   |\n",
      "|    n_updates          | 11599    |\n",
      "|    policy_loss        | 7e+07    |\n",
      "|    std                | 0.932    |\n",
      "|    value_loss         | 5.69e+13 |\n",
      "------------------------------------\n",
      "------------------------------------\n",
      "| time/                 |          |\n",
      "|    fps                | 254      |\n",
      "|    iterations         | 11700    |\n",
      "|    time_elapsed       | 229      |\n",
      "|    total_timesteps    | 58500    |\n",
      "| train/                |          |\n",
      "|    entropy_loss       | -10.8    |\n",
      "|    explained_variance | 2.38e-07 |\n",
      "|    learning_rate      | 0.0002   |\n",
      "|    n_updates          | 11699    |\n",
      "|    policy_loss        | 7.61e+07 |\n",
      "|    std                | 0.931    |\n",
      "|    value_loss         | 6.76e+13 |\n",
      "------------------------------------\n",
      "------------------------------------\n",
      "| time/                 |          |\n",
      "|    fps                | 254      |\n",
      "|    iterations         | 11800    |\n",
      "|    time_elapsed       | 231      |\n",
      "|    total_timesteps    | 59000    |\n",
      "| train/                |          |\n",
      "|    entropy_loss       | -10.8    |\n",
      "|    explained_variance | 0        |\n",
      "|    learning_rate      | 0.0002   |\n",
      "|    n_updates          | 11799    |\n",
      "|    policy_loss        | 1.11e+08 |\n",
      "|    std                | 0.93     |\n",
      "|    value_loss         | 1.09e+14 |\n",
      "------------------------------------\n",
      "------------------------------------\n",
      "| time/                 |          |\n",
      "|    fps                | 254      |\n",
      "|    iterations         | 11900    |\n",
      "|    time_elapsed       | 233      |\n",
      "|    total_timesteps    | 59500    |\n",
      "| train/                |          |\n",
      "|    entropy_loss       | -10.8    |\n",
      "|    explained_variance | 0        |\n",
      "|    learning_rate      | 0.0002   |\n",
      "|    n_updates          | 11899    |\n",
      "|    policy_loss        | 1.2e+08  |\n",
      "|    std                | 0.929    |\n",
      "|    value_loss         | 1.4e+14  |\n",
      "------------------------------------\n",
      "=================================\n",
      "begin_total_asset:1000000\n",
      "end_total_asset:3517405.445068894\n",
      "Sharpe:  0.32639172321642773\n",
      "=================================\n",
      "------------------------------------\n",
      "| time/                 |          |\n",
      "|    fps                | 255      |\n",
      "|    iterations         | 12000    |\n",
      "|    time_elapsed       | 235      |\n",
      "|    total_timesteps    | 60000    |\n",
      "| train/                |          |\n",
      "|    entropy_loss       | -10.8    |\n",
      "|    explained_variance | 1.19e-07 |\n",
      "|    learning_rate      | 0.0002   |\n",
      "|    n_updates          | 11999    |\n",
      "|    policy_loss        | 4e+07    |\n",
      "|    std                | 0.929    |\n",
      "|    value_loss         | 1.61e+13 |\n",
      "------------------------------------\n"
     ]
    }
   ],
   "source": [
    "trained_a2c = agent.train_model(model=model_a2c, \n",
    "                                tb_log_name='a2c',\n",
    "                                total_timesteps=60000)"
   ]
  },
  {
   "source": [
    "### Model 2: **PPO**"
   ],
   "cell_type": "markdown",
   "metadata": {}
  },
  {
   "cell_type": "code",
   "execution_count": 98,
   "metadata": {},
   "outputs": [],
   "source": [
    "# agent = DRLAgent(env = env_train)\n",
    "# PPO_PARAMS = {\n",
    "#     \"n_steps\": 2048,\n",
    "#     \"ent_coef\": 0.005,\n",
    "#     \"learning_rate\": 0.0001,\n",
    "#     \"batch_size\": 128,\n",
    "# }\n",
    "# model_ppo = agent.get_model(\"ppo\",model_kwargs = PPO_PARAMS)"
   ]
  },
  {
   "cell_type": "code",
   "execution_count": 99,
   "metadata": {},
   "outputs": [],
   "source": [
    "# trained_ppo = agent.train_model(model=model_ppo, \n",
    "#                              tb_log_name='ppo',\n",
    "#                              total_timesteps=80000)"
   ]
  },
  {
   "cell_type": "code",
   "execution_count": null,
   "metadata": {},
   "outputs": [],
   "source": []
  },
  {
   "source": [
    "## Trading\n",
    "Assume that we have $1,000,000 initial capital at 2021-01-01."
   ],
   "cell_type": "markdown",
   "metadata": {}
  },
  {
   "source": [
    "trade = data_split(df,'2021-01-01', config.END_DATE)\n",
    "e_trade_gym = StockPortfolioEnv(df = trade, **env_kwargs)"
   ],
   "cell_type": "code",
   "metadata": {},
   "execution_count": 110,
   "outputs": []
  },
  {
   "cell_type": "code",
   "execution_count": 111,
   "metadata": {},
   "outputs": [
    {
     "output_type": "execute_result",
     "data": {
      "text/plain": [
       "(17280, 16)"
      ]
     },
     "metadata": {},
     "execution_count": 111
    }
   ],
   "source": [
    "trade.shape"
   ]
  },
  {
   "cell_type": "code",
   "execution_count": 102,
   "metadata": {},
   "outputs": [
    {
     "output_type": "execute_result",
     "data": {
      "text/plain": [
       "                     date          open          high           low  \\\n",
       "0     2021-01-01 00:00:00      0.181340      0.181460      0.178310   \n",
       "0     2021-01-01 00:00:00     37.359600     37.442300     36.963600   \n",
       "0     2021-01-01 00:00:00  28923.630000  29031.340000  28690.170000   \n",
       "0     2021-01-01 00:00:00      0.004672      0.004701      0.004601   \n",
       "0     2021-01-01 00:00:00    736.420000    739.000000    729.330000   \n",
       "...                   ...           ...           ...           ...   \n",
       "2159  2021-03-31 23:00:00      0.053143      0.053911      0.053000   \n",
       "2159  2021-03-31 23:00:00   1903.970000   1924.210000   1901.620000   \n",
       "2159  2021-03-31 23:00:00     28.571700     29.440100     28.550100   \n",
       "2159  2021-03-31 23:00:00    194.620000    197.630000    194.470000   \n",
       "2159  2021-03-31 23:00:00      0.567460      0.576820      0.566620   \n",
       "\n",
       "             close        volume   tic        macd       boll_ub  \\\n",
       "0         0.180510  1.919492e+07   ada   -0.000153      0.184657   \n",
       "0        37.376400  9.511383e+04   bnb   -0.083237     37.946399   \n",
       "0     28995.130000  2.311811e+03   btc  133.938215  29333.932277   \n",
       "0         0.004679  2.768207e+07  doge    0.000018      0.004729   \n",
       "0       734.070000  2.793270e+04   eth   -0.496311    752.068407   \n",
       "...            ...           ...   ...         ...           ...   \n",
       "2159      0.053770  4.448111e+07  doge   -0.000103      0.054076   \n",
       "2159   1919.370000  2.122478e+04   eth   26.214167   1948.647647   \n",
       "2159     29.416700  4.557268e+05  link    0.276832     29.035767   \n",
       "2159    196.700000  2.863109e+04   ltc    0.332601    198.176985   \n",
       "2159      0.569820  3.832329e+07   xrp    0.000334      0.567227   \n",
       "\n",
       "           boll_lb     rsi_30      cci_30      dx_30  close_30_sma  \\\n",
       "0         0.176516  50.750459  -27.165052   6.100618      0.180782   \n",
       "0        36.719461  51.231566  -33.515795  11.715168     37.421230   \n",
       "0     28372.364723  57.001762   31.346237   5.617701  28857.221667   \n",
       "0         0.004558  53.910140   48.169530   6.372370      0.004639   \n",
       "0       727.317593  50.347614  -92.128309  16.290326    741.657333   \n",
       "...            ...        ...         ...        ...           ...   \n",
       "2159      0.052762  50.006619  -10.311768  28.977404      0.053646   \n",
       "2159   1762.109353  64.618395  164.610885  23.659415   1851.563000   \n",
       "2159     26.359743  64.396467  226.662894  36.167462     27.746403   \n",
       "2159    188.501015  55.327678   76.382622   7.269085    194.139000   \n",
       "2159      0.539948  54.914565  137.865576   8.433502      0.556611   \n",
       "\n",
       "      close_60_sma                                           cov_list  \n",
       "0         0.182191  [[0.00023491493831790994, 7.732551281244585e-0...  \n",
       "0        37.590240  [[0.00023491493831790994, 7.732551281244585e-0...  \n",
       "0     28217.099500  [[0.00023491493831790994, 7.732551281244585e-0...  \n",
       "0         0.004574  [[0.00023491493831790994, 7.732551281244585e-0...  \n",
       "0       735.789500  [[0.00023491493831790994, 7.732551281244585e-0...  \n",
       "...            ...                                                ...  \n",
       "2159      0.053938  [[0.0001184825404164931, 7.097453732794227e-05...  \n",
       "2159   1833.205500  [[0.0001184825404164931, 7.097453732794227e-05...  \n",
       "2159     27.922328  [[0.0001184825404164931, 7.097453732794227e-05...  \n",
       "2159    194.302667  [[0.0001184825404164931, 7.097453732794227e-05...  \n",
       "2159      0.561649  [[0.0001184825404164931, 7.097453732794227e-05...  \n",
       "\n",
       "[17280 rows x 16 columns]"
      ],
      "text/html": "<div>\n<style scoped>\n    .dataframe tbody tr th:only-of-type {\n        vertical-align: middle;\n    }\n\n    .dataframe tbody tr th {\n        vertical-align: top;\n    }\n\n    .dataframe thead th {\n        text-align: right;\n    }\n</style>\n<table border=\"1\" class=\"dataframe\">\n  <thead>\n    <tr style=\"text-align: right;\">\n      <th></th>\n      <th>date</th>\n      <th>open</th>\n      <th>high</th>\n      <th>low</th>\n      <th>close</th>\n      <th>volume</th>\n      <th>tic</th>\n      <th>macd</th>\n      <th>boll_ub</th>\n      <th>boll_lb</th>\n      <th>rsi_30</th>\n      <th>cci_30</th>\n      <th>dx_30</th>\n      <th>close_30_sma</th>\n      <th>close_60_sma</th>\n      <th>cov_list</th>\n    </tr>\n  </thead>\n  <tbody>\n    <tr>\n      <th>0</th>\n      <td>2021-01-01 00:00:00</td>\n      <td>0.181340</td>\n      <td>0.181460</td>\n      <td>0.178310</td>\n      <td>0.180510</td>\n      <td>1.919492e+07</td>\n      <td>ada</td>\n      <td>-0.000153</td>\n      <td>0.184657</td>\n      <td>0.176516</td>\n      <td>50.750459</td>\n      <td>-27.165052</td>\n      <td>6.100618</td>\n      <td>0.180782</td>\n      <td>0.182191</td>\n      <td>[[0.00023491493831790994, 7.732551281244585e-0...</td>\n    </tr>\n    <tr>\n      <th>0</th>\n      <td>2021-01-01 00:00:00</td>\n      <td>37.359600</td>\n      <td>37.442300</td>\n      <td>36.963600</td>\n      <td>37.376400</td>\n      <td>9.511383e+04</td>\n      <td>bnb</td>\n      <td>-0.083237</td>\n      <td>37.946399</td>\n      <td>36.719461</td>\n      <td>51.231566</td>\n      <td>-33.515795</td>\n      <td>11.715168</td>\n      <td>37.421230</td>\n      <td>37.590240</td>\n      <td>[[0.00023491493831790994, 7.732551281244585e-0...</td>\n    </tr>\n    <tr>\n      <th>0</th>\n      <td>2021-01-01 00:00:00</td>\n      <td>28923.630000</td>\n      <td>29031.340000</td>\n      <td>28690.170000</td>\n      <td>28995.130000</td>\n      <td>2.311811e+03</td>\n      <td>btc</td>\n      <td>133.938215</td>\n      <td>29333.932277</td>\n      <td>28372.364723</td>\n      <td>57.001762</td>\n      <td>31.346237</td>\n      <td>5.617701</td>\n      <td>28857.221667</td>\n      <td>28217.099500</td>\n      <td>[[0.00023491493831790994, 7.732551281244585e-0...</td>\n    </tr>\n    <tr>\n      <th>0</th>\n      <td>2021-01-01 00:00:00</td>\n      <td>0.004672</td>\n      <td>0.004701</td>\n      <td>0.004601</td>\n      <td>0.004679</td>\n      <td>2.768207e+07</td>\n      <td>doge</td>\n      <td>0.000018</td>\n      <td>0.004729</td>\n      <td>0.004558</td>\n      <td>53.910140</td>\n      <td>48.169530</td>\n      <td>6.372370</td>\n      <td>0.004639</td>\n      <td>0.004574</td>\n      <td>[[0.00023491493831790994, 7.732551281244585e-0...</td>\n    </tr>\n    <tr>\n      <th>0</th>\n      <td>2021-01-01 00:00:00</td>\n      <td>736.420000</td>\n      <td>739.000000</td>\n      <td>729.330000</td>\n      <td>734.070000</td>\n      <td>2.793270e+04</td>\n      <td>eth</td>\n      <td>-0.496311</td>\n      <td>752.068407</td>\n      <td>727.317593</td>\n      <td>50.347614</td>\n      <td>-92.128309</td>\n      <td>16.290326</td>\n      <td>741.657333</td>\n      <td>735.789500</td>\n      <td>[[0.00023491493831790994, 7.732551281244585e-0...</td>\n    </tr>\n    <tr>\n      <th>...</th>\n      <td>...</td>\n      <td>...</td>\n      <td>...</td>\n      <td>...</td>\n      <td>...</td>\n      <td>...</td>\n      <td>...</td>\n      <td>...</td>\n      <td>...</td>\n      <td>...</td>\n      <td>...</td>\n      <td>...</td>\n      <td>...</td>\n      <td>...</td>\n      <td>...</td>\n      <td>...</td>\n    </tr>\n    <tr>\n      <th>2159</th>\n      <td>2021-03-31 23:00:00</td>\n      <td>0.053143</td>\n      <td>0.053911</td>\n      <td>0.053000</td>\n      <td>0.053770</td>\n      <td>4.448111e+07</td>\n      <td>doge</td>\n      <td>-0.000103</td>\n      <td>0.054076</td>\n      <td>0.052762</td>\n      <td>50.006619</td>\n      <td>-10.311768</td>\n      <td>28.977404</td>\n      <td>0.053646</td>\n      <td>0.053938</td>\n      <td>[[0.0001184825404164931, 7.097453732794227e-05...</td>\n    </tr>\n    <tr>\n      <th>2159</th>\n      <td>2021-03-31 23:00:00</td>\n      <td>1903.970000</td>\n      <td>1924.210000</td>\n      <td>1901.620000</td>\n      <td>1919.370000</td>\n      <td>2.122478e+04</td>\n      <td>eth</td>\n      <td>26.214167</td>\n      <td>1948.647647</td>\n      <td>1762.109353</td>\n      <td>64.618395</td>\n      <td>164.610885</td>\n      <td>23.659415</td>\n      <td>1851.563000</td>\n      <td>1833.205500</td>\n      <td>[[0.0001184825404164931, 7.097453732794227e-05...</td>\n    </tr>\n    <tr>\n      <th>2159</th>\n      <td>2021-03-31 23:00:00</td>\n      <td>28.571700</td>\n      <td>29.440100</td>\n      <td>28.550100</td>\n      <td>29.416700</td>\n      <td>4.557268e+05</td>\n      <td>link</td>\n      <td>0.276832</td>\n      <td>29.035767</td>\n      <td>26.359743</td>\n      <td>64.396467</td>\n      <td>226.662894</td>\n      <td>36.167462</td>\n      <td>27.746403</td>\n      <td>27.922328</td>\n      <td>[[0.0001184825404164931, 7.097453732794227e-05...</td>\n    </tr>\n    <tr>\n      <th>2159</th>\n      <td>2021-03-31 23:00:00</td>\n      <td>194.620000</td>\n      <td>197.630000</td>\n      <td>194.470000</td>\n      <td>196.700000</td>\n      <td>2.863109e+04</td>\n      <td>ltc</td>\n      <td>0.332601</td>\n      <td>198.176985</td>\n      <td>188.501015</td>\n      <td>55.327678</td>\n      <td>76.382622</td>\n      <td>7.269085</td>\n      <td>194.139000</td>\n      <td>194.302667</td>\n      <td>[[0.0001184825404164931, 7.097453732794227e-05...</td>\n    </tr>\n    <tr>\n      <th>2159</th>\n      <td>2021-03-31 23:00:00</td>\n      <td>0.567460</td>\n      <td>0.576820</td>\n      <td>0.566620</td>\n      <td>0.569820</td>\n      <td>3.832329e+07</td>\n      <td>xrp</td>\n      <td>0.000334</td>\n      <td>0.567227</td>\n      <td>0.539948</td>\n      <td>54.914565</td>\n      <td>137.865576</td>\n      <td>8.433502</td>\n      <td>0.556611</td>\n      <td>0.561649</td>\n      <td>[[0.0001184825404164931, 7.097453732794227e-05...</td>\n    </tr>\n  </tbody>\n</table>\n<p>17280 rows × 16 columns</p>\n</div>"
     },
     "metadata": {},
     "execution_count": 102
    }
   ],
   "source": [
    "trade"
   ]
  },
  {
   "cell_type": "code",
   "execution_count": 112,
   "metadata": {},
   "outputs": [
    {
     "output_type": "stream",
     "name": "stdout",
     "text": [
      "=================================\nbegin_total_asset:1000000\nend_total_asset:3955745.7869483377\nSharpe:  0.8952605536069735\n=================================\nhit end!\n"
     ]
    }
   ],
   "source": [
    "df_daily_return, df_actions = DRLAgent.DRL_prediction(model=trained_a2c,\n",
    "                        environment = e_trade_gym)"
   ]
  },
  {
   "cell_type": "code",
   "execution_count": 104,
   "metadata": {},
   "outputs": [
    {
     "output_type": "execute_result",
     "data": {
      "text/plain": [
       "                     date  daily_return\n",
       "0     2021-01-01 00:00:00      0.000000\n",
       "1     2021-01-01 01:00:00      0.022631\n",
       "2     2021-01-01 02:00:00      0.003002\n",
       "3     2021-01-01 03:00:00      0.006520\n",
       "4     2021-01-01 04:00:00      0.001370\n",
       "...                   ...           ...\n",
       "2155  2021-03-31 19:00:00     -0.005520\n",
       "2156  2021-03-31 20:00:00      0.011206\n",
       "2157  2021-03-31 21:00:00     -0.000456\n",
       "2158  2021-03-31 22:00:00      0.001301\n",
       "2159  2021-03-31 23:00:00      0.005458\n",
       "\n",
       "[2160 rows x 2 columns]"
      ],
      "text/html": "<div>\n<style scoped>\n    .dataframe tbody tr th:only-of-type {\n        vertical-align: middle;\n    }\n\n    .dataframe tbody tr th {\n        vertical-align: top;\n    }\n\n    .dataframe thead th {\n        text-align: right;\n    }\n</style>\n<table border=\"1\" class=\"dataframe\">\n  <thead>\n    <tr style=\"text-align: right;\">\n      <th></th>\n      <th>date</th>\n      <th>daily_return</th>\n    </tr>\n  </thead>\n  <tbody>\n    <tr>\n      <th>0</th>\n      <td>2021-01-01 00:00:00</td>\n      <td>0.000000</td>\n    </tr>\n    <tr>\n      <th>1</th>\n      <td>2021-01-01 01:00:00</td>\n      <td>0.022631</td>\n    </tr>\n    <tr>\n      <th>2</th>\n      <td>2021-01-01 02:00:00</td>\n      <td>0.003002</td>\n    </tr>\n    <tr>\n      <th>3</th>\n      <td>2021-01-01 03:00:00</td>\n      <td>0.006520</td>\n    </tr>\n    <tr>\n      <th>4</th>\n      <td>2021-01-01 04:00:00</td>\n      <td>0.001370</td>\n    </tr>\n    <tr>\n      <th>...</th>\n      <td>...</td>\n      <td>...</td>\n    </tr>\n    <tr>\n      <th>2155</th>\n      <td>2021-03-31 19:00:00</td>\n      <td>-0.005520</td>\n    </tr>\n    <tr>\n      <th>2156</th>\n      <td>2021-03-31 20:00:00</td>\n      <td>0.011206</td>\n    </tr>\n    <tr>\n      <th>2157</th>\n      <td>2021-03-31 21:00:00</td>\n      <td>-0.000456</td>\n    </tr>\n    <tr>\n      <th>2158</th>\n      <td>2021-03-31 22:00:00</td>\n      <td>0.001301</td>\n    </tr>\n    <tr>\n      <th>2159</th>\n      <td>2021-03-31 23:00:00</td>\n      <td>0.005458</td>\n    </tr>\n  </tbody>\n</table>\n<p>2160 rows × 2 columns</p>\n</div>"
     },
     "metadata": {},
     "execution_count": 104
    }
   ],
   "source": [
    "df_daily_return"
   ]
  },
  {
   "cell_type": "code",
   "execution_count": 105,
   "metadata": {},
   "outputs": [
    {
     "output_type": "execute_result",
     "data": {
      "text/plain": [
       "                          ada       bnb       btc      doge       eth  \\\n",
       "date                                                                    \n",
       "2021-01-01 00:00:00  0.125000  0.125000  0.125000  0.125000  0.125000   \n",
       "2021-01-01 01:00:00  0.066554  0.076688  0.180913  0.066554  0.066554   \n",
       "2021-01-01 02:00:00  0.077391  0.130851  0.077391  0.077391  0.198717   \n",
       "2021-01-01 03:00:00  0.099662  0.099662  0.201063  0.139609  0.161020   \n",
       "2021-01-01 04:00:00  0.181079  0.104423  0.104423  0.145047  0.104423   \n",
       "...                       ...       ...       ...       ...       ...   \n",
       "2021-03-31 19:00:00  0.162344  0.116857  0.070699  0.069601  0.189195   \n",
       "2021-03-31 20:00:00  0.219924  0.080906  0.080906  0.080906  0.080906   \n",
       "2021-03-31 21:00:00  0.194661  0.194661  0.071612  0.071612  0.071612   \n",
       "2021-03-31 22:00:00  0.066529  0.093833  0.164047  0.180844  0.180844   \n",
       "2021-03-31 23:00:00  0.215349  0.079222  0.079222  0.215349  0.079222   \n",
       "\n",
       "                         link       ltc       xrp  \n",
       "date                                               \n",
       "2021-01-01 00:00:00  0.125000  0.125000  0.125000  \n",
       "2021-01-01 01:00:00  0.180913  0.180913  0.180913  \n",
       "2021-01-01 02:00:00  0.121681  0.175248  0.141330  \n",
       "2021-01-01 03:00:00  0.099662  0.099662  0.099662  \n",
       "2021-01-01 04:00:00  0.104423  0.124155  0.132029  \n",
       "...                       ...       ...       ...  \n",
       "2021-03-31 19:00:00  0.189195  0.077495  0.124615  \n",
       "2021-03-31 20:00:00  0.219063  0.156485  0.080906  \n",
       "2021-03-31 21:00:00  0.071612  0.129571  0.194661  \n",
       "2021-03-31 22:00:00  0.180844  0.066529  0.066529  \n",
       "2021-03-31 23:00:00  0.123659  0.128754  0.079222  \n",
       "\n",
       "[2160 rows x 8 columns]"
      ],
      "text/html": "<div>\n<style scoped>\n    .dataframe tbody tr th:only-of-type {\n        vertical-align: middle;\n    }\n\n    .dataframe tbody tr th {\n        vertical-align: top;\n    }\n\n    .dataframe thead th {\n        text-align: right;\n    }\n</style>\n<table border=\"1\" class=\"dataframe\">\n  <thead>\n    <tr style=\"text-align: right;\">\n      <th></th>\n      <th>ada</th>\n      <th>bnb</th>\n      <th>btc</th>\n      <th>doge</th>\n      <th>eth</th>\n      <th>link</th>\n      <th>ltc</th>\n      <th>xrp</th>\n    </tr>\n    <tr>\n      <th>date</th>\n      <th></th>\n      <th></th>\n      <th></th>\n      <th></th>\n      <th></th>\n      <th></th>\n      <th></th>\n      <th></th>\n    </tr>\n  </thead>\n  <tbody>\n    <tr>\n      <th>2021-01-01 00:00:00</th>\n      <td>0.125000</td>\n      <td>0.125000</td>\n      <td>0.125000</td>\n      <td>0.125000</td>\n      <td>0.125000</td>\n      <td>0.125000</td>\n      <td>0.125000</td>\n      <td>0.125000</td>\n    </tr>\n    <tr>\n      <th>2021-01-01 01:00:00</th>\n      <td>0.066554</td>\n      <td>0.076688</td>\n      <td>0.180913</td>\n      <td>0.066554</td>\n      <td>0.066554</td>\n      <td>0.180913</td>\n      <td>0.180913</td>\n      <td>0.180913</td>\n    </tr>\n    <tr>\n      <th>2021-01-01 02:00:00</th>\n      <td>0.077391</td>\n      <td>0.130851</td>\n      <td>0.077391</td>\n      <td>0.077391</td>\n      <td>0.198717</td>\n      <td>0.121681</td>\n      <td>0.175248</td>\n      <td>0.141330</td>\n    </tr>\n    <tr>\n      <th>2021-01-01 03:00:00</th>\n      <td>0.099662</td>\n      <td>0.099662</td>\n      <td>0.201063</td>\n      <td>0.139609</td>\n      <td>0.161020</td>\n      <td>0.099662</td>\n      <td>0.099662</td>\n      <td>0.099662</td>\n    </tr>\n    <tr>\n      <th>2021-01-01 04:00:00</th>\n      <td>0.181079</td>\n      <td>0.104423</td>\n      <td>0.104423</td>\n      <td>0.145047</td>\n      <td>0.104423</td>\n      <td>0.104423</td>\n      <td>0.124155</td>\n      <td>0.132029</td>\n    </tr>\n    <tr>\n      <th>...</th>\n      <td>...</td>\n      <td>...</td>\n      <td>...</td>\n      <td>...</td>\n      <td>...</td>\n      <td>...</td>\n      <td>...</td>\n      <td>...</td>\n    </tr>\n    <tr>\n      <th>2021-03-31 19:00:00</th>\n      <td>0.162344</td>\n      <td>0.116857</td>\n      <td>0.070699</td>\n      <td>0.069601</td>\n      <td>0.189195</td>\n      <td>0.189195</td>\n      <td>0.077495</td>\n      <td>0.124615</td>\n    </tr>\n    <tr>\n      <th>2021-03-31 20:00:00</th>\n      <td>0.219924</td>\n      <td>0.080906</td>\n      <td>0.080906</td>\n      <td>0.080906</td>\n      <td>0.080906</td>\n      <td>0.219063</td>\n      <td>0.156485</td>\n      <td>0.080906</td>\n    </tr>\n    <tr>\n      <th>2021-03-31 21:00:00</th>\n      <td>0.194661</td>\n      <td>0.194661</td>\n      <td>0.071612</td>\n      <td>0.071612</td>\n      <td>0.071612</td>\n      <td>0.071612</td>\n      <td>0.129571</td>\n      <td>0.194661</td>\n    </tr>\n    <tr>\n      <th>2021-03-31 22:00:00</th>\n      <td>0.066529</td>\n      <td>0.093833</td>\n      <td>0.164047</td>\n      <td>0.180844</td>\n      <td>0.180844</td>\n      <td>0.180844</td>\n      <td>0.066529</td>\n      <td>0.066529</td>\n    </tr>\n    <tr>\n      <th>2021-03-31 23:00:00</th>\n      <td>0.215349</td>\n      <td>0.079222</td>\n      <td>0.079222</td>\n      <td>0.215349</td>\n      <td>0.079222</td>\n      <td>0.123659</td>\n      <td>0.128754</td>\n      <td>0.079222</td>\n    </tr>\n  </tbody>\n</table>\n<p>2160 rows × 8 columns</p>\n</div>"
     },
     "metadata": {},
     "execution_count": 105
    }
   ],
   "source": [
    "df_actions"
   ]
  },
  {
   "cell_type": "code",
   "execution_count": 113,
   "metadata": {},
   "outputs": [],
   "source": [
    "df_actions.to_csv('df_actions.csv')"
   ]
  },
  {
   "cell_type": "markdown",
   "metadata": {},
   "source": [
    "<a id='6'></a>\n",
    "# Part 7: Backtest"
   ]
  },
  {
   "source": [
    "<a id='6.1'></a>\n",
    "## 7.1 BackTestStats\n",
    "pass in df_account_value, this information is stored in env class\n"
   ],
   "cell_type": "markdown",
   "metadata": {}
  },
  {
   "cell_type": "code",
   "execution_count": 107,
   "metadata": {},
   "outputs": [],
   "source": [
    "# from pyfolio import timeseries\n",
    "# DRL_strat = convert_daily_return_to_pyfolio_ts(df_daily_return)\n",
    "# perf_func = timeseries.perf_stats \n",
    "# perf_stats_all = perf_func( returns=DRL_strat, \n",
    "#                               factor_returns=DRL_strat, \n",
    "#                                 positions=None, transactions=None, turnover_denom=\"AGB\")"
   ]
  },
  {
   "cell_type": "code",
   "execution_count": 108,
   "metadata": {},
   "outputs": [],
   "source": [
    "# print(\"==============DRL Strategy Stats===========\")\n",
    "# perf_stats_all"
   ]
  },
  {
   "source": [
    "<a id='6.2'></a>\n",
    "## 7.2 BackTestPlot"
   ],
   "cell_type": "markdown",
   "metadata": {}
  },
  {
   "cell_type": "code",
   "execution_count": 109,
   "metadata": {},
   "outputs": [],
   "source": [
    "# print(\"==============Compare to IHSG===========\")\r\n",
    "# %matplotlib inline\r\n",
    "# BackTestPlot(df_account_value, \r\n",
    "#              baseline_ticker = '^JKSE', \r\n",
    "#              baseline_start = df_account_value.loc[0,'date'],\r\n",
    "#              baseline_end = df_account_value.loc[len(df_account_value)-1,'date'])"
   ]
  }
 ],
 "metadata": {
  "kernelspec": {
   "name": "tradingrlbot",
   "display_name": "Python 3.8.5 64-bit ('TradingRLBot': conda)"
  },
  "language_info": {
   "codemirror_mode": {
    "name": "ipython",
    "version": 3
   },
   "file_extension": ".py",
   "mimetype": "text/x-python",
   "name": "python",
   "nbconvert_exporter": "python",
   "pygments_lexer": "ipython3",
   "version": "3.8.5"
  }
 },
 "nbformat": 4,
 "nbformat_minor": 4
}