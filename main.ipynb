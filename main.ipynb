{
 "cells": [
  {
   "cell_type": "markdown",
   "metadata": {},
   "source": [
    "<a id='0'></a>\n",
    "# Part 1. Problem Definition"
   ]
  },
  {
   "cell_type": "markdown",
   "metadata": {},
   "source": [
    "This problem is to design an automated trading solution for single stock trading. We model the stock trading process as a Markov Decision Process (MDP). We then formulate our trading goal as a maximization problem.\n",
    "\n",
    "The algorithm is trained using Deep Reinforcement Learning (DRL) algorithms and the components of the reinforcement learning environment are:\n",
    "\n",
    "\n",
    "* Action: \n",
    "* Reward function: \n",
    "* State: \n",
    "* Environment: "
   ]
  },
  {
   "cell_type": "markdown",
   "metadata": {},
   "source": [
    "<a id='1'></a>\n",
    "# Part 2. Getting Started- Load Python Packages"
   ]
  },
  {
   "cell_type": "markdown",
   "metadata": {},
   "source": [
    "<a id='1.1'></a>\n",
    "## 2.1. Install all the packages"
   ]
  },
  {
   "cell_type": "code",
   "execution_count": 37,
   "metadata": {
    "ExecuteTime": {
     "end_time": "2021-06-11T21:23:56.595180Z",
     "start_time": "2021-06-11T21:23:34.568491Z"
    }
   },
   "outputs": [
    {
     "name": "stdout",
     "output_type": "stream",
     "text": [
      "Collecting git+git://github.com/dvdpedros/pyfolio@fix-extreme-drawdown (from -r requirements.txt (line 23))\n",
      "  Cloning git://github.com/dvdpedros/pyfolio (to revision fix-extreme-drawdown) to /tmp/pip-req-build-3mt4v18o\n",
      "  Running command git clone -q git://github.com/dvdpedros/pyfolio /tmp/pip-req-build-3mt4v18o\n",
      "  Running command git checkout -b fix-extreme-drawdown --track origin/fix-extreme-drawdown\n",
      "  Switched to a new branch 'fix-extreme-drawdown'\n",
      "  Branch 'fix-extreme-drawdown' set up to track remote branch 'fix-extreme-drawdown' from 'origin'.\n",
      "Requirement already satisfied: certifi==2020.12.5 in /home/joan/.local/lib/python3.9/site-packages (from -r requirements.txt (line 1)) (2020.12.5)\n",
      "Requirement already satisfied: chardet==4.0.0 in /home/joan/miniconda3/envs/TradingRLBot/lib/python3.9/site-packages (from -r requirements.txt (line 2)) (4.0.0)\n",
      "Requirement already satisfied: idna==2.10 in /home/joan/miniconda3/envs/TradingRLBot/lib/python3.9/site-packages (from -r requirements.txt (line 3)) (2.10)\n",
      "Requirement already satisfied: kaggle==1.5.12 in /home/joan/.local/lib/python3.9/site-packages (from -r requirements.txt (line 4)) (1.5.12)\n",
      "Requirement already satisfied: lxml==4.6.3 in /home/joan/.local/lib/python3.9/site-packages (from -r requirements.txt (line 5)) (4.6.3)\n",
      "Requirement already satisfied: multitasking==0.0.9 in /home/joan/.local/lib/python3.9/site-packages (from -r requirements.txt (line 6)) (0.0.9)\n",
      "Requirement already satisfied: numpy==1.20.2 in /home/joan/.local/lib/python3.9/site-packages (from -r requirements.txt (line 7)) (1.20.2)\n",
      "Requirement already satisfied: pandas==1.2.4 in /home/joan/miniconda3/envs/TradingRLBot/lib/python3.9/site-packages (from -r requirements.txt (line 8)) (1.2.4)\n",
      "Requirement already satisfied: python-dateutil==2.8.1 in /home/joan/miniconda3/envs/TradingRLBot/lib/python3.9/site-packages (from -r requirements.txt (line 9)) (2.8.1)\n",
      "Requirement already satisfied: python-slugify==5.0.2 in /home/joan/.local/lib/python3.9/site-packages (from -r requirements.txt (line 10)) (5.0.2)\n",
      "Requirement already satisfied: pytz==2021.1 in /home/joan/miniconda3/envs/TradingRLBot/lib/python3.9/site-packages (from -r requirements.txt (line 11)) (2021.1)\n",
      "Requirement already satisfied: requests==2.25.1 in /home/joan/miniconda3/envs/TradingRLBot/lib/python3.9/site-packages (from -r requirements.txt (line 12)) (2.25.1)\n",
      "Requirement already satisfied: six==1.16.0 in /home/joan/miniconda3/envs/TradingRLBot/lib/python3.9/site-packages (from -r requirements.txt (line 13)) (1.16.0)\n",
      "Requirement already satisfied: text-unidecode==1.3 in /home/joan/.local/lib/python3.9/site-packages (from -r requirements.txt (line 14)) (1.3)\n",
      "Requirement already satisfied: tqdm==4.60.0 in /home/joan/.local/lib/python3.9/site-packages (from -r requirements.txt (line 15)) (4.60.0)\n",
      "Requirement already satisfied: urllib3==1.26.4 in /home/joan/.local/lib/python3.9/site-packages (from -r requirements.txt (line 16)) (1.26.4)\n",
      "Requirement already satisfied: wget==3.2 in /home/joan/.local/lib/python3.9/site-packages (from -r requirements.txt (line 17)) (3.2)\n",
      "Requirement already satisfied: yfinance==0.1.59 in /home/joan/.local/lib/python3.9/site-packages (from -r requirements.txt (line 18)) (0.1.59)\n",
      "Requirement already satisfied: gym==0.18.3 in /home/joan/.local/lib/python3.9/site-packages (from -r requirements.txt (line 19)) (0.18.3)\n",
      "Requirement already satisfied: matplotlib==3.4.2 in /home/joan/.local/lib/python3.9/site-packages (from -r requirements.txt (line 20)) (3.4.2)\n",
      "Requirement already satisfied: stable-baselines3[extra] in /home/joan/.local/lib/python3.9/site-packages (from -r requirements.txt (line 21)) (1.0)\n",
      "Requirement already satisfied: stockstats==0.3.2 in /home/joan/.local/lib/python3.9/site-packages (from -r requirements.txt (line 22)) (0.3.2)\n",
      "Requirement already satisfied: ta==0.7.0 in /home/joan/.local/lib/python3.9/site-packages (from -r requirements.txt (line 25)) (0.7.0)\n",
      "Requirement already satisfied: empirical==0.2 in /home/joan/.local/lib/python3.9/site-packages (from -r requirements.txt (line 26)) (0.2)\n",
      "Requirement already satisfied: plotly==4.14.3 in /home/joan/.local/lib/python3.9/site-packages (from -r requirements.txt (line 27)) (4.14.3)\n",
      "Requirement already satisfied: ipython>=3.2.3 in /home/joan/miniconda3/envs/TradingRLBot/lib/python3.9/site-packages (from pyfolio==0.9.2+76.g37d9c58->-r requirements.txt (line 23)) (7.24.1)\n",
      "Requirement already satisfied: scipy>=0.14.0 in /home/joan/.local/lib/python3.9/site-packages (from pyfolio==0.9.2+76.g37d9c58->-r requirements.txt (line 23)) (1.6.3)\n",
      "Requirement already satisfied: scikit-learn>=0.16.1 in /home/joan/.local/lib/python3.9/site-packages (from pyfolio==0.9.2+76.g37d9c58->-r requirements.txt (line 23)) (0.24.2)\n",
      "Requirement already satisfied: seaborn>=0.7.1 in /home/joan/.local/lib/python3.9/site-packages (from pyfolio==0.9.2+76.g37d9c58->-r requirements.txt (line 23)) (0.11.1)\n",
      "Requirement already satisfied: empyrical>=0.5.0 in /home/joan/.local/lib/python3.9/site-packages (from pyfolio==0.9.2+76.g37d9c58->-r requirements.txt (line 23)) (0.5.5)\n",
      "Requirement already satisfied: Pillow<=8.2.0 in /home/joan/.local/lib/python3.9/site-packages (from gym==0.18.3->-r requirements.txt (line 19)) (8.2.0)\n",
      "Requirement already satisfied: pyglet<=1.5.15,>=1.4.0 in /home/joan/.local/lib/python3.9/site-packages (from gym==0.18.3->-r requirements.txt (line 19)) (1.5.15)\n",
      "Requirement already satisfied: cloudpickle<1.7.0,>=1.2.0 in /home/joan/.local/lib/python3.9/site-packages (from gym==0.18.3->-r requirements.txt (line 19)) (1.6.0)\n",
      "Requirement already satisfied: pyparsing>=2.2.1 in /home/joan/miniconda3/envs/TradingRLBot/lib/python3.9/site-packages (from matplotlib==3.4.2->-r requirements.txt (line 20)) (2.4.7)\n",
      "Requirement already satisfied: kiwisolver>=1.0.1 in /home/joan/.local/lib/python3.9/site-packages (from matplotlib==3.4.2->-r requirements.txt (line 20)) (1.3.1)\n",
      "Requirement already satisfied: cycler>=0.10 in /home/joan/.local/lib/python3.9/site-packages (from matplotlib==3.4.2->-r requirements.txt (line 20)) (0.10.0)\n",
      "Requirement already satisfied: int-date>=0.1.7 in /home/joan/.local/lib/python3.9/site-packages (from stockstats==0.3.2->-r requirements.txt (line 22)) (0.1.8)\n",
      "Requirement already satisfied: sympy>=0.7.2 in /home/joan/.local/lib/python3.9/site-packages (from empirical==0.2->-r requirements.txt (line 26)) (1.8)\n",
      "Requirement already satisfied: retrying>=1.3.3 in /home/joan/.local/lib/python3.9/site-packages (from plotly==4.14.3->-r requirements.txt (line 27)) (1.3.3)\n",
      "Requirement already satisfied: pandas-datareader>=0.2 in /home/joan/.local/lib/python3.9/site-packages (from empyrical>=0.5.0->pyfolio==0.9.2+76.g37d9c58->-r requirements.txt (line 23)) (0.9.0)\n",
      "Requirement already satisfied: prompt-toolkit!=3.0.0,!=3.0.1,<3.1.0,>=2.0.0 in /home/joan/miniconda3/envs/TradingRLBot/lib/python3.9/site-packages (from ipython>=3.2.3->pyfolio==0.9.2+76.g37d9c58->-r requirements.txt (line 23)) (3.0.18)\n",
      "Requirement already satisfied: setuptools>=18.5 in /home/joan/miniconda3/envs/TradingRLBot/lib/python3.9/site-packages (from ipython>=3.2.3->pyfolio==0.9.2+76.g37d9c58->-r requirements.txt (line 23)) (49.6.0.post20210108)\n",
      "Requirement already satisfied: pygments in /home/joan/miniconda3/envs/TradingRLBot/lib/python3.9/site-packages (from ipython>=3.2.3->pyfolio==0.9.2+76.g37d9c58->-r requirements.txt (line 23)) (2.9.0)\n",
      "Requirement already satisfied: decorator in /home/joan/miniconda3/envs/TradingRLBot/lib/python3.9/site-packages (from ipython>=3.2.3->pyfolio==0.9.2+76.g37d9c58->-r requirements.txt (line 23)) (5.0.9)\n",
      "Requirement already satisfied: matplotlib-inline in /home/joan/miniconda3/envs/TradingRLBot/lib/python3.9/site-packages (from ipython>=3.2.3->pyfolio==0.9.2+76.g37d9c58->-r requirements.txt (line 23)) (0.1.2)\n",
      "Requirement already satisfied: backcall in /home/joan/miniconda3/envs/TradingRLBot/lib/python3.9/site-packages (from ipython>=3.2.3->pyfolio==0.9.2+76.g37d9c58->-r requirements.txt (line 23)) (0.2.0)\n",
      "Requirement already satisfied: pexpect>4.3 in /home/joan/miniconda3/envs/TradingRLBot/lib/python3.9/site-packages (from ipython>=3.2.3->pyfolio==0.9.2+76.g37d9c58->-r requirements.txt (line 23)) (4.8.0)\n",
      "Requirement already satisfied: pickleshare in /home/joan/miniconda3/envs/TradingRLBot/lib/python3.9/site-packages (from ipython>=3.2.3->pyfolio==0.9.2+76.g37d9c58->-r requirements.txt (line 23)) (0.7.5)\n",
      "Requirement already satisfied: jedi>=0.16 in /home/joan/miniconda3/envs/TradingRLBot/lib/python3.9/site-packages (from ipython>=3.2.3->pyfolio==0.9.2+76.g37d9c58->-r requirements.txt (line 23)) (0.18.0)\n",
      "Requirement already satisfied: traitlets>=4.2 in /home/joan/miniconda3/envs/TradingRLBot/lib/python3.9/site-packages (from ipython>=3.2.3->pyfolio==0.9.2+76.g37d9c58->-r requirements.txt (line 23)) (5.0.5)\n",
      "Requirement already satisfied: parso<0.9.0,>=0.8.0 in /home/joan/miniconda3/envs/TradingRLBot/lib/python3.9/site-packages (from jedi>=0.16->ipython>=3.2.3->pyfolio==0.9.2+76.g37d9c58->-r requirements.txt (line 23)) (0.8.2)\n",
      "Requirement already satisfied: ptyprocess>=0.5 in /home/joan/miniconda3/envs/TradingRLBot/lib/python3.9/site-packages (from pexpect>4.3->ipython>=3.2.3->pyfolio==0.9.2+76.g37d9c58->-r requirements.txt (line 23)) (0.7.0)\n",
      "Requirement already satisfied: wcwidth in /home/joan/miniconda3/envs/TradingRLBot/lib/python3.9/site-packages (from prompt-toolkit!=3.0.0,!=3.0.1,<3.1.0,>=2.0.0->ipython>=3.2.3->pyfolio==0.9.2+76.g37d9c58->-r requirements.txt (line 23)) (0.2.5)\n",
      "Requirement already satisfied: joblib>=0.11 in /home/joan/.local/lib/python3.9/site-packages (from scikit-learn>=0.16.1->pyfolio==0.9.2+76.g37d9c58->-r requirements.txt (line 23)) (1.0.1)\n",
      "Requirement already satisfied: threadpoolctl>=2.0.0 in /home/joan/.local/lib/python3.9/site-packages (from scikit-learn>=0.16.1->pyfolio==0.9.2+76.g37d9c58->-r requirements.txt (line 23)) (2.1.0)\n",
      "Requirement already satisfied: mpmath>=0.19 in /home/joan/.local/lib/python3.9/site-packages (from sympy>=0.7.2->empirical==0.2->-r requirements.txt (line 26)) (1.2.1)\n",
      "Requirement already satisfied: ipython-genutils in /home/joan/miniconda3/envs/TradingRLBot/lib/python3.9/site-packages (from traitlets>=4.2->ipython>=3.2.3->pyfolio==0.9.2+76.g37d9c58->-r requirements.txt (line 23)) (0.2.0)\n",
      "Requirement already satisfied: torch>=1.4.0 in /home/joan/.local/lib/python3.9/site-packages (from stable-baselines3[extra]->-r requirements.txt (line 21)) (1.9.0)\n",
      "Requirement already satisfied: tensorboard>=2.2.0 in /home/joan/.local/lib/python3.9/site-packages (from stable-baselines3[extra]->-r requirements.txt (line 21)) (2.5.0)\n",
      "Requirement already satisfied: atari-py~=0.2.0 in /home/joan/.local/lib/python3.9/site-packages (from stable-baselines3[extra]->-r requirements.txt (line 21)) (0.2.9)\n",
      "Requirement already satisfied: opencv-python in /home/joan/.local/lib/python3.9/site-packages (from stable-baselines3[extra]->-r requirements.txt (line 21)) (4.5.2.54)\n",
      "Requirement already satisfied: psutil in /home/joan/.local/lib/python3.9/site-packages (from stable-baselines3[extra]->-r requirements.txt (line 21)) (5.8.0)\n",
      "Requirement already satisfied: tensorboard-plugin-wit>=1.6.0 in /home/joan/.local/lib/python3.9/site-packages (from tensorboard>=2.2.0->stable-baselines3[extra]->-r requirements.txt (line 21)) (1.8.0)\n",
      "Requirement already satisfied: wheel>=0.26 in /home/joan/miniconda3/envs/TradingRLBot/lib/python3.9/site-packages (from tensorboard>=2.2.0->stable-baselines3[extra]->-r requirements.txt (line 21)) (0.36.2)\n",
      "Requirement already satisfied: markdown>=2.6.8 in /home/joan/.local/lib/python3.9/site-packages (from tensorboard>=2.2.0->stable-baselines3[extra]->-r requirements.txt (line 21)) (3.3.4)\n",
      "Requirement already satisfied: absl-py>=0.4 in /home/joan/.local/lib/python3.9/site-packages (from tensorboard>=2.2.0->stable-baselines3[extra]->-r requirements.txt (line 21)) (0.13.0)\n",
      "Requirement already satisfied: tensorboard-data-server<0.7.0,>=0.6.0 in /home/joan/.local/lib/python3.9/site-packages (from tensorboard>=2.2.0->stable-baselines3[extra]->-r requirements.txt (line 21)) (0.6.1)\n",
      "Requirement already satisfied: google-auth-oauthlib<0.5,>=0.4.1 in /home/joan/.local/lib/python3.9/site-packages (from tensorboard>=2.2.0->stable-baselines3[extra]->-r requirements.txt (line 21)) (0.4.4)\n",
      "Requirement already satisfied: google-auth<2,>=1.6.3 in /home/joan/.local/lib/python3.9/site-packages (from tensorboard>=2.2.0->stable-baselines3[extra]->-r requirements.txt (line 21)) (1.31.0)\n",
      "Requirement already satisfied: werkzeug>=0.11.15 in /home/joan/.local/lib/python3.9/site-packages (from tensorboard>=2.2.0->stable-baselines3[extra]->-r requirements.txt (line 21)) (2.0.1)\n",
      "Requirement already satisfied: protobuf>=3.6.0 in /home/joan/.local/lib/python3.9/site-packages (from tensorboard>=2.2.0->stable-baselines3[extra]->-r requirements.txt (line 21)) (3.17.3)\n",
      "Requirement already satisfied: grpcio>=1.24.3 in /home/joan/.local/lib/python3.9/site-packages (from tensorboard>=2.2.0->stable-baselines3[extra]->-r requirements.txt (line 21)) (1.38.0)\n",
      "Requirement already satisfied: cachetools<5.0,>=2.0.0 in /home/joan/.local/lib/python3.9/site-packages (from google-auth<2,>=1.6.3->tensorboard>=2.2.0->stable-baselines3[extra]->-r requirements.txt (line 21)) (4.2.2)\n",
      "Requirement already satisfied: pyasn1-modules>=0.2.1 in /home/joan/.local/lib/python3.9/site-packages (from google-auth<2,>=1.6.3->tensorboard>=2.2.0->stable-baselines3[extra]->-r requirements.txt (line 21)) (0.2.8)\n",
      "Requirement already satisfied: rsa<5,>=3.1.4 in /home/joan/.local/lib/python3.9/site-packages (from google-auth<2,>=1.6.3->tensorboard>=2.2.0->stable-baselines3[extra]->-r requirements.txt (line 21)) (4.7.2)\n",
      "Requirement already satisfied: requests-oauthlib>=0.7.0 in /home/joan/.local/lib/python3.9/site-packages (from google-auth-oauthlib<0.5,>=0.4.1->tensorboard>=2.2.0->stable-baselines3[extra]->-r requirements.txt (line 21)) (1.3.0)\n",
      "Requirement already satisfied: pyasn1<0.5.0,>=0.4.6 in /home/joan/.local/lib/python3.9/site-packages (from pyasn1-modules>=0.2.1->google-auth<2,>=1.6.3->tensorboard>=2.2.0->stable-baselines3[extra]->-r requirements.txt (line 21)) (0.4.8)\n",
      "Requirement already satisfied: oauthlib>=3.0.0 in /home/joan/.local/lib/python3.9/site-packages (from requests-oauthlib>=0.7.0->google-auth-oauthlib<0.5,>=0.4.1->tensorboard>=2.2.0->stable-baselines3[extra]->-r requirements.txt (line 21)) (3.1.1)\n",
      "Requirement already satisfied: typing-extensions in /home/joan/.local/lib/python3.9/site-packages (from torch>=1.4.0->stable-baselines3[extra]->-r requirements.txt (line 21)) (3.10.0.0)\n"
     ]
    }
   ],
   "source": [
    "!pip install -r requirements.txt --user"
   ]
  },
  {
   "cell_type": "markdown",
   "metadata": {},
   "source": [
    "<a id='1.2'></a>\n",
    "## 2.2. Import Packages"
   ]
  },
  {
   "cell_type": "code",
   "execution_count": 38,
   "metadata": {
    "ExecuteTime": {
     "end_time": "2021-07-03T17:18:34.650565Z",
     "start_time": "2021-07-03T17:18:34.532236Z"
    }
   },
   "outputs": [
    {
     "name": "stdout",
     "output_type": "stream",
     "text": [
      "The autoreload extension is already loaded. To reload it, use:\n",
      "  %reload_ext autoreload\n"
     ]
    }
   ],
   "source": [
    "%load_ext autoreload\n",
    "%autoreload \n",
    "import pandas as pd\n",
    "from config import config\n",
    "from dataset.download_dataset.cryptodownloader_binance import CryptoDownloader_binance\n",
    "from preprocessing.preprocessors import FeatureEngineer\n",
    "from preprocessing.data import data_split\n",
    "from env.env_custom import CustomTradingEnv\n",
    "from model.models import DRLAgent\n",
    "from trade.backtest import BackTest\n",
    "import warnings\n",
    "warnings.filterwarnings(\"ignore\")\n"
   ]
  },
  {
   "cell_type": "markdown",
   "metadata": {},
   "source": [
    "<a id='1.3'></a>\n",
    "## 2.3 Create Folders"
   ]
  },
  {
   "cell_type": "code",
   "execution_count": 39,
   "metadata": {
    "ExecuteTime": {
     "end_time": "2021-07-03T17:18:36.453650Z",
     "start_time": "2021-07-03T17:18:36.449371Z"
    }
   },
   "outputs": [],
   "source": [
    "import os\n",
    "download_data = False\n",
    "if not os.path.exists(config.DATA_SAVE_DIR):\n",
    "    os.makedirs(config.DATA_SAVE_DIR)\n",
    "    download_data = True\n",
    "if not os.path.exists(config.TRAINED_MODEL_DIR):\n",
    "    os.makedirs(\"./\" + config.TRAINED_MODEL_DIR)\n",
    "if not os.path.exists(config.TENSORBOARD_LOG_DIR):\n",
    "    os.makedirs(config.TENSORBOARD_LOG_DIR)\n",
    "if not os.path.exists(config.RESULTS_DIR):\n",
    "    os.makedirs(config.RESULTS_DIR)"
   ]
  },
  {
   "cell_type": "markdown",
   "metadata": {},
   "source": [
    "<a id='2'></a>\n",
    "# Part 3. Download Data"
   ]
  },
  {
   "cell_type": "code",
   "execution_count": 40,
   "metadata": {
    "ExecuteTime": {
     "end_time": "2021-07-03T17:18:37.368298Z",
     "start_time": "2021-07-03T17:18:37.291352Z"
    },
    "scrolled": true
   },
   "outputs": [
    {
     "name": "stdout",
     "output_type": "stream",
     "text": [
      "Downloaded https://data.binance.vision/data/spot/monthly/klines/BTCUSDT/1h/BTCUSDT-1h-2020-01.zip\n",
      "Downloaded https://data.binance.vision/data/spot/monthly/klines/ETHUSDT/1h/ETHUSDT-1h-2020-01.zip\n",
      "Downloaded https://data.binance.vision/data/spot/monthly/klines/BNBUSDT/1h/BNBUSDT-1h-2020-01.zip\n",
      "Downloaded https://data.binance.vision/data/spot/monthly/klines/ADAUSDT/1h/ADAUSDT-1h-2020-01.zip\n",
      "Downloaded https://data.binance.vision/data/spot/monthly/klines/XRPUSDT/1h/XRPUSDT-1h-2020-01.zip\n",
      "Downloaded https://data.binance.vision/data/spot/monthly/klines/DOGEUSDT/1h/DOGEUSDT-1h-2020-01.zip\n",
      "Downloaded https://data.binance.vision/data/spot/monthly/klines/LINKUSDT/1h/LINKUSDT-1h-2020-01.zip\n",
      "Downloaded https://data.binance.vision/data/spot/monthly/klines/LTCUSDT/1h/LTCUSDT-1h-2020-01.zip\n",
      "Downloaded https://data.binance.vision/data/spot/monthly/klines/BTCUSDT/1h/BTCUSDT-1h-2020-02.zip\n",
      "Downloaded https://data.binance.vision/data/spot/monthly/klines/ETHUSDT/1h/ETHUSDT-1h-2020-02.zip\n",
      "Downloaded https://data.binance.vision/data/spot/monthly/klines/BNBUSDT/1h/BNBUSDT-1h-2020-02.zip\n",
      "Downloaded https://data.binance.vision/data/spot/monthly/klines/ADAUSDT/1h/ADAUSDT-1h-2020-02.zip\n",
      "Downloaded https://data.binance.vision/data/spot/monthly/klines/XRPUSDT/1h/XRPUSDT-1h-2020-02.zip\n",
      "Downloaded https://data.binance.vision/data/spot/monthly/klines/DOGEUSDT/1h/DOGEUSDT-1h-2020-02.zip\n",
      "Downloaded https://data.binance.vision/data/spot/monthly/klines/LINKUSDT/1h/LINKUSDT-1h-2020-02.zip\n",
      "Downloaded https://data.binance.vision/data/spot/monthly/klines/LTCUSDT/1h/LTCUSDT-1h-2020-02.zip\n",
      "Downloaded https://data.binance.vision/data/spot/monthly/klines/BTCUSDT/1h/BTCUSDT-1h-2020-03.zip\n",
      "Downloaded https://data.binance.vision/data/spot/monthly/klines/ETHUSDT/1h/ETHUSDT-1h-2020-03.zip\n",
      "Downloaded https://data.binance.vision/data/spot/monthly/klines/BNBUSDT/1h/BNBUSDT-1h-2020-03.zip\n",
      "Downloaded https://data.binance.vision/data/spot/monthly/klines/ADAUSDT/1h/ADAUSDT-1h-2020-03.zip\n",
      "Downloaded https://data.binance.vision/data/spot/monthly/klines/XRPUSDT/1h/XRPUSDT-1h-2020-03.zip\n",
      "Downloaded https://data.binance.vision/data/spot/monthly/klines/DOGEUSDT/1h/DOGEUSDT-1h-2020-03.zip\n",
      "Downloaded https://data.binance.vision/data/spot/monthly/klines/LINKUSDT/1h/LINKUSDT-1h-2020-03.zip\n",
      "Downloaded https://data.binance.vision/data/spot/monthly/klines/LTCUSDT/1h/LTCUSDT-1h-2020-03.zip\n",
      "Downloaded https://data.binance.vision/data/spot/monthly/klines/BTCUSDT/1h/BTCUSDT-1h-2020-04.zip\n",
      "Downloaded https://data.binance.vision/data/spot/monthly/klines/ETHUSDT/1h/ETHUSDT-1h-2020-04.zip\n",
      "Downloaded https://data.binance.vision/data/spot/monthly/klines/BNBUSDT/1h/BNBUSDT-1h-2020-04.zip\n",
      "Downloaded https://data.binance.vision/data/spot/monthly/klines/ADAUSDT/1h/ADAUSDT-1h-2020-04.zip\n",
      "Downloaded https://data.binance.vision/data/spot/monthly/klines/XRPUSDT/1h/XRPUSDT-1h-2020-04.zip\n",
      "Downloaded https://data.binance.vision/data/spot/monthly/klines/DOGEUSDT/1h/DOGEUSDT-1h-2020-04.zip\n",
      "Downloaded https://data.binance.vision/data/spot/monthly/klines/LINKUSDT/1h/LINKUSDT-1h-2020-04.zip\n",
      "Downloaded https://data.binance.vision/data/spot/monthly/klines/LTCUSDT/1h/LTCUSDT-1h-2020-04.zip\n",
      "Downloaded https://data.binance.vision/data/spot/monthly/klines/BTCUSDT/1h/BTCUSDT-1h-2020-05.zip\n",
      "Downloaded https://data.binance.vision/data/spot/monthly/klines/ETHUSDT/1h/ETHUSDT-1h-2020-05.zip\n",
      "Downloaded https://data.binance.vision/data/spot/monthly/klines/BNBUSDT/1h/BNBUSDT-1h-2020-05.zip\n",
      "Downloaded https://data.binance.vision/data/spot/monthly/klines/ADAUSDT/1h/ADAUSDT-1h-2020-05.zip\n",
      "Downloaded https://data.binance.vision/data/spot/monthly/klines/XRPUSDT/1h/XRPUSDT-1h-2020-05.zip\n",
      "Downloaded https://data.binance.vision/data/spot/monthly/klines/DOGEUSDT/1h/DOGEUSDT-1h-2020-05.zip\n",
      "Downloaded https://data.binance.vision/data/spot/monthly/klines/LINKUSDT/1h/LINKUSDT-1h-2020-05.zip\n",
      "Downloaded https://data.binance.vision/data/spot/monthly/klines/LTCUSDT/1h/LTCUSDT-1h-2020-05.zip\n",
      "Downloaded https://data.binance.vision/data/spot/monthly/klines/BTCUSDT/1h/BTCUSDT-1h-2020-06.zip\n",
      "Downloaded https://data.binance.vision/data/spot/monthly/klines/ETHUSDT/1h/ETHUSDT-1h-2020-06.zip\n",
      "Downloaded https://data.binance.vision/data/spot/monthly/klines/BNBUSDT/1h/BNBUSDT-1h-2020-06.zip\n",
      "Downloaded https://data.binance.vision/data/spot/monthly/klines/ADAUSDT/1h/ADAUSDT-1h-2020-06.zip\n",
      "Downloaded https://data.binance.vision/data/spot/monthly/klines/XRPUSDT/1h/XRPUSDT-1h-2020-06.zip\n",
      "Downloaded https://data.binance.vision/data/spot/monthly/klines/DOGEUSDT/1h/DOGEUSDT-1h-2020-06.zip\n",
      "Downloaded https://data.binance.vision/data/spot/monthly/klines/LINKUSDT/1h/LINKUSDT-1h-2020-06.zip\n",
      "Downloaded https://data.binance.vision/data/spot/monthly/klines/LTCUSDT/1h/LTCUSDT-1h-2020-06.zip\n",
      "Downloaded https://data.binance.vision/data/spot/monthly/klines/BTCUSDT/1h/BTCUSDT-1h-2020-07.zip\n",
      "Downloaded https://data.binance.vision/data/spot/monthly/klines/ETHUSDT/1h/ETHUSDT-1h-2020-07.zip\n",
      "Downloaded https://data.binance.vision/data/spot/monthly/klines/BNBUSDT/1h/BNBUSDT-1h-2020-07.zip\n",
      "Downloaded https://data.binance.vision/data/spot/monthly/klines/ADAUSDT/1h/ADAUSDT-1h-2020-07.zip\n",
      "Downloaded https://data.binance.vision/data/spot/monthly/klines/XRPUSDT/1h/XRPUSDT-1h-2020-07.zip\n",
      "Downloaded https://data.binance.vision/data/spot/monthly/klines/DOGEUSDT/1h/DOGEUSDT-1h-2020-07.zip\n",
      "Downloaded https://data.binance.vision/data/spot/monthly/klines/LINKUSDT/1h/LINKUSDT-1h-2020-07.zip\n",
      "Downloaded https://data.binance.vision/data/spot/monthly/klines/LTCUSDT/1h/LTCUSDT-1h-2020-07.zip\n",
      "Downloaded https://data.binance.vision/data/spot/monthly/klines/BTCUSDT/1h/BTCUSDT-1h-2020-08.zip\n",
      "Downloaded https://data.binance.vision/data/spot/monthly/klines/ETHUSDT/1h/ETHUSDT-1h-2020-08.zip\n",
      "Downloaded https://data.binance.vision/data/spot/monthly/klines/BNBUSDT/1h/BNBUSDT-1h-2020-08.zip\n",
      "Downloaded https://data.binance.vision/data/spot/monthly/klines/ADAUSDT/1h/ADAUSDT-1h-2020-08.zip\n",
      "Downloaded https://data.binance.vision/data/spot/monthly/klines/XRPUSDT/1h/XRPUSDT-1h-2020-08.zip\n",
      "Downloaded https://data.binance.vision/data/spot/monthly/klines/DOGEUSDT/1h/DOGEUSDT-1h-2020-08.zip\n",
      "Downloaded https://data.binance.vision/data/spot/monthly/klines/LINKUSDT/1h/LINKUSDT-1h-2020-08.zip\n",
      "Downloaded https://data.binance.vision/data/spot/monthly/klines/LTCUSDT/1h/LTCUSDT-1h-2020-08.zip\n",
      "Downloaded https://data.binance.vision/data/spot/monthly/klines/BTCUSDT/1h/BTCUSDT-1h-2020-09.zip\n",
      "Downloaded https://data.binance.vision/data/spot/monthly/klines/ETHUSDT/1h/ETHUSDT-1h-2020-09.zip\n",
      "Downloaded https://data.binance.vision/data/spot/monthly/klines/BNBUSDT/1h/BNBUSDT-1h-2020-09.zip\n",
      "Downloaded https://data.binance.vision/data/spot/monthly/klines/ADAUSDT/1h/ADAUSDT-1h-2020-09.zip\n",
      "Downloaded https://data.binance.vision/data/spot/monthly/klines/XRPUSDT/1h/XRPUSDT-1h-2020-09.zip\n",
      "Downloaded https://data.binance.vision/data/spot/monthly/klines/DOGEUSDT/1h/DOGEUSDT-1h-2020-09.zip\n",
      "Downloaded https://data.binance.vision/data/spot/monthly/klines/LINKUSDT/1h/LINKUSDT-1h-2020-09.zip\n",
      "Downloaded https://data.binance.vision/data/spot/monthly/klines/LTCUSDT/1h/LTCUSDT-1h-2020-09.zip\n",
      "Downloaded https://data.binance.vision/data/spot/monthly/klines/BTCUSDT/1h/BTCUSDT-1h-2020-10.zip\n",
      "Downloaded https://data.binance.vision/data/spot/monthly/klines/ETHUSDT/1h/ETHUSDT-1h-2020-10.zip\n",
      "Downloaded https://data.binance.vision/data/spot/monthly/klines/BNBUSDT/1h/BNBUSDT-1h-2020-10.zip\n",
      "Downloaded https://data.binance.vision/data/spot/monthly/klines/ADAUSDT/1h/ADAUSDT-1h-2020-10.zip\n",
      "Downloaded https://data.binance.vision/data/spot/monthly/klines/XRPUSDT/1h/XRPUSDT-1h-2020-10.zip\n",
      "Downloaded https://data.binance.vision/data/spot/monthly/klines/DOGEUSDT/1h/DOGEUSDT-1h-2020-10.zip\n",
      "Downloaded https://data.binance.vision/data/spot/monthly/klines/LINKUSDT/1h/LINKUSDT-1h-2020-10.zip\n",
      "Downloaded https://data.binance.vision/data/spot/monthly/klines/LTCUSDT/1h/LTCUSDT-1h-2020-10.zip\n",
      "Downloaded https://data.binance.vision/data/spot/monthly/klines/BTCUSDT/1h/BTCUSDT-1h-2020-11.zip\n",
      "Downloaded https://data.binance.vision/data/spot/monthly/klines/ETHUSDT/1h/ETHUSDT-1h-2020-11.zip\n",
      "Downloaded https://data.binance.vision/data/spot/monthly/klines/BNBUSDT/1h/BNBUSDT-1h-2020-11.zip\n",
      "Downloaded https://data.binance.vision/data/spot/monthly/klines/ADAUSDT/1h/ADAUSDT-1h-2020-11.zip\n",
      "Downloaded https://data.binance.vision/data/spot/monthly/klines/XRPUSDT/1h/XRPUSDT-1h-2020-11.zip\n",
      "Downloaded https://data.binance.vision/data/spot/monthly/klines/DOGEUSDT/1h/DOGEUSDT-1h-2020-11.zip\n",
      "Downloaded https://data.binance.vision/data/spot/monthly/klines/LINKUSDT/1h/LINKUSDT-1h-2020-11.zip\n",
      "Downloaded https://data.binance.vision/data/spot/monthly/klines/LTCUSDT/1h/LTCUSDT-1h-2020-11.zip\n",
      "Downloaded https://data.binance.vision/data/spot/monthly/klines/BTCUSDT/1h/BTCUSDT-1h-2020-12.zip\n",
      "Downloaded https://data.binance.vision/data/spot/monthly/klines/ETHUSDT/1h/ETHUSDT-1h-2020-12.zip\n",
      "Downloaded https://data.binance.vision/data/spot/monthly/klines/BNBUSDT/1h/BNBUSDT-1h-2020-12.zip\n",
      "Downloaded https://data.binance.vision/data/spot/monthly/klines/ADAUSDT/1h/ADAUSDT-1h-2020-12.zip\n",
      "Downloaded https://data.binance.vision/data/spot/monthly/klines/XRPUSDT/1h/XRPUSDT-1h-2020-12.zip\n",
      "Downloaded https://data.binance.vision/data/spot/monthly/klines/DOGEUSDT/1h/DOGEUSDT-1h-2020-12.zip\n",
      "Downloaded https://data.binance.vision/data/spot/monthly/klines/LINKUSDT/1h/LINKUSDT-1h-2020-12.zip\n",
      "Downloaded https://data.binance.vision/data/spot/monthly/klines/LTCUSDT/1h/LTCUSDT-1h-2020-12.zip\n",
      "Downloaded https://data.binance.vision/data/spot/monthly/klines/BTCUSDT/1h/BTCUSDT-1h-2021-01.zip\n",
      "Downloaded https://data.binance.vision/data/spot/monthly/klines/ETHUSDT/1h/ETHUSDT-1h-2021-01.zip\n",
      "Downloaded https://data.binance.vision/data/spot/monthly/klines/BNBUSDT/1h/BNBUSDT-1h-2021-01.zip\n",
      "Downloaded https://data.binance.vision/data/spot/monthly/klines/ADAUSDT/1h/ADAUSDT-1h-2021-01.zip\n",
      "Downloaded https://data.binance.vision/data/spot/monthly/klines/XRPUSDT/1h/XRPUSDT-1h-2021-01.zip\n",
      "Downloaded https://data.binance.vision/data/spot/monthly/klines/DOGEUSDT/1h/DOGEUSDT-1h-2021-01.zip\n",
      "Downloaded https://data.binance.vision/data/spot/monthly/klines/LINKUSDT/1h/LINKUSDT-1h-2021-01.zip\n",
      "Downloaded https://data.binance.vision/data/spot/monthly/klines/LTCUSDT/1h/LTCUSDT-1h-2021-01.zip\n",
      "Downloaded https://data.binance.vision/data/spot/monthly/klines/BTCUSDT/1h/BTCUSDT-1h-2021-02.zip\n",
      "Downloaded https://data.binance.vision/data/spot/monthly/klines/ETHUSDT/1h/ETHUSDT-1h-2021-02.zip\n",
      "Downloaded https://data.binance.vision/data/spot/monthly/klines/BNBUSDT/1h/BNBUSDT-1h-2021-02.zip\n",
      "Downloaded https://data.binance.vision/data/spot/monthly/klines/ADAUSDT/1h/ADAUSDT-1h-2021-02.zip\n",
      "Downloaded https://data.binance.vision/data/spot/monthly/klines/XRPUSDT/1h/XRPUSDT-1h-2021-02.zip\n",
      "Downloaded https://data.binance.vision/data/spot/monthly/klines/DOGEUSDT/1h/DOGEUSDT-1h-2021-02.zip\n",
      "Downloaded https://data.binance.vision/data/spot/monthly/klines/LINKUSDT/1h/LINKUSDT-1h-2021-02.zip\n",
      "Downloaded https://data.binance.vision/data/spot/monthly/klines/LTCUSDT/1h/LTCUSDT-1h-2021-02.zip\n",
      "Downloaded https://data.binance.vision/data/spot/monthly/klines/BTCUSDT/1h/BTCUSDT-1h-2021-03.zip\n",
      "Downloaded https://data.binance.vision/data/spot/monthly/klines/ETHUSDT/1h/ETHUSDT-1h-2021-03.zip\n",
      "Downloaded https://data.binance.vision/data/spot/monthly/klines/BNBUSDT/1h/BNBUSDT-1h-2021-03.zip\n",
      "Downloaded https://data.binance.vision/data/spot/monthly/klines/ADAUSDT/1h/ADAUSDT-1h-2021-03.zip\n",
      "Downloaded https://data.binance.vision/data/spot/monthly/klines/XRPUSDT/1h/XRPUSDT-1h-2021-03.zip\n",
      "Downloaded https://data.binance.vision/data/spot/monthly/klines/DOGEUSDT/1h/DOGEUSDT-1h-2021-03.zip\n",
      "Downloaded https://data.binance.vision/data/spot/monthly/klines/LINKUSDT/1h/LINKUSDT-1h-2021-03.zip\n",
      "Downloaded https://data.binance.vision/data/spot/monthly/klines/LTCUSDT/1h/LTCUSDT-1h-2021-03.zip\n",
      "Downloaded https://data.binance.vision/data/spot/monthly/klines/BTCUSDT/1h/BTCUSDT-1h-2021-04.zip\n",
      "Downloaded https://data.binance.vision/data/spot/monthly/klines/ETHUSDT/1h/ETHUSDT-1h-2021-04.zip\n",
      "Downloaded https://data.binance.vision/data/spot/monthly/klines/BNBUSDT/1h/BNBUSDT-1h-2021-04.zip\n",
      "Downloaded https://data.binance.vision/data/spot/monthly/klines/ADAUSDT/1h/ADAUSDT-1h-2021-04.zip\n",
      "Downloaded https://data.binance.vision/data/spot/monthly/klines/XRPUSDT/1h/XRPUSDT-1h-2021-04.zip\n",
      "Downloaded https://data.binance.vision/data/spot/monthly/klines/DOGEUSDT/1h/DOGEUSDT-1h-2021-04.zip\n",
      "Downloaded https://data.binance.vision/data/spot/monthly/klines/LINKUSDT/1h/LINKUSDT-1h-2021-04.zip\n",
      "Downloaded https://data.binance.vision/data/spot/monthly/klines/LTCUSDT/1h/LTCUSDT-1h-2021-04.zip\n",
      "Downloaded https://data.binance.vision/data/spot/monthly/klines/BTCUSDT/1h/BTCUSDT-1h-2021-05.zip\n",
      "Downloaded https://data.binance.vision/data/spot/monthly/klines/ETHUSDT/1h/ETHUSDT-1h-2021-05.zip\n",
      "Downloaded https://data.binance.vision/data/spot/monthly/klines/BNBUSDT/1h/BNBUSDT-1h-2021-05.zip\n",
      "Downloaded https://data.binance.vision/data/spot/monthly/klines/ADAUSDT/1h/ADAUSDT-1h-2021-05.zip\n",
      "Downloaded https://data.binance.vision/data/spot/monthly/klines/XRPUSDT/1h/XRPUSDT-1h-2021-05.zip\n",
      "Downloaded https://data.binance.vision/data/spot/monthly/klines/DOGEUSDT/1h/DOGEUSDT-1h-2021-05.zip\n",
      "Downloaded https://data.binance.vision/data/spot/monthly/klines/LINKUSDT/1h/LINKUSDT-1h-2021-05.zip\n",
      "Downloaded https://data.binance.vision/data/spot/monthly/klines/LTCUSDT/1h/LTCUSDT-1h-2021-05.zip\n",
      "Downloaded https://data.binance.vision/data/spot/monthly/klines/BTCUSDT/1h/BTCUSDT-1h-2021-06.zip\n",
      "Downloaded https://data.binance.vision/data/spot/monthly/klines/ETHUSDT/1h/ETHUSDT-1h-2021-06.zip\n",
      "Downloaded https://data.binance.vision/data/spot/monthly/klines/BNBUSDT/1h/BNBUSDT-1h-2021-06.zip\n",
      "Downloaded https://data.binance.vision/data/spot/monthly/klines/ADAUSDT/1h/ADAUSDT-1h-2021-06.zip\n",
      "Downloaded https://data.binance.vision/data/spot/monthly/klines/XRPUSDT/1h/XRPUSDT-1h-2021-06.zip\n",
      "Downloaded https://data.binance.vision/data/spot/monthly/klines/DOGEUSDT/1h/DOGEUSDT-1h-2021-06.zip\n",
      "Downloaded https://data.binance.vision/data/spot/monthly/klines/LINKUSDT/1h/LINKUSDT-1h-2021-06.zip\n",
      "Downloaded https://data.binance.vision/data/spot/monthly/klines/LTCUSDT/1h/LTCUSDT-1h-2021-06.zip\n"
     ]
    }
   ],
   "source": [
    "data_downloader = CryptoDownloader_binance(config.START_DATE, config.END_DATE, config.MULTIPLE_TICKER_8, config.DATA_SAVE_DIR, config.DATA_GRANULARITY)\n",
    "if download_data:    \n",
    "    data_downloader.download_data()\n",
    "df = data_downloader.load()"
   ]
  },
  {
   "cell_type": "markdown",
   "metadata": {},
   "source": [
    "# Part 4: Preprocess Data"
   ]
  },
  {
   "cell_type": "code",
   "execution_count": 41,
   "metadata": {
    "ExecuteTime": {
     "end_time": "2021-07-03T17:19:15.543621Z",
     "start_time": "2021-07-03T17:18:39.594168Z"
    }
   },
   "outputs": [
    {
     "name": "stdout",
     "output_type": "stream",
     "text": [
      "Successfully added technical indicators\n",
      "Successfully added user defined features\n"
     ]
    }
   ],
   "source": [
    "fe = FeatureEngineer(\n",
    "                    use_technical_indicator=True,\n",
    "                    use_turbulence=False,\n",
    "                    user_defined_feature = True)\n",
    "\n",
    "df = fe.preprocess_data(df)"
   ]
  },
  {
   "cell_type": "code",
   "execution_count": 42,
   "metadata": {},
   "outputs": [],
   "source": [
    "df.to_pickle(config.DATA_SAVE_DIR+\"/preprocess_df.pkl\")"
   ]
  },
  {
   "cell_type": "markdown",
   "metadata": {},
   "source": [
    "<a id='4'></a>\n",
    "# Part 5. Design Environment\n",
    "Considering the stochastic and interactive nature of the automated stock trading tasks, a financial task is modeled as a **Markov Decision Process (MDP)** problem. The training process involves observing stock price change, taking an action and reward's calculation to have the agent adjusting its strategy accordingly. By interacting with the environment, the trading agent will derive a trading strategy with the maximized rewards as time proceeds.\n",
    "\n",
    "Our trading environments, based on OpenAI Gym framework, simulate live stock markets with real market data according to the principle of time-driven simulation.\n",
    "\n",
    "The action space describes the allowed actions that the agent interacts with the environment. Normally, action a includes three actions: {-1, 0, 1}, where -1, 0, 1 represent selling, holding, and buying one share. Also, an action can be carried upon multiple shares. We use an action space {-k,…,-1, 0, 1, …, k}, where k denotes the number of shares to buy and -k denotes the number of shares to sell. For example, \"Buy 10 shares of AAPL\" or \"Sell 10 shares of AAPL\" are 10 or -10, respectively. The continuous action space needs to be normalized to [-1, 1], since the policy is defined on a Gaussian distribution, which needs to be normalized and symmetric."
   ]
  },
  {
   "cell_type": "markdown",
   "metadata": {},
   "source": [
    "## Training data split: 2020-01-01 to 2020-12-31"
   ]
  },
  {
   "cell_type": "code",
   "execution_count": null,
   "metadata": {
    "ExecuteTime": {
     "end_time": "2021-07-03T17:12:49.751219Z",
     "start_time": "2021-07-03T17:12:36.800Z"
    }
   },
   "outputs": [],
   "source": [
    "train = data_split(df, '2020-02-02','2020-12-31')"
   ]
  },
  {
   "cell_type": "markdown",
   "metadata": {},
   "source": [
    "## Environment for Portfolio Allocation\n"
   ]
  },
  {
   "cell_type": "code",
   "execution_count": null,
   "metadata": {
    "ExecuteTime": {
     "end_time": "2021-07-03T17:12:49.752357Z",
     "start_time": "2021-07-03T17:12:37.427Z"
    }
   },
   "outputs": [],
   "source": [
    "stock_dimension = len(train.tic.unique())\n",
    "state_space = stock_dimension\n",
    "print(f\"Stock Dimension: {stock_dimension}, State Space: {state_space}\")\n",
    "features = config.TECHNICAL_INDICATORS_LIST + [\"open\", \"close\", 'high', 'low']\n",
    "features += [f\"{feature}_diff\" for feature in features]\n",
    "features += [feature for feature in df.columns if feature.startswith(\"cov_\")]\n",
    "\n",
    "env_kwargs = {\n",
    "    \"initial_amount\": 1000000, \n",
    "    \"technical_indicator_list\": features, \n",
    "    \"max_assets_amount_per_trade\": 100, \n",
    "    \"main_tickers\": train.tic.unique(),\n",
    "    \"all_tickers\": train.tic.unique(),\n",
    "    \"reward_scaling\": 1e-4,\n",
    "    \"comission_value\": 0.01\n",
    "    \n",
    "}\n",
    "\n",
    "e_train_gym = CustomTradingEnv(df = train, **env_kwargs)\n",
    "\n",
    "env_train, _ = e_train_gym.get_sb_env()"
   ]
  },
  {
   "cell_type": "markdown",
   "metadata": {},
   "source": [
    "<a id='5'></a>\n",
    "# Part 6: Implement DRL Algorithms"
   ]
  },
  {
   "cell_type": "code",
   "execution_count": null,
   "metadata": {
    "ExecuteTime": {
     "end_time": "2021-06-30T18:42:06.453956Z",
     "start_time": "2021-06-30T18:42:06.451687Z"
    }
   },
   "outputs": [],
   "source": [
    "# initialize\n",
    "agent = DRLAgent(env = env_train)"
   ]
  },
  {
   "cell_type": "markdown",
   "metadata": {},
   "source": [
    "### Model 1: **A2C**\n"
   ]
  },
  {
   "cell_type": "code",
   "execution_count": null,
   "metadata": {
    "ExecuteTime": {
     "end_time": "2021-06-30T18:42:06.466966Z",
     "start_time": "2021-06-30T18:42:06.455515Z"
    }
   },
   "outputs": [],
   "source": [
    "A2C_PARAMS = {\"n_steps\": 5, \"ent_coef\": 0.005, \"learning_rate\": 0.0002}\n",
    "model_a2c = agent.get_model(model_name=\"a2c\",model_kwargs = A2C_PARAMS, tensorboard_log = config.TENSORBOARD_LOG_DIR)"
   ]
  },
  {
   "cell_type": "code",
   "execution_count": null,
   "metadata": {
    "ExecuteTime": {
     "end_time": "2021-06-30T18:44:40.372701Z",
     "start_time": "2021-06-30T18:42:06.468447Z"
    },
    "tags": [
     "outputPrepend"
    ]
   },
   "outputs": [],
   "source": [
    "trained_a2c = agent.train_model(model=model_a2c, \n",
    "                                tb_log_name='a2c',\n",
    "                                total_timesteps=10000)"
   ]
  },
  {
   "cell_type": "markdown",
   "metadata": {},
   "source": [
    "### Model 2: **PPO**"
   ]
  },
  {
   "cell_type": "code",
   "execution_count": null,
   "metadata": {
    "ExecuteTime": {
     "end_time": "2021-06-30T18:44:40.376883Z",
     "start_time": "2021-06-30T18:44:40.374675Z"
    }
   },
   "outputs": [],
   "source": [
    "# agent = DRLAgent(env = env_train)\n",
    "# PPO_PARAMS = {\n",
    "#     \"n_steps\": 2048,\n",
    "#     \"ent_coef\": 0.005,\n",
    "#     \"learning_rate\": 0.0001,\n",
    "#     \"batch_size\": 128,\n",
    "# }\n",
    "# model_ppo = agent.get_model(\"ppo\",model_kwargs = PPO_PARAMS)"
   ]
  },
  {
   "cell_type": "code",
   "execution_count": null,
   "metadata": {
    "ExecuteTime": {
     "end_time": "2021-06-30T18:44:40.383048Z",
     "start_time": "2021-06-30T18:44:40.381004Z"
    }
   },
   "outputs": [],
   "source": [
    "# trained_ppo = agent.train_model(model=model_ppo, \n",
    "#                              tb_log_name='ppo',\n",
    "#                              total_timesteps=80000)"
   ]
  },
  {
   "cell_type": "markdown",
   "metadata": {},
   "source": [
    "## Trading\n",
    "Assume that we have $1,000,000 initial capital at 2021-01-01."
   ]
  },
  {
   "cell_type": "code",
   "execution_count": null,
   "metadata": {
    "ExecuteTime": {
     "end_time": "2021-06-30T18:44:40.413188Z",
     "start_time": "2021-06-30T18:44:40.385087Z"
    }
   },
   "outputs": [],
   "source": [
    "trade = data_split(df,config.START_TEST_DATE, config.END_DATE)\n",
    "e_trade_gym = CustomTradingEnv(df = trade, **env_kwargs)"
   ]
  },
  {
   "cell_type": "code",
   "execution_count": null,
   "metadata": {
    "ExecuteTime": {
     "end_time": "2021-06-30T18:44:40.418356Z",
     "start_time": "2021-06-30T18:44:40.414894Z"
    }
   },
   "outputs": [],
   "source": [
    "trade.shape"
   ]
  },
  {
   "cell_type": "code",
   "execution_count": null,
   "metadata": {
    "ExecuteTime": {
     "end_time": "2021-06-30T18:44:40.447522Z",
     "start_time": "2021-06-30T18:44:40.419972Z"
    }
   },
   "outputs": [],
   "source": [
    "trade"
   ]
  },
  {
   "cell_type": "code",
   "execution_count": null,
   "metadata": {
    "ExecuteTime": {
     "end_time": "2021-06-30T18:45:11.104474Z",
     "start_time": "2021-06-30T18:44:40.448932Z"
    }
   },
   "outputs": [],
   "source": [
    "allocations, transactions, allocation_values = DRLAgent.DRL_prediction(model=trained_a2c,\n",
    "                        environment = e_trade_gym)"
   ]
  },
  {
   "cell_type": "code",
   "execution_count": null,
   "metadata": {
    "ExecuteTime": {
     "end_time": "2021-06-30T18:45:11.121560Z",
     "start_time": "2021-06-30T18:45:11.106805Z"
    }
   },
   "outputs": [],
   "source": [
    "allocations"
   ]
  },
  {
   "cell_type": "code",
   "execution_count": null,
   "metadata": {
    "ExecuteTime": {
     "end_time": "2021-06-30T18:45:11.135772Z",
     "start_time": "2021-06-30T18:45:11.123434Z"
    }
   },
   "outputs": [],
   "source": [
    "transactions"
   ]
  },
  {
   "cell_type": "code",
   "execution_count": null,
   "metadata": {
    "ExecuteTime": {
     "end_time": "2021-06-30T18:45:11.151904Z",
     "start_time": "2021-06-30T18:45:11.137938Z"
    }
   },
   "outputs": [],
   "source": [
    "allocation_values"
   ]
  },
  {
   "cell_type": "markdown",
   "metadata": {},
   "source": [
    "<a id='6'></a>\n",
    "# Part 7: Backtest"
   ]
  },
  {
   "cell_type": "code",
   "execution_count": null,
   "metadata": {
    "ExecuteTime": {
     "end_time": "2021-06-30T18:45:14.609073Z",
     "start_time": "2021-06-30T18:45:11.153409Z"
    }
   },
   "outputs": [],
   "source": [
    "%load_ext autoreload\n",
    "%autoreload \n",
    "bat = BackTest(trained_a2c, e_trade_gym)\n",
    "bat.create_summary(allocations, allocation_values, transactions)"
   ]
  },
  {
   "cell_type": "code",
   "execution_count": null,
   "metadata": {
    "ExecuteTime": {
     "end_time": "2021-06-30T18:45:15.023292Z",
     "start_time": "2021-06-30T18:45:14.610499Z"
    }
   },
   "outputs": [],
   "source": [
    "bat.plot_return_against_hold(allocation_values)"
   ]
  },
  {
   "cell_type": "code",
   "execution_count": null,
   "metadata": {
    "ExecuteTime": {
     "end_time": "2021-06-30T18:49:24.613729Z",
     "start_time": "2021-06-30T18:46:52.820624Z"
    }
   },
   "outputs": [],
   "source": [
    "%load_ext autoreload\n",
    "%autoreload \n",
    "from trade.time_series_validation import TimeSeriesValidation\n",
    "tsv = TimeSeriesValidation(num_splits=5, total_timesteps_model=1000, with_graphs=False)\n",
    "\n",
    "model_name = \"a2c\"\n",
    "model_params = {\"n_steps\": 5, \"ent_coef\": 0.005, \"learning_rate\": 0.0002}\n",
    "\n",
    "stock_dimension = len(df.tic.unique())\n",
    "state_space = stock_dimension\n",
    "features = config.TECHNICAL_INDICATORS_LIST + [\"open\", \"close\", 'high', 'low']\n",
    "features += [f\"{feature}_diff\" for feature in features]\n",
    "features += [feature for feature in df.columns if feature.startswith(\"cov_\")]\n",
    "\n",
    "env_params = {\n",
    "    \"initial_amount\": 1000000, \n",
    "    \"technical_indicator_list\": features, \n",
    "    \"max_assets_amount_per_trade\": 100, \n",
    "    \"main_tickers\": df.tic.unique(),\n",
    "    \"all_tickers\": df.tic.unique(),\n",
    "    \"reward_scaling\": 1e-4,\n",
    "    \"comission_value\": 0.01\n",
    "    \n",
    "}\n",
    "\n",
    "\n",
    "results = tsv.run(df, env_params, model_name, model_params)"
   ]
  },
  {
   "cell_type": "code",
   "execution_count": null,
   "metadata": {
    "ExecuteTime": {
     "end_time": "2021-06-27T15:54:26.450453Z",
     "start_time": "2021-06-27T15:54:26.446060Z"
    }
   },
   "outputs": [],
   "source": [
    "results"
   ]
  }
 ],
 "metadata": {
  "interpreter": {
   "hash": "0b9756390c5f4d66a4da61aa8031b3444172eaaeb19510c727dc3b143db836ba"
  },
  "kernelspec": {
   "display_name": "Python 3.9.4 64-bit ('TradingRLBot': conda)",
   "name": "python3"
  },
  "language_info": {
   "codemirror_mode": {
    "name": "ipython",
    "version": 3
   },
   "file_extension": ".py",
   "mimetype": "text/x-python",
   "name": "python",
   "nbconvert_exporter": "python",
   "pygments_lexer": "ipython3",
   "version": "3.9.4"
  },
  "toc": {
   "base_numbering": 1,
   "nav_menu": {},
   "number_sections": true,
   "sideBar": true,
   "skip_h1_title": false,
   "title_cell": "Table of Contents",
   "title_sidebar": "Contents",
   "toc_cell": false,
   "toc_position": {},
   "toc_section_display": true,
   "toc_window_display": false
  }
 },
 "nbformat": 4,
 "nbformat_minor": 4
}